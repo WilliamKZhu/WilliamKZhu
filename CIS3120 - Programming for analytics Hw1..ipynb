{
 "cells": [
  {
   "cell_type": "code",
   "execution_count": 12,
   "metadata": {
    "scrolled": true
   },
   "outputs": [],
   "source": [
    "import requests\n",
    "from bs4 import BeautifulSoup\n",
    "SwimmingMen=\"https://athletics.baruch.cuny.edu/sports/mens-swimming-and-diving/roster\"\n",
    "VolleyballMen=\"https://athletics.baruch.cuny.edu/sports/mens-volleyball/roster\"\n",
    "SwimmingWoman=\"https://athletics.baruch.cuny.edu/sports/womens-swimming-and-diving/roster\"\n",
    "VolleyballWoman=\"https://athletics.baruch.cuny.edu/sports/womens-volleyball/roster\""
   ]
  },
  {
   "cell_type": "code",
   "execution_count": 41,
   "metadata": {
    "scrolled": true
   },
   "outputs": [],
   "source": [
    "def height (url):\n",
    "    page= requests.get(url , verify=True)\n",
    "    soup = BeautifulSoup(page.content,'html.parser')\n",
    "    height = soup.findAll('span', class_ = \"sidearm-roster-player-height\")\n",
    "    roster_height=[]\n",
    "    for x in height:\n",
    "        roster_height.append(x.get_text())\n",
    "        #splitting standard imperial height into two categories. (ft)\n",
    "        ft= [(num.split(\"'\")[0])for num in roster_height]\n",
    "         #splitting standard imperial height into two categories. (inches)\n",
    "        inch1= [(num.split(\"'\")[1])for num in roster_height]\n",
    "        #replacing '\"' characters\n",
    "        inch = [char.replace('\"', \" \")for char in inch1]\n",
    "        #creating a loop to convert imperial system into metric (cm)\n",
    "        for num in range (0, len(ft)):\n",
    "            ft[num]= float(ft[num])* 30.48\n",
    "            inch[num]= float(inch[num])*2.54\n",
    "    #adding ft converted into cm, and in converted into cm for a total height\n",
    "    rostercm=  [ft + inch for ft, inch in zip (ft,inch)]\n",
    "    average= sum(rostercm)/len(rostercm)\n",
    "    #returning the heights (cm) of players\n",
    "    return  rostercm,average"
   ]
  },
  {
   "cell_type": "code",
   "execution_count": 42,
   "metadata": {
    "scrolled": true
   },
   "outputs": [
    {
     "data": {
      "text/plain": [
       "([195.57999999999998,\n",
       "  177.8,\n",
       "  175.26,\n",
       "  187.96,\n",
       "  195.57999999999998,\n",
       "  177.8,\n",
       "  172.72,\n",
       "  172.72,\n",
       "  177.8,\n",
       "  175.26,\n",
       "  170.18,\n",
       "  187.96,\n",
       "  182.88,\n",
       "  182.88,\n",
       "  180.34,\n",
       "  190.5,\n",
       "  177.8,\n",
       "  177.8,\n",
       "  165.1,\n",
       "  185.42,\n",
       "  175.26,\n",
       "  170.18,\n",
       "  190.5,\n",
       "  195.57999999999998,\n",
       "  177.8,\n",
       "  175.26,\n",
       "  187.96,\n",
       "  195.57999999999998,\n",
       "  177.8,\n",
       "  172.72,\n",
       "  172.72,\n",
       "  177.8,\n",
       "  175.26,\n",
       "  170.18,\n",
       "  187.96,\n",
       "  182.88,\n",
       "  182.88,\n",
       "  180.34,\n",
       "  190.5,\n",
       "  177.8,\n",
       "  177.8,\n",
       "  165.1,\n",
       "  185.42,\n",
       "  175.26,\n",
       "  170.18,\n",
       "  190.5],\n",
       " 180.2295652173914)"
      ]
     },
     "execution_count": 42,
     "metadata": {},
     "output_type": "execute_result"
    }
   ],
   "source": [
    "height(SwimmingMen)\n",
    "#average height of the mens swimming team is 180.229cm"
   ]
  },
  {
   "cell_type": "code",
   "execution_count": 45,
   "metadata": {
    "scrolled": true
   },
   "outputs": [
    {
     "data": {
      "text/plain": [
       "([154.94,\n",
       "  157.48000000000002,\n",
       "  175.26,\n",
       "  177.8,\n",
       "  170.18,\n",
       "  175.26,\n",
       "  154.94,\n",
       "  152.4,\n",
       "  160.02,\n",
       "  160.02,\n",
       "  162.56,\n",
       "  162.56,\n",
       "  167.64000000000001,\n",
       "  170.18,\n",
       "  154.94,\n",
       "  170.18,\n",
       "  160.02,\n",
       "  154.94,\n",
       "  157.48000000000002,\n",
       "  175.26,\n",
       "  177.8,\n",
       "  170.18,\n",
       "  175.26,\n",
       "  154.94,\n",
       "  152.4,\n",
       "  160.02,\n",
       "  160.02,\n",
       "  162.56,\n",
       "  162.56,\n",
       "  167.64000000000001,\n",
       "  170.18,\n",
       "  154.94,\n",
       "  170.18,\n",
       "  160.02],\n",
       " 163.904705882353)"
      ]
     },
     "execution_count": 45,
     "metadata": {},
     "output_type": "execute_result"
    }
   ],
   "source": [
    "height(SwimmingWoman)\n",
    "#average height of the womans swimming team is 163.905cm"
   ]
  },
  {
   "cell_type": "code",
   "execution_count": 46,
   "metadata": {
    "scrolled": true
   },
   "outputs": [
    {
     "data": {
      "text/plain": [
       "([175.26,\n",
       "  193.04,\n",
       "  182.88,\n",
       "  177.8,\n",
       "  187.96,\n",
       "  190.5,\n",
       "  182.88,\n",
       "  177.8,\n",
       "  175.26,\n",
       "  195.57999999999998,\n",
       "  193.04,\n",
       "  193.04,\n",
       "  195.57999999999998,\n",
       "  185.42,\n",
       "  190.5,\n",
       "  190.5,\n",
       "  187.96,\n",
       "  175.26,\n",
       "  193.04,\n",
       "  182.88,\n",
       "  177.8,\n",
       "  187.96,\n",
       "  190.5,\n",
       "  182.88,\n",
       "  177.8,\n",
       "  175.26,\n",
       "  195.57999999999998,\n",
       "  193.04,\n",
       "  193.04,\n",
       "  195.57999999999998,\n",
       "  185.42,\n",
       "  190.5,\n",
       "  190.5,\n",
       "  187.96],\n",
       " 186.76470588235296)"
      ]
     },
     "execution_count": 46,
     "metadata": {},
     "output_type": "execute_result"
    }
   ],
   "source": [
    "height(VolleyballMen)\n",
    "#average height of the mens volleyball is 186.765"
   ]
  },
  {
   "cell_type": "code",
   "execution_count": 47,
   "metadata": {
    "scrolled": true
   },
   "outputs": [
    {
     "data": {
      "text/plain": [
       "([177.8,\n",
       "  157.48000000000002,\n",
       "  167.64000000000001,\n",
       "  182.88,\n",
       "  180.34,\n",
       "  152.4,\n",
       "  162.56,\n",
       "  167.64000000000001,\n",
       "  165.1,\n",
       "  170.18,\n",
       "  162.56,\n",
       "  154.94,\n",
       "  167.64000000000001,\n",
       "  170.18,\n",
       "  177.8,\n",
       "  157.48000000000002,\n",
       "  167.64000000000001,\n",
       "  182.88,\n",
       "  180.34,\n",
       "  152.4,\n",
       "  162.56,\n",
       "  167.64000000000001,\n",
       "  165.1,\n",
       "  170.18,\n",
       "  162.56,\n",
       "  154.94,\n",
       "  167.64000000000001,\n",
       "  170.18],\n",
       " 167.0957142857143)"
      ]
     },
     "execution_count": 47,
     "metadata": {},
     "output_type": "execute_result"
    }
   ],
   "source": [
    "height(VolleyballWoman)\n",
    "#average height of the womans volleyball team is 167.096"
   ]
  },
  {
   "cell_type": "code",
   "execution_count": null,
   "metadata": {},
   "outputs": [],
   "source": [
    "#average volleyballplayer height is 176.9305\n",
    "#average swimmer height is 172.067\n",
    "#on average, volleyball players are taller."
   ]
  }
 ],
 "metadata": {
  "kernelspec": {
   "display_name": "Python 3",
   "language": "python",
   "name": "python3"
  },
  "language_info": {
   "codemirror_mode": {
    "name": "ipython",
    "version": 3
   },
   "file_extension": ".py",
   "mimetype": "text/x-python",
   "name": "python",
   "nbconvert_exporter": "python",
   "pygments_lexer": "ipython3",
   "version": "3.8.5"
  }
 },
 "nbformat": 4,
 "nbformat_minor": 4
}
