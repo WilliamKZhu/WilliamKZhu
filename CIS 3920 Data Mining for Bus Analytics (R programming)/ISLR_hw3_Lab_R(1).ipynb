{
  "nbformat": 4,
  "nbformat_minor": 0,
  "metadata": {
    "kernelspec": {
      "display_name": "R",
      "language": "R",
      "name": "ir"
    },
    "language_info": {
      "codemirror_mode": "r",
      "file_extension": ".r",
      "mimetype": "text/x-r-source",
      "name": "R",
      "pygments_lexer": "r",
      "version": "3.6.1"
    },
    "colab": {
      "name": "ISLR_Ch4_Lab_R.ipynb",
      "provenance": []
    }
  },
  "cells": [
    {
      "cell_type": "markdown",
      "metadata": {
        "id": "vqjYo-l6JdA0"
      },
      "source": [
        "# ISLR Chapter Lab 4.6\n",
        "# Lab: Logistic Regression, LDA, QDA, and KNN\n"
      ]
    },
    {
      "cell_type": "markdown",
      "metadata": {
        "id": "w_Yx8VRwJdBA"
      },
      "source": [
        "In this lab we will go over how to perform logistic regression, linear and quadratic discriminant analysis, and k-nearest neighbors in order to predict categorical responses in `R`."
      ]
    },
    {
      "cell_type": "markdown",
      "metadata": {
        "id": "4bjHACCBJdBC"
      },
      "source": [
        "## The Stock Market Data"
      ]
    },
    {
      "cell_type": "markdown",
      "metadata": {
        "id": "jPpGtLXNJdBD"
      },
      "source": [
        "First, we'll look at some numerical and graphical summaries of the `Smarket` data set from the `ISLR` library. It consists of the percentage returns for the S&P 500 stock index over 1,250 days, from the beginning of 2001 until the end of 2005. For each date, there are the following pieces of information:\n",
        "\n",
        "- `Lag1` through `Lag5`: the percentage returns for each of the five previous trading days\n",
        "- `Volume`: the number of shares traded on the previous day, in billions\n",
        "- `Today`: the percentage return on the date in question\n",
        "- `Direction`: whether the market was `Up` (positive percentage return) or `Down` (negative percentage return) on this date.\n",
        "\n",
        "Let's load the ISLR library and then also export the `Smarket` set to a CSV file for future use when I go back to do this lab in Python. After that, we'll take a peak at a basic summary of the set. "
      ]
    },
    {
      "cell_type": "code",
      "metadata": {
        "colab": {
          "base_uri": "https://localhost:8080/"
        },
        "id": "tJzV0xv2JdBE",
        "outputId": "2a580786-7479-4aa9-d67c-f9eaf43ddfc4"
      },
      "source": [
        "install.packages(\"ISLR\", repos='http://cran.us.r-project.org')\r\n",
        "library(ISLR)"
      ],
      "execution_count": 75,
      "outputs": [
        {
          "output_type": "stream",
          "text": [
            "Installing package into ‘/usr/local/lib/R/site-library’\n",
            "(as ‘lib’ is unspecified)\n",
            "\n"
          ],
          "name": "stderr"
        }
      ]
    },
    {
      "cell_type": "code",
      "metadata": {
        "id": "4XmTzrrlJdBF"
      },
      "source": [
        "write.csv(Smarket, \"Smarket.csv\")"
      ],
      "execution_count": 76,
      "outputs": []
    },
    {
      "cell_type": "code",
      "metadata": {
        "colab": {
          "base_uri": "https://localhost:8080/",
          "height": 34
        },
        "id": "dF3YnHr8JdBG",
        "outputId": "21d3beeb-29b2-4fd4-9414-32f562b1c884"
      },
      "source": [
        "names(Smarket)"
      ],
      "execution_count": 77,
      "outputs": [
        {
          "output_type": "display_data",
          "data": {
            "text/plain": [
              "[1] \"Year\"      \"Lag1\"      \"Lag2\"      \"Lag3\"      \"Lag4\"      \"Lag5\"     \n",
              "[7] \"Volume\"    \"Today\"     \"Direction\""
            ],
            "text/latex": "\\begin{enumerate*}\n\\item 'Year'\n\\item 'Lag1'\n\\item 'Lag2'\n\\item 'Lag3'\n\\item 'Lag4'\n\\item 'Lag5'\n\\item 'Volume'\n\\item 'Today'\n\\item 'Direction'\n\\end{enumerate*}\n",
            "text/markdown": "1. 'Year'\n2. 'Lag1'\n3. 'Lag2'\n4. 'Lag3'\n5. 'Lag4'\n6. 'Lag5'\n7. 'Volume'\n8. 'Today'\n9. 'Direction'\n\n\n",
            "text/html": [
              "<style>\n",
              ".list-inline {list-style: none; margin:0; padding: 0}\n",
              ".list-inline>li {display: inline-block}\n",
              ".list-inline>li:not(:last-child)::after {content: \"\\00b7\"; padding: 0 .5ex}\n",
              "</style>\n",
              "<ol class=list-inline><li>'Year'</li><li>'Lag1'</li><li>'Lag2'</li><li>'Lag3'</li><li>'Lag4'</li><li>'Lag5'</li><li>'Volume'</li><li>'Today'</li><li>'Direction'</li></ol>\n"
            ]
          },
          "metadata": {
            "tags": []
          }
        }
      ]
    },
    {
      "cell_type": "code",
      "metadata": {
        "colab": {
          "base_uri": "https://localhost:8080/",
          "height": 34
        },
        "id": "sDXgffHTJdBH",
        "outputId": "97ee3a55-9c20-4d22-88b5-f11dd4171d4c"
      },
      "source": [
        "dim(Smarket)"
      ],
      "execution_count": 78,
      "outputs": [
        {
          "output_type": "display_data",
          "data": {
            "text/plain": [
              "[1] 1250    9"
            ],
            "text/latex": "\\begin{enumerate*}\n\\item 1250\n\\item 9\n\\end{enumerate*}\n",
            "text/markdown": "1. 1250\n2. 9\n\n\n",
            "text/html": [
              "<style>\n",
              ".list-inline {list-style: none; margin:0; padding: 0}\n",
              ".list-inline>li {display: inline-block}\n",
              ".list-inline>li:not(:last-child)::after {content: \"\\00b7\"; padding: 0 .5ex}\n",
              "</style>\n",
              "<ol class=list-inline><li>1250</li><li>9</li></ol>\n"
            ]
          },
          "metadata": {
            "tags": []
          }
        }
      ]
    },
    {
      "cell_type": "code",
      "metadata": {
        "colab": {
          "base_uri": "https://localhost:8080/",
          "height": 374
        },
        "id": "_xhNNY30JdBH",
        "outputId": "3444b3dd-304e-4aff-f43d-45b0bf348571"
      },
      "source": [
        "summary(Smarket)"
      ],
      "execution_count": 79,
      "outputs": [
        {
          "output_type": "display_data",
          "data": {
            "text/plain": [
              "      Year           Lag1                Lag2                Lag3          \n",
              " Min.   :2001   Min.   :-4.922000   Min.   :-4.922000   Min.   :-4.922000  \n",
              " 1st Qu.:2002   1st Qu.:-0.639500   1st Qu.:-0.639500   1st Qu.:-0.640000  \n",
              " Median :2003   Median : 0.039000   Median : 0.039000   Median : 0.038500  \n",
              " Mean   :2003   Mean   : 0.003834   Mean   : 0.003919   Mean   : 0.001716  \n",
              " 3rd Qu.:2004   3rd Qu.: 0.596750   3rd Qu.: 0.596750   3rd Qu.: 0.596750  \n",
              " Max.   :2005   Max.   : 5.733000   Max.   : 5.733000   Max.   : 5.733000  \n",
              "      Lag4                Lag5              Volume           Today          \n",
              " Min.   :-4.922000   Min.   :-4.92200   Min.   :0.3561   Min.   :-4.922000  \n",
              " 1st Qu.:-0.640000   1st Qu.:-0.64000   1st Qu.:1.2574   1st Qu.:-0.639500  \n",
              " Median : 0.038500   Median : 0.03850   Median :1.4229   Median : 0.038500  \n",
              " Mean   : 0.001636   Mean   : 0.00561   Mean   :1.4783   Mean   : 0.003138  \n",
              " 3rd Qu.: 0.596750   3rd Qu.: 0.59700   3rd Qu.:1.6417   3rd Qu.: 0.596750  \n",
              " Max.   : 5.733000   Max.   : 5.73300   Max.   :3.1525   Max.   : 5.733000  \n",
              " Direction \n",
              " Down:602  \n",
              " Up  :648  \n",
              "           \n",
              "           \n",
              "           \n",
              "           "
            ]
          },
          "metadata": {
            "tags": []
          }
        }
      ]
    },
    {
      "cell_type": "markdown",
      "metadata": {
        "id": "1h3TWuCCJdBI"
      },
      "source": [
        "Lastly, before moving forward, we'll produce a scatterplot matrix of all the variables in the set."
      ]
    },
    {
      "cell_type": "code",
      "metadata": {
        "colab": {
          "base_uri": "https://localhost:8080/",
          "height": 437
        },
        "id": "A6YjnzW2JdBJ",
        "outputId": "348358ed-86cc-40df-e047-e6d04c2d3a4d"
      },
      "source": [
        "pairs(Smarket)"
      ],
      "execution_count": 80,
      "outputs": [
        {
          "output_type": "display_data",
          "data": {
            "image/png": "[encoded data removed]",
            "text/plain": [
              "plot without title"
            ]
          },
          "metadata": {
            "tags": [],
            "image/png": {
              "width": 420,
              "height": 420
            }
          }
        }
      ]
    },
    {
      "cell_type": "markdown",
      "metadata": {
        "id": "sHCrhEQxJdBJ"
      },
      "source": [
        "Next, let's produce a matrix of all the pairwise correlations among the variables in the data set. Note that since `Direction` is a qualitative variable we need to exclude it when using the `cor()` function. Otherwise, we'll get an error."
      ]
    },
    {
      "cell_type": "code",
      "metadata": {
        "colab": {
          "base_uri": "https://localhost:8080/",
          "height": 314
        },
        "id": "I2pqO3jAJdBJ",
        "outputId": "cc7de804-ca0d-40dc-ab7f-944e17cce1fd"
      },
      "source": [
        "cor(Smarket[, -9])"
      ],
      "execution_count": 81,
      "outputs": [
        {
          "output_type": "display_data",
          "data": {
            "text/plain": [
              "       Year       Lag1         Lag2         Lag3         Lag4        \n",
              "Year   1.00000000  0.029699649  0.030596422  0.033194581  0.035688718\n",
              "Lag1   0.02969965  1.000000000 -0.026294328 -0.010803402 -0.002985911\n",
              "Lag2   0.03059642 -0.026294328  1.000000000 -0.025896670 -0.010853533\n",
              "Lag3   0.03319458 -0.010803402 -0.025896670  1.000000000 -0.024051036\n",
              "Lag4   0.03568872 -0.002985911 -0.010853533 -0.024051036  1.000000000\n",
              "Lag5   0.02978799 -0.005674606 -0.003557949 -0.018808338 -0.027083641\n",
              "Volume 0.53900647  0.040909908 -0.043383215 -0.041823686 -0.048414246\n",
              "Today  0.03009523 -0.026155045 -0.010250033 -0.002447647 -0.006899527\n",
              "       Lag5         Volume      Today       \n",
              "Year    0.029787995  0.53900647  0.030095229\n",
              "Lag1   -0.005674606  0.04090991 -0.026155045\n",
              "Lag2   -0.003557949 -0.04338321 -0.010250033\n",
              "Lag3   -0.018808338 -0.04182369 -0.002447647\n",
              "Lag4   -0.027083641 -0.04841425 -0.006899527\n",
              "Lag5    1.000000000 -0.02200231 -0.034860083\n",
              "Volume -0.022002315  1.00000000  0.014591823\n",
              "Today  -0.034860083  0.01459182  1.000000000"
            ],
            "text/latex": "A matrix: 8 × 8 of type dbl\n\\begin{tabular}{r|llllllll}\n  & Year & Lag1 & Lag2 & Lag3 & Lag4 & Lag5 & Volume & Today\\\\\n\\hline\n\tYear & 1.00000000 &  0.029699649 &  0.030596422 &  0.033194581 &  0.035688718 &  0.029787995 &  0.53900647 &  0.030095229\\\\\n\tLag1 & 0.02969965 &  1.000000000 & -0.026294328 & -0.010803402 & -0.002985911 & -0.005674606 &  0.04090991 & -0.026155045\\\\\n\tLag2 & 0.03059642 & -0.026294328 &  1.000000000 & -0.025896670 & -0.010853533 & -0.003557949 & -0.04338321 & -0.010250033\\\\\n\tLag3 & 0.03319458 & -0.010803402 & -0.025896670 &  1.000000000 & -0.024051036 & -0.018808338 & -0.04182369 & -0.002447647\\\\\n\tLag4 & 0.03568872 & -0.002985911 & -0.010853533 & -0.024051036 &  1.000000000 & -0.027083641 & -0.04841425 & -0.006899527\\\\\n\tLag5 & 0.02978799 & -0.005674606 & -0.003557949 & -0.018808338 & -0.027083641 &  1.000000000 & -0.02200231 & -0.034860083\\\\\n\tVolume & 0.53900647 &  0.040909908 & -0.043383215 & -0.041823686 & -0.048414246 & -0.022002315 &  1.00000000 &  0.014591823\\\\\n\tToday & 0.03009523 & -0.026155045 & -0.010250033 & -0.002447647 & -0.006899527 & -0.034860083 &  0.01459182 &  1.000000000\\\\\n\\end{tabular}\n",
            "text/markdown": "\nA matrix: 8 × 8 of type dbl\n\n| <!--/--> | Year | Lag1 | Lag2 | Lag3 | Lag4 | Lag5 | Volume | Today |\n|---|---|---|---|---|---|---|---|---|\n| Year | 1.00000000 |  0.029699649 |  0.030596422 |  0.033194581 |  0.035688718 |  0.029787995 |  0.53900647 |  0.030095229 |\n| Lag1 | 0.02969965 |  1.000000000 | -0.026294328 | -0.010803402 | -0.002985911 | -0.005674606 |  0.04090991 | -0.026155045 |\n| Lag2 | 0.03059642 | -0.026294328 |  1.000000000 | -0.025896670 | -0.010853533 | -0.003557949 | -0.04338321 | -0.010250033 |\n| Lag3 | 0.03319458 | -0.010803402 | -0.025896670 |  1.000000000 | -0.024051036 | -0.018808338 | -0.04182369 | -0.002447647 |\n| Lag4 | 0.03568872 | -0.002985911 | -0.010853533 | -0.024051036 |  1.000000000 | -0.027083641 | -0.04841425 | -0.006899527 |\n| Lag5 | 0.02978799 | -0.005674606 | -0.003557949 | -0.018808338 | -0.027083641 |  1.000000000 | -0.02200231 | -0.034860083 |\n| Volume | 0.53900647 |  0.040909908 | -0.043383215 | -0.041823686 | -0.048414246 | -0.022002315 |  1.00000000 |  0.014591823 |\n| Today | 0.03009523 | -0.026155045 | -0.010250033 | -0.002447647 | -0.006899527 | -0.034860083 |  0.01459182 |  1.000000000 |\n\n",
            "text/html": [
              "<table class=\"dataframe\">\n",
              "<caption>A matrix: 8 × 8 of type dbl</caption>\n",
              "<thead>\n",
              "\t<tr><th></th><th scope=col>Year</th><th scope=col>Lag1</th><th scope=col>Lag2</th><th scope=col>Lag3</th><th scope=col>Lag4</th><th scope=col>Lag5</th><th scope=col>Volume</th><th scope=col>Today</th></tr>\n",
              "</thead>\n",
              "<tbody>\n",
              "\t<tr><th scope=row>Year</th><td>1.00000000</td><td> 0.029699649</td><td> 0.030596422</td><td> 0.033194581</td><td> 0.035688718</td><td> 0.029787995</td><td> 0.53900647</td><td> 0.030095229</td></tr>\n",
              "\t<tr><th scope=row>Lag1</th><td>0.02969965</td><td> 1.000000000</td><td>-0.026294328</td><td>-0.010803402</td><td>-0.002985911</td><td>-0.005674606</td><td> 0.04090991</td><td>-0.026155045</td></tr>\n",
              "\t<tr><th scope=row>Lag2</th><td>0.03059642</td><td>-0.026294328</td><td> 1.000000000</td><td>-0.025896670</td><td>-0.010853533</td><td>-0.003557949</td><td>-0.04338321</td><td>-0.010250033</td></tr>\n",
              "\t<tr><th scope=row>Lag3</th><td>0.03319458</td><td>-0.010803402</td><td>-0.025896670</td><td> 1.000000000</td><td>-0.024051036</td><td>-0.018808338</td><td>-0.04182369</td><td>-0.002447647</td></tr>\n",
              "\t<tr><th scope=row>Lag4</th><td>0.03568872</td><td>-0.002985911</td><td>-0.010853533</td><td>-0.024051036</td><td> 1.000000000</td><td>-0.027083641</td><td>-0.04841425</td><td>-0.006899527</td></tr>\n",
              "\t<tr><th scope=row>Lag5</th><td>0.02978799</td><td>-0.005674606</td><td>-0.003557949</td><td>-0.018808338</td><td>-0.027083641</td><td> 1.000000000</td><td>-0.02200231</td><td>-0.034860083</td></tr>\n",
              "\t<tr><th scope=row>Volume</th><td>0.53900647</td><td> 0.040909908</td><td>-0.043383215</td><td>-0.041823686</td><td>-0.048414246</td><td>-0.022002315</td><td> 1.00000000</td><td> 0.014591823</td></tr>\n",
              "\t<tr><th scope=row>Today</th><td>0.03009523</td><td>-0.026155045</td><td>-0.010250033</td><td>-0.002447647</td><td>-0.006899527</td><td>-0.034860083</td><td> 0.01459182</td><td> 1.000000000</td></tr>\n",
              "</tbody>\n",
              "</table>\n"
            ]
          },
          "metadata": {
            "tags": []
          }
        }
      ]
    },
    {
      "cell_type": "markdown",
      "metadata": {
        "id": "kVycCe7KJdBK"
      },
      "source": [
        "Looking at the last row, we see that the correlations between the lag variables and today's returns are close to zero, which means that there appears to be little correlation between today's returns and the returns from previous days. The only substantial correlation is between `Year` and `Volume`, with a value of 0.539. We can plot the data to see that `Volume` is increasing over time. In other words, the average number of shares traded daily increased from 2001 to 2005."
      ]
    },
    {
      "cell_type": "code",
      "metadata": {
        "colab": {
          "base_uri": "https://localhost:8080/",
          "height": 437
        },
        "id": "VU_O9d4iJdBL",
        "outputId": "eb076359-e0e5-45e3-c419-9d16c98091ac"
      },
      "source": [
        "plot(Smarket$Volume, xlab = \"Day\", ylab = \"Shares traded (in billions)\")"
      ],
      "execution_count": 82,
      "outputs": [
        {
          "output_type": "display_data",
          "data": {
            "image/png": "[encoded data removed]",
            "text/plain": [
              "plot without title"
            ]
          },
          "metadata": {
            "tags": [],
            "image/png": {
              "width": 420,
              "height": 420
            }
          }
        }
      ]
    },
    {
      "cell_type": "markdown",
      "metadata": {
        "id": "44dtOE5fJdBM"
      },
      "source": [
        "## Logistic Regression"
      ]
    },
    {
      "cell_type": "markdown",
      "metadata": {
        "id": "PfVpNwj6JdBM"
      },
      "source": [
        "We'll start off by fitting a logistic regression model in order to predict `Direction` using `Lag1` through `Lag5` and `Volume`. To do this, we'll use the `glm()` function, which fits *generalized linear models*, which is a class of models that includes linear regression. While the syntax for `glm()` is quite similar to that of `lm()`, we must pass in the additional argument `family` in order to tell `R` what kind of generalize linear model we are using. For logistic regression, we use `family = binomial`."
      ]
    },
    {
      "cell_type": "code",
      "metadata": {
        "colab": {
          "base_uri": "https://localhost:8080/",
          "height": 459
        },
        "id": "TAsVUreKJdBN",
        "outputId": "2e1313ef-551c-4c36-f961-6ac651acf0cb"
      },
      "source": [
        "glm.fits = glm(Direction ~ . - Year - Today, data = Smarket, family = binomial)\n",
        "summary(glm.fits)"
      ],
      "execution_count": 83,
      "outputs": [
        {
          "output_type": "display_data",
          "data": {
            "text/plain": [
              "\n",
              "Call:\n",
              "glm(formula = Direction ~ . - Year - Today, family = binomial, \n",
              "    data = Smarket)\n",
              "\n",
              "Deviance Residuals: \n",
              "   Min      1Q  Median      3Q     Max  \n",
              "-1.446  -1.203   1.065   1.145   1.326  \n",
              "\n",
              "Coefficients:\n",
              "             Estimate Std. Error z value Pr(>|z|)\n",
              "(Intercept) -0.126000   0.240736  -0.523    0.601\n",
              "Lag1        -0.073074   0.050167  -1.457    0.145\n",
              "Lag2        -0.042301   0.050086  -0.845    0.398\n",
              "Lag3         0.011085   0.049939   0.222    0.824\n",
              "Lag4         0.009359   0.049974   0.187    0.851\n",
              "Lag5         0.010313   0.049511   0.208    0.835\n",
              "Volume       0.135441   0.158360   0.855    0.392\n",
              "\n",
              "(Dispersion parameter for binomial family taken to be 1)\n",
              "\n",
              "    Null deviance: 1731.2  on 1249  degrees of freedom\n",
              "Residual deviance: 1727.6  on 1243  degrees of freedom\n",
              "AIC: 1741.6\n",
              "\n",
              "Number of Fisher Scoring iterations: 3\n"
            ]
          },
          "metadata": {
            "tags": []
          }
        }
      ]
    },
    {
      "cell_type": "markdown",
      "metadata": {
        "id": "zWw-mJ1RJdBN"
      },
      "source": [
        "While `Lag1` has the smallest p-value among all of the coefficient estimates, it still has a value of 0.145, which is still relatively large. Thus, even though the negative coefficient for `Lag1` suggests that if the market had a positive return yesterday, then it is less likely to go up today, there isn't any clear evidence of a real association between `Lag1` and `Direction`.\n",
        "\n",
        "As discussed in Lab 2, we can use the `coef()` function to access just the coefficients of the fitted model. In addition, we can also use the `summary()` function to access particular aspects of the fitted model, such as the p-values for the coefficients."
      ]
    },
    {
      "cell_type": "code",
      "metadata": {
        "colab": {
          "base_uri": "https://localhost:8080/",
          "height": 51
        },
        "id": "bxvioGHlJdBN",
        "outputId": "e075bf38-5b47-4bb2-b512-be39dedd31fa"
      },
      "source": [
        "coef(glm.fits)"
      ],
      "execution_count": 84,
      "outputs": [
        {
          "output_type": "display_data",
          "data": {
            "text/plain": [
              " (Intercept)         Lag1         Lag2         Lag3         Lag4         Lag5 \n",
              "-0.126000257 -0.073073746 -0.042301344  0.011085108  0.009358938  0.010313068 \n",
              "      Volume \n",
              " 0.135440659 "
            ],
            "text/latex": "\\begin{description*}\n\\item[(Intercept)] -0.126000256559266\n\\item[Lag1] -0.0730737458900261\n\\item[Lag2] -0.0423013440073083\n\\item[Lag3] 0.0110851083796762\n\\item[Lag4] 0.00935893837027871\n\\item[Lag5] 0.0103130684758179\n\\item[Volume] 0.13544065885916\n\\end{description*}\n",
            "text/markdown": "(Intercept)\n:   -0.126000256559266Lag1\n:   -0.0730737458900261Lag2\n:   -0.0423013440073083Lag3\n:   0.0110851083796762Lag4\n:   0.00935893837027871Lag5\n:   0.0103130684758179Volume\n:   0.13544065885916\n\n",
            "text/html": [
              "<style>\n",
              ".dl-inline {width: auto; margin:0; padding: 0}\n",
              ".dl-inline>dt, .dl-inline>dd {float: none; width: auto; display: inline-block}\n",
              ".dl-inline>dt::after {content: \":\\0020\"; padding-right: .5ex}\n",
              ".dl-inline>dt:not(:first-of-type) {padding-left: .5ex}\n",
              "</style><dl class=dl-inline><dt>(Intercept)</dt><dd>-0.126000256559266</dd><dt>Lag1</dt><dd>-0.0730737458900261</dd><dt>Lag2</dt><dd>-0.0423013440073083</dd><dt>Lag3</dt><dd>0.0110851083796762</dd><dt>Lag4</dt><dd>0.00935893837027871</dd><dt>Lag5</dt><dd>0.0103130684758179</dd><dt>Volume</dt><dd>0.13544065885916</dd></dl>\n"
            ]
          },
          "metadata": {
            "tags": []
          }
        }
      ]
    },
    {
      "cell_type": "code",
      "metadata": {
        "colab": {
          "base_uri": "https://localhost:8080/",
          "height": 283
        },
        "id": "rBAanFSSJdBO",
        "outputId": "55ee0db5-58d8-4616-cdd7-0f7c5df5d717"
      },
      "source": [
        "summary(glm.fits)$coef"
      ],
      "execution_count": 85,
      "outputs": [
        {
          "output_type": "display_data",
          "data": {
            "text/plain": [
              "            Estimate     Std. Error z value    Pr(>|z|) \n",
              "(Intercept) -0.126000257 0.24073574 -0.5233966 0.6006983\n",
              "Lag1        -0.073073746 0.05016739 -1.4565986 0.1452272\n",
              "Lag2        -0.042301344 0.05008605 -0.8445733 0.3983491\n",
              "Lag3         0.011085108 0.04993854  0.2219750 0.8243333\n",
              "Lag4         0.009358938 0.04997413  0.1872757 0.8514445\n",
              "Lag5         0.010313068 0.04951146  0.2082966 0.8349974\n",
              "Volume       0.135440659 0.15835970  0.8552723 0.3924004"
            ],
            "text/latex": "A matrix: 7 × 4 of type dbl\n\\begin{tabular}{r|llll}\n  & Estimate & Std. Error & z value & Pr(>\\textbar{}z\\textbar{})\\\\\n\\hline\n\t(Intercept) & -0.126000257 & 0.24073574 & -0.5233966 & 0.6006983\\\\\n\tLag1 & -0.073073746 & 0.05016739 & -1.4565986 & 0.1452272\\\\\n\tLag2 & -0.042301344 & 0.05008605 & -0.8445733 & 0.3983491\\\\\n\tLag3 &  0.011085108 & 0.04993854 &  0.2219750 & 0.8243333\\\\\n\tLag4 &  0.009358938 & 0.04997413 &  0.1872757 & 0.8514445\\\\\n\tLag5 &  0.010313068 & 0.04951146 &  0.2082966 & 0.8349974\\\\\n\tVolume &  0.135440659 & 0.15835970 &  0.8552723 & 0.3924004\\\\\n\\end{tabular}\n",
            "text/markdown": "\nA matrix: 7 × 4 of type dbl\n\n| <!--/--> | Estimate | Std. Error | z value | Pr(&gt;|z|) |\n|---|---|---|---|---|\n| (Intercept) | -0.126000257 | 0.24073574 | -0.5233966 | 0.6006983 |\n| Lag1 | -0.073073746 | 0.05016739 | -1.4565986 | 0.1452272 |\n| Lag2 | -0.042301344 | 0.05008605 | -0.8445733 | 0.3983491 |\n| Lag3 |  0.011085108 | 0.04993854 |  0.2219750 | 0.8243333 |\n| Lag4 |  0.009358938 | 0.04997413 |  0.1872757 | 0.8514445 |\n| Lag5 |  0.010313068 | 0.04951146 |  0.2082966 | 0.8349974 |\n| Volume |  0.135440659 | 0.15835970 |  0.8552723 | 0.3924004 |\n\n",
            "text/html": [
              "<table class=\"dataframe\">\n",
              "<caption>A matrix: 7 × 4 of type dbl</caption>\n",
              "<thead>\n",
              "\t<tr><th></th><th scope=col>Estimate</th><th scope=col>Std. Error</th><th scope=col>z value</th><th scope=col>Pr(&gt;|z|)</th></tr>\n",
              "</thead>\n",
              "<tbody>\n",
              "\t<tr><th scope=row>(Intercept)</th><td>-0.126000257</td><td>0.24073574</td><td>-0.5233966</td><td>0.6006983</td></tr>\n",
              "\t<tr><th scope=row>Lag1</th><td>-0.073073746</td><td>0.05016739</td><td>-1.4565986</td><td>0.1452272</td></tr>\n",
              "\t<tr><th scope=row>Lag2</th><td>-0.042301344</td><td>0.05008605</td><td>-0.8445733</td><td>0.3983491</td></tr>\n",
              "\t<tr><th scope=row>Lag3</th><td> 0.011085108</td><td>0.04993854</td><td> 0.2219750</td><td>0.8243333</td></tr>\n",
              "\t<tr><th scope=row>Lag4</th><td> 0.009358938</td><td>0.04997413</td><td> 0.1872757</td><td>0.8514445</td></tr>\n",
              "\t<tr><th scope=row>Lag5</th><td> 0.010313068</td><td>0.04951146</td><td> 0.2082966</td><td>0.8349974</td></tr>\n",
              "\t<tr><th scope=row>Volume</th><td> 0.135440659</td><td>0.15835970</td><td> 0.8552723</td><td>0.3924004</td></tr>\n",
              "</tbody>\n",
              "</table>\n"
            ]
          },
          "metadata": {
            "tags": []
          }
        }
      ]
    },
    {
      "cell_type": "code",
      "metadata": {
        "colab": {
          "base_uri": "https://localhost:8080/",
          "height": 51
        },
        "id": "CWafJeGpJdBO",
        "outputId": "8a85137c-51b9-4c7d-9e75-49f55f532227"
      },
      "source": [
        "summary(glm.fits)$coef[, 4]"
      ],
      "execution_count": 86,
      "outputs": [
        {
          "output_type": "display_data",
          "data": {
            "text/plain": [
              "(Intercept)        Lag1        Lag2        Lag3        Lag4        Lag5 \n",
              "  0.6006983   0.1452272   0.3983491   0.8243333   0.8514445   0.8349974 \n",
              "     Volume \n",
              "  0.3924004 "
            ],
            "text/latex": "\\begin{description*}\n\\item[(Intercept)] 0.600698319413356\n\\item[Lag1] 0.145227211568647\n\\item[Lag2] 0.398349095427021\n\\item[Lag3] 0.824333346101536\n\\item[Lag4] 0.851444506926455\n\\item[Lag5] 0.834997390499829\n\\item[Volume] 0.39240043320243\n\\end{description*}\n",
            "text/markdown": "(Intercept)\n:   0.600698319413356Lag1\n:   0.145227211568647Lag2\n:   0.398349095427021Lag3\n:   0.824333346101536Lag4\n:   0.851444506926455Lag5\n:   0.834997390499829Volume\n:   0.39240043320243\n\n",
            "text/html": [
              "<style>\n",
              ".dl-inline {width: auto; margin:0; padding: 0}\n",
              ".dl-inline>dt, .dl-inline>dd {float: none; width: auto; display: inline-block}\n",
              ".dl-inline>dt::after {content: \":\\0020\"; padding-right: .5ex}\n",
              ".dl-inline>dt:not(:first-of-type) {padding-left: .5ex}\n",
              "</style><dl class=dl-inline><dt>(Intercept)</dt><dd>0.600698319413356</dd><dt>Lag1</dt><dd>0.145227211568647</dd><dt>Lag2</dt><dd>0.398349095427021</dd><dt>Lag3</dt><dd>0.824333346101536</dd><dt>Lag4</dt><dd>0.851444506926455</dd><dt>Lag5</dt><dd>0.834997390499829</dd><dt>Volume</dt><dd>0.39240043320243</dd></dl>\n"
            ]
          },
          "metadata": {
            "tags": []
          }
        }
      ]
    },
    {
      "cell_type": "markdown",
      "metadata": {
        "id": "3jI79jwOJdBP"
      },
      "source": [
        "In order to make a prediction, we use the `predict()` function to use the model to compute the probability that the market will go up for a set of given values of the predictors. Note that we need to specify that `type = \"response\"` in order to tell `R` to output probabilities of the form $P(Y = 1 | X)$, as oppsed to other information souch as the logit. If we don't supply a data set to the `predict()` function, then it will compute the probabilties for the training data that was used to fit the model. Here are the first ten probabilities that `predict()` computed."
      ]
    },
    {
      "cell_type": "code",
      "metadata": {
        "id": "hMsUke9aJdBP"
      },
      "source": [
        "glm.probs = predict(glm.fits, type = \"response\")"
      ],
      "execution_count": 87,
      "outputs": []
    },
    {
      "cell_type": "code",
      "metadata": {
        "scrolled": true,
        "colab": {
          "base_uri": "https://localhost:8080/",
          "height": 51
        },
        "id": "-6LMcho6JdBQ",
        "outputId": "f41542a7-9670-460d-ca4c-1d617f2f6916"
      },
      "source": [
        "glm.probs[1:10]"
      ],
      "execution_count": 88,
      "outputs": [
        {
          "output_type": "display_data",
          "data": {
            "text/plain": [
              "        1         2         3         4         5         6         7         8 \n",
              "0.5070841 0.4814679 0.4811388 0.5152224 0.5107812 0.5069565 0.4926509 0.5092292 \n",
              "        9        10 \n",
              "0.5176135 0.4888378 "
            ],
            "text/latex": "\\begin{description*}\n\\item[1] 0.507084133395402\n\\item[2] 0.481467878454591\n\\item[3] 0.481138835214201\n\\item[4] 0.515222355813022\n\\item[5] 0.510781162691538\n\\item[6] 0.506956460534911\n\\item[7] 0.492650874187038\n\\item[8] 0.509229158207377\n\\item[9] 0.517613526170958\n\\item[10] 0.488837779771376\n\\end{description*}\n",
            "text/markdown": "1\n:   0.5070841333954022\n:   0.4814678784545913\n:   0.4811388352142014\n:   0.5152223558130225\n:   0.5107811626915386\n:   0.5069564605349117\n:   0.4926508741870388\n:   0.5092291582073779\n:   0.51761352617095810\n:   0.488837779771376\n\n",
            "text/html": [
              "<style>\n",
              ".dl-inline {width: auto; margin:0; padding: 0}\n",
              ".dl-inline>dt, .dl-inline>dd {float: none; width: auto; display: inline-block}\n",
              ".dl-inline>dt::after {content: \":\\0020\"; padding-right: .5ex}\n",
              ".dl-inline>dt:not(:first-of-type) {padding-left: .5ex}\n",
              "</style><dl class=dl-inline><dt>1</dt><dd>0.507084133395402</dd><dt>2</dt><dd>0.481467878454591</dd><dt>3</dt><dd>0.481138835214201</dd><dt>4</dt><dd>0.515222355813022</dd><dt>5</dt><dd>0.510781162691538</dd><dt>6</dt><dd>0.506956460534911</dd><dt>7</dt><dd>0.492650874187038</dd><dt>8</dt><dd>0.509229158207377</dd><dt>9</dt><dd>0.517613526170958</dd><dt>10</dt><dd>0.488837779771376</dd></dl>\n"
            ]
          },
          "metadata": {
            "tags": []
          }
        }
      ]
    },
    {
      "cell_type": "markdown",
      "metadata": {
        "id": "JdIJfRlfJdBR"
      },
      "source": [
        "These values correspond to the probability of the market going up, rather than down, since `R` created a dummy variable with value 1 for `Up` and 0 for `Down`. We can verify this using the `contrasts()` function"
      ]
    },
    {
      "cell_type": "code",
      "metadata": {
        "colab": {
          "base_uri": "https://localhost:8080/",
          "height": 145
        },
        "id": "lUED1Jf0JdBR",
        "outputId": "bcf81dd2-18a1-4fb4-bc52-880bdc25b4ea"
      },
      "source": [
        "contrasts(Smarket$Direction)"
      ],
      "execution_count": 89,
      "outputs": [
        {
          "output_type": "display_data",
          "data": {
            "text/plain": [
              "     Up\n",
              "Down 0 \n",
              "Up   1 "
            ],
            "text/latex": "A matrix: 2 × 1 of type dbl\n\\begin{tabular}{r|l}\n  & Up\\\\\n\\hline\n\tDown & 0\\\\\n\tUp & 1\\\\\n\\end{tabular}\n",
            "text/markdown": "\nA matrix: 2 × 1 of type dbl\n\n| <!--/--> | Up |\n|---|---|\n| Down | 0 |\n| Up | 1 |\n\n",
            "text/html": [
              "<table class=\"dataframe\">\n",
              "<caption>A matrix: 2 × 1 of type dbl</caption>\n",
              "<thead>\n",
              "\t<tr><th></th><th scope=col>Up</th></tr>\n",
              "</thead>\n",
              "<tbody>\n",
              "\t<tr><th scope=row>Down</th><td>0</td></tr>\n",
              "\t<tr><th scope=row>Up</th><td>1</td></tr>\n",
              "</tbody>\n",
              "</table>\n"
            ]
          },
          "metadata": {
            "tags": []
          }
        }
      ]
    },
    {
      "cell_type": "markdown",
      "metadata": {
        "id": "KzmP1KUWJdBS"
      },
      "source": [
        "To make it easier for us to make predictions as to whether the market will go up or down on a particular day, we convert the predicted probabilities into class labels `Up` or `Down`. First, we create a vector of 1,250 `Down` entries."
      ]
    },
    {
      "cell_type": "code",
      "metadata": {
        "id": "BJEcWba4JdBT"
      },
      "source": [
        "glm.pred = rep(\"Down\", 1250)"
      ],
      "execution_count": 90,
      "outputs": []
    },
    {
      "cell_type": "markdown",
      "metadata": {
        "id": "8X1UHHiCJdBU"
      },
      "source": [
        "Next, we use a boolean mask to change all of the elements for which the predicted probability of a market increase exceeds 0.5 from `Down` to `Up`."
      ]
    },
    {
      "cell_type": "code",
      "metadata": {
        "id": "7Je6XgNMJdBU"
      },
      "source": [
        "glm.pred[glm.probs > 0.5] = \"Up\""
      ],
      "execution_count": 91,
      "outputs": []
    },
    {
      "cell_type": "markdown",
      "metadata": {
        "id": "NOK04YZAJdBV"
      },
      "source": [
        "With these predictions in hand, we can use the `table()` function to produce a confusion matrix in order to determine how many observations were correctly or incorrectly labeled."
      ]
    },
    {
      "cell_type": "code",
      "metadata": {
        "colab": {
          "base_uri": "https://localhost:8080/",
          "height": 85
        },
        "id": "2eeB_gWpJdBW",
        "outputId": "ad602b66-59bb-4988-9a76-7c6a79b54ed3"
      },
      "source": [
        "table(glm.pred, Smarket$Direction)"
      ],
      "execution_count": 92,
      "outputs": [
        {
          "output_type": "display_data",
          "data": {
            "text/plain": [
              "        \n",
              "glm.pred Down  Up\n",
              "    Down  145 141\n",
              "    Up    457 507"
            ]
          },
          "metadata": {
            "tags": []
          }
        }
      ]
    },
    {
      "cell_type": "markdown",
      "metadata": {
        "id": "jv38cQxPJdBW"
      },
      "source": [
        "The diagonal of the confusion matrix represents correct predictions, while the off-diagonal represents incorrect predictions. Thus, the model correctly predicted that the market would go up on 507 days and go down on 145 days, for a total of 652 correct prediction. This means that logistic regression correctly predicted the movement of the market $652/1250 = 52.16\\%$ of the time. Another way we can compute this is to use the `mean()` function."
      ]
    },
    {
      "cell_type": "code",
      "metadata": {
        "colab": {
          "base_uri": "https://localhost:8080/",
          "height": 34
        },
        "id": "JQh_G_GXJdBX",
        "outputId": "7ad250c1-4767-4ac7-e17e-2b2e7be04796"
      },
      "source": [
        "mean(glm.pred == Smarket$Direction)"
      ],
      "execution_count": 93,
      "outputs": [
        {
          "output_type": "display_data",
          "data": {
            "text/plain": [
              "[1] 0.5216"
            ],
            "text/latex": "0.5216",
            "text/markdown": "0.5216",
            "text/html": [
              "0.5216"
            ]
          },
          "metadata": {
            "tags": []
          }
        }
      ]
    },
    {
      "cell_type": "markdown",
      "metadata": {
        "id": "aKy-82xnJdBZ"
      },
      "source": [
        "This works because the `glm.pred == Smarket$Direction` is a boolean vector, and in the context of the `mean()` function the value `TRUE` is treated as 1 and `FALSE` is treated as 0.\n",
        "\n",
        "Note that this correct prediction rate of 52.16% comes from testing our logistic regression model on the same data set we used for training. In other words, our *training* error rate is 47.84. Since the training error rate tends to underestimate the test error rate, the correct prediction rate isn't as good as it might initially seem. One way we can better assess the accuracy of the logistic regression model in this setting is to fif the model using part of the data, and then examine how well it performs when predicting the *held out* data. Since in practice we are more interested with how well our model performs on days in the future for which the market's movements are unknown, this will yield a more realistic error rate. In order to implement this strategy, we'll again use a boolean mask to separate out the observations from 2001 through 2004 from the observations from 2005."
      ]
    },
    {
      "cell_type": "code",
      "metadata": {
        "id": "gA4B3LfCJdBa"
      },
      "source": [
        "train = (Smarket$Year < 2005)"
      ],
      "execution_count": 94,
      "outputs": []
    },
    {
      "cell_type": "markdown",
      "metadata": {
        "id": "FyeaSnmqJdBb"
      },
      "source": [
        "To start with, we create a boolean mask where each element is either `TRUE` if it corresponds to an observation that occurred before 2005 or `FALSE` if it corresponds to an observation that occurred in 2005."
      ]
    },
    {
      "cell_type": "code",
      "metadata": {
        "id": "jowoodIvJdBc"
      },
      "source": [
        "Smarket.2005 = Smarket[!train, ]"
      ],
      "execution_count": 95,
      "outputs": []
    },
    {
      "cell_type": "markdown",
      "metadata": {
        "id": "yqtMFTvfJdBd"
      },
      "source": [
        "We then use the mask to pick out the submatrix of the stock market data set which consists of all columns, and only the rows for which the elements of `train` are false. In other words, `Smarket.2005` is a copy of the submatrix of `Smarket` consisting only of all observations from 2005. Note that we didn't need to create the mask `train` separately, but doing so is good practice to allow us to easily manipulate our training set in a single place."
      ]
    },
    {
      "cell_type": "code",
      "metadata": {
        "colab": {
          "base_uri": "https://localhost:8080/",
          "height": 34
        },
        "id": "TwIHWVOmJdBd",
        "outputId": "c2dc3964-65d5-4e7e-ade1-e6b034f97aa2"
      },
      "source": [
        "identical(Smarket.2005, Smarket[!(Smarket$Year < 2005), ])"
      ],
      "execution_count": 96,
      "outputs": [
        {
          "output_type": "display_data",
          "data": {
            "text/plain": [
              "[1] TRUE"
            ],
            "text/latex": "TRUE",
            "text/markdown": "TRUE",
            "text/html": [
              "TRUE"
            ]
          },
          "metadata": {
            "tags": []
          }
        }
      ]
    },
    {
      "cell_type": "markdown",
      "metadata": {
        "id": "I3RffiTDJdBe"
      },
      "source": [
        "In addition, creating the mask separately saves us a little bit of typing when fitting a logistic regresison model using only the subset of the observations that correspond to dates before 2005. To do so, we use the `subset` argument."
      ]
    },
    {
      "cell_type": "code",
      "metadata": {
        "id": "eMacDTZQJdBe"
      },
      "source": [
        "glm.fits = glm(Direction ~ . - Year - Today, data = Smarket, family = binomial, subset = train)\n",
        "glm.probs = predict(glm.fits, Smarket.2005, type = \"response\")"
      ],
      "execution_count": 97,
      "outputs": []
    },
    {
      "cell_type": "markdown",
      "metadata": {
        "id": "BXW3D6DAJdBf"
      },
      "source": [
        "Again we emphasize that we trained and tested our model on two completely separate data sets: we used only the dates from before 2005 for training, and only used dates from 2005 for testing. Again lets compute the predictions for 2005 and compare them to the actual movements of the market over that time period."
      ]
    },
    {
      "cell_type": "code",
      "metadata": {
        "colab": {
          "base_uri": "https://localhost:8080/",
          "height": 85
        },
        "id": "ApOhA4O-JdBf",
        "outputId": "c8eedec3-4d9c-4b69-9e4e-f4038fce2581"
      },
      "source": [
        "glm.pred = rep(\"Down\", dim(Smarket.2005)[1])\n",
        "glm.pred[glm.probs > 0.5] = \"Up\"\n",
        "table(glm.pred, Smarket.2005$Direction)"
      ],
      "execution_count": 98,
      "outputs": [
        {
          "output_type": "display_data",
          "data": {
            "text/plain": [
              "        \n",
              "glm.pred Down Up\n",
              "    Down   77 97\n",
              "    Up     34 44"
            ]
          },
          "metadata": {
            "tags": []
          }
        }
      ]
    },
    {
      "cell_type": "code",
      "metadata": {
        "colab": {
          "base_uri": "https://localhost:8080/",
          "height": 34
        },
        "id": "0mNkCp_XJdBf",
        "outputId": "f8e2a124-c6ad-4dfd-edb9-db2e7bf9c372"
      },
      "source": [
        "mean(glm.pred == Smarket.2005$Direction)"
      ],
      "execution_count": 99,
      "outputs": [
        {
          "output_type": "display_data",
          "data": {
            "text/plain": [
              "[1] 0.4801587"
            ],
            "text/latex": "0.48015873015873",
            "text/markdown": "0.48015873015873",
            "text/html": [
              "0.48015873015873"
            ]
          },
          "metadata": {
            "tags": []
          }
        }
      ]
    },
    {
      "cell_type": "code",
      "metadata": {
        "colab": {
          "base_uri": "https://localhost:8080/",
          "height": 34
        },
        "id": "mgR-v2HpJdBg",
        "outputId": "3fad8fcc-5ffe-4f48-a2d0-72aeb7f0ea2f"
      },
      "source": [
        "mean(glm.pred != Smarket.2005$Direction)"
      ],
      "execution_count": 100,
      "outputs": [
        {
          "output_type": "display_data",
          "data": {
            "text/plain": [
              "[1] 0.5198413"
            ],
            "text/latex": "0.51984126984127",
            "text/markdown": "0.51984126984127",
            "text/html": [
              "0.51984126984127"
            ]
          },
          "metadata": {
            "tags": []
          }
        }
      ]
    },
    {
      "cell_type": "markdown",
      "metadata": {
        "id": "vJfyosraJdBh"
      },
      "source": [
        "Here, we see that when we used separate training and testing sets the test error rate is about 52%, which is worse than random guessing! This suggests that we should try to experiment some more to see if we can improve our model. One thing we can try is removing the variables that didn't seem to be helpful in predicting `Direction` and refit the logistic regression model. As we recall, none of the p-values for the predictors were particularly small, even the smallest one which corresponded to `Lag1`. Since using predictors that have no relationship with the response increase the variance of a model without a corresponding decrease in bias, they therefore tend to negatively impact the test error rate. Let's try refitting the logistic regression using just `Lag1` and `Lag2`, which seemed to have the highest predictive power in the original logistic regression model."
      ]
    },
    {
      "cell_type": "code",
      "metadata": {
        "colab": {
          "base_uri": "https://localhost:8080/",
          "height": 85
        },
        "id": "4zyJIxCUJdBi",
        "outputId": "9e99bc39-6b84-4915-9601-c78190d31d07"
      },
      "source": [
        "glm.fits = glm(Direction ~ Lag1 + Lag2, data = Smarket, family = binomial, subset = train)\n",
        "glm.probs = predict(glm.fits, Smarket.2005, type = \"response\")\n",
        "glm.pred = rep(\"Down\", dim(Smarket.2005)[1])\n",
        "glm.pred[glm.probs > 0.5] = \"Up\"\n",
        "table(glm.pred, Smarket.2005$Direction)"
      ],
      "execution_count": 101,
      "outputs": [
        {
          "output_type": "display_data",
          "data": {
            "text/plain": [
              "        \n",
              "glm.pred Down  Up\n",
              "    Down   35  35\n",
              "    Up     76 106"
            ]
          },
          "metadata": {
            "tags": []
          }
        }
      ]
    },
    {
      "cell_type": "code",
      "metadata": {
        "colab": {
          "base_uri": "https://localhost:8080/",
          "height": 34
        },
        "id": "2miWQOGJJdBk",
        "outputId": "5eaba3fc-9d3f-4c54-ecff-5ab7460cde8b"
      },
      "source": [
        "mean(glm.pred == Smarket.2005$Direction)"
      ],
      "execution_count": 102,
      "outputs": [
        {
          "output_type": "display_data",
          "data": {
            "text/plain": [
              "[1] 0.5595238"
            ],
            "text/latex": "0.55952380952381",
            "text/markdown": "0.55952380952381",
            "text/html": [
              "0.55952380952381"
            ]
          },
          "metadata": {
            "tags": []
          }
        }
      ]
    },
    {
      "cell_type": "markdown",
      "metadata": {
        "id": "pZnd8orKJdBl"
      },
      "source": [
        "Here things look a little better, since about 56% of the daily movements in 2005 were correctly predicted. However, if we predicted that the market would increase every day we would also have the same error rate."
      ]
    },
    {
      "cell_type": "code",
      "metadata": {
        "colab": {
          "base_uri": "https://localhost:8080/",
          "height": 34
        },
        "id": "U8C_z6xQJdBm",
        "outputId": "00b4b261-f93a-47ba-8d03-1781499309f9"
      },
      "source": [
        "mean(Smarket.2005$Direction == \"Up\")"
      ],
      "execution_count": 103,
      "outputs": [
        {
          "output_type": "display_data",
          "data": {
            "text/plain": [
              "[1] 0.5595238"
            ],
            "text/latex": "0.55952380952381",
            "text/markdown": "0.55952380952381",
            "text/html": [
              "0.55952380952381"
            ]
          },
          "metadata": {
            "tags": []
          }
        }
      ]
    },
    {
      "cell_type": "markdown",
      "metadata": {
        "id": "NCA3h76oJdBm"
      },
      "source": [
        "Thus, in terms of the overall error rate, logistic regression is no better than naively predicting that the market would increase every day. However, when we examine the confusion matrix a little more closely we can see that on days when logistic regression predicts an increase in the maket, it has a slightly better accuracy rate of $106 / (106 + 76) = 0.582$. This suggests a possible strategy of buying on days when the model predicts an increasing market, and avoiding trades when the model predicts a decreasing market. Without further investigation, though, we do not know if this small improvement is real or just due to random chance.\n",
        "\n",
        "Lastly, if we wish to predict the returns associated with particular values of `Lag1` and `Lag2`, such as on a day when `Lag1 = 1.2` and `Lag2 = 1.1`, or on a day when `Lag1 = 1.5` and `Lag2 = -0.8`, we can do this using the `predict()` function."
      ]
    },
    {
      "cell_type": "code",
      "metadata": {
        "colab": {
          "base_uri": "https://localhost:8080/",
          "height": 34
        },
        "id": "pj5CsN4mJdBn",
        "outputId": "4328eab5-1d06-4e62-84a9-89f82bab2796"
      },
      "source": [
        "predict(glm.fits, newdata = data.frame(Lag1 = c(1.2, 1.5), Lag2 = c(1.1, -0.8)), type = \"response\")"
      ],
      "execution_count": 104,
      "outputs": [
        {
          "output_type": "display_data",
          "data": {
            "text/plain": [
              "        1         2 \n",
              "0.4791462 0.4960939 "
            ],
            "text/latex": "\\begin{description*}\n\\item[1] 0.479146239171912\n\\item[2] 0.496093872956532\n\\end{description*}\n",
            "text/markdown": "1\n:   0.4791462391719122\n:   0.496093872956532\n\n",
            "text/html": [
              "<style>\n",
              ".dl-inline {width: auto; margin:0; padding: 0}\n",
              ".dl-inline>dt, .dl-inline>dd {float: none; width: auto; display: inline-block}\n",
              ".dl-inline>dt::after {content: \":\\0020\"; padding-right: .5ex}\n",
              ".dl-inline>dt:not(:first-of-type) {padding-left: .5ex}\n",
              "</style><dl class=dl-inline><dt>1</dt><dd>0.479146239171912</dd><dt>2</dt><dd>0.496093872956532</dd></dl>\n"
            ]
          },
          "metadata": {
            "tags": []
          }
        }
      ]
    },
    {
      "cell_type": "markdown",
      "metadata": {
        "id": "9tE3PcPyJdBn"
      },
      "source": [
        "## Linear Discriminant Analysis"
      ]
    },
    {
      "cell_type": "markdown",
      "metadata": {
        "id": "kLdmz9PXJdBo"
      },
      "source": [
        "Next, we'll perform linear discriminant analysis (LDA) on the `Smarket` data. In order to do so, we'll need to load the `MASS` library in order to use the `lda()` function. Aside from the absense of the `family` option, the syntax for `lda()` is the same as that for `lm()` and `glm()`. Just as we did with the second attempt at using logistic regression, we'll only use the observations from before 2005 to fit the model, and we'll only use `Lag1` and `Lag2` as the predictors."
      ]
    },
    {
      "cell_type": "code",
      "metadata": {
        "id": "Y9IbwPgoJdBo"
      },
      "source": [
        "library(MASS)"
      ],
      "execution_count": 147,
      "outputs": []
    },
    {
      "cell_type": "code",
      "metadata": {
        "id": "kkgzXkQvJdBp"
      },
      "source": [
        "lda.fit = lda(Direction ~ Lag1 + Lag2, data = Smarket, subset = train)"
      ],
      "execution_count": 148,
      "outputs": []
    },
    {
      "cell_type": "code",
      "metadata": {
        "colab": {
          "base_uri": "https://localhost:8080/",
          "height": 289
        },
        "id": "hheKItuLJdBp",
        "outputId": "2c1d8831-fb27-4ab6-e615-46ee6f4f5ee2"
      },
      "source": [
        "lda.fit"
      ],
      "execution_count": 149,
      "outputs": [
        {
          "output_type": "display_data",
          "data": {
            "text/plain": [
              "Call:\n",
              "lda(Direction ~ Lag1 + Lag2, data = Smarket, subset = train)\n",
              "\n",
              "Prior probabilities of groups:\n",
              "    Down       Up \n",
              "0.491984 0.508016 \n",
              "\n",
              "Group means:\n",
              "            Lag1        Lag2\n",
              "Down  0.04279022  0.03389409\n",
              "Up   -0.03954635 -0.03132544\n",
              "\n",
              "Coefficients of linear discriminants:\n",
              "            LD1\n",
              "Lag1 -0.6420190\n",
              "Lag2 -0.5135293"
            ]
          },
          "metadata": {
            "tags": []
          }
        }
      ]
    },
    {
      "cell_type": "markdown",
      "metadata": {
        "id": "pxh9N5ejJdBq"
      },
      "source": [
        "First, we note that the LDA output indicates that the estimated prior probabilities of the groups are $\\hat{\\pi}_1 = 0.492$ and $\\hat{\\pi}_2 = 0.508$. This means that 49.2% of the training observations correspond to days during which the market went down and 50.8% of the training observations correspond to days during which the market went up. In addition, the output also provides the averages of each predictor within each class (e.g. the average value of `Lag1` for days in which the market went down is 0.0428), which are used in LDA as estimates of the actual group means $\\mu_k$. These suggest that there is a tendency for the previous two days' returns to be negative on the days when the market increases, and a tendency for the previous two days' returns to be positive on the days when the market decreases. Lastly, the *coefficients of linear discriminants* portion of the output provides the linear combination of `Lag1` and `Lag2` that are used to form the LDA decision rule. In other words, you can intuitively think that these are the multipliers of the elements of $X = x$ in the formula\n",
        "\n",
        "\\begin{equation}\n",
        "    \\delta_k(x) = x^T\\Sigma^{-1}\\mu_k - \\frac{1}{2}\\mu_k^T\\Sigma^{-1}\\mu_k + \\log(\\pi_k).\n",
        "\\end{equation}\n",
        "\n",
        "However, it is important to note that the values given by `lda()` ***are not*** the actual multipliers of the elements of $X = x$ in the above formula, as [they are normalized so that the within groups covariance is spherical](https://www.rdocumentation.org/packages/MASS/versions/7.3-51.4/topics/lda). Instead they are scaled coefficients which are discussed more in detail in [this stats.stackexchange post](https://stats.stackexchange.com/a/48859).\n",
        "\n",
        "Recall that in the fomula $\\Sigma$ is the $2 \\times 2$ covariance matrix of `Lag1` and `Lag2`; $\\mu_k$ is the vector of the group means of `Lag1` and `Lag2` for either the group `Down` or the group `Up`; $\\pi_k$ is the estimated prior probability of either `Down` or `Up`. Strictly speaking, since we are using estimates in the model, $\\Sigma$, $\\mu_k$, and $\\pi_k$ should be replaced with their hatted versions. Also recall that this formula is the vector/matrix version of\n",
        "\n",
        "\\begin{equation}\n",
        "    \\delta_k = x\\frac{\\mu_k}{\\sigma^2} - \\frac{\\mu_k^2}{2\\sigma^2} + \\log(\\pi_k).\n",
        "\\end{equation}\n",
        "\n",
        "More concretely, if $-0.642 \\times$ `Lag1` $- 0.514 \\times$ `Lag2` is large, then the LDA classifier will predict a market increase; if it is small, then the LDA classifier will predict a market decline. We can produce plots of the *linear discriminants*, obtained by computing $-0.642 \\times$ `Lag1` $- 0.514 \\times$ `Lag2` for each of the training observations, using the `plot()` function on `lda.fit`."
      ]
    },
    {
      "cell_type": "code",
      "metadata": {
        "colab": {
          "base_uri": "https://localhost:8080/",
          "height": 437
        },
        "id": "0-8UUSe6JdBq",
        "outputId": "47fe3c96-e85e-440c-9756-ab52c0ac30f3"
      },
      "source": [
        "plot(lda.fit)"
      ],
      "execution_count": 108,
      "outputs": [
        {
          "output_type": "display_data",
          "data": {
            "image/png": "[encoded data removed]",
            "text/plain": [
              "plot without title"
            ]
          },
          "metadata": {
            "tags": [],
            "image/png": {
              "width": 420,
              "height": 420
            }
          }
        }
      ]
    },
    {
      "cell_type": "markdown",
      "metadata": {
        "id": "zMbjr_ptJdBr"
      },
      "source": [
        "Using the `predict()` function on `lda.fit` returns a list with three elements.\n",
        "\n",
        "- `class` contains LDA's predictions about the movement of the market.\n",
        "- `posterior` is a matrix whose $k$th column contains the posterior probability that the corresponding observation belongs to the $k$th class. This is computed using Bayes' theorem.\n",
        "- `x` contains the linear discriminants, as described earlier.\n",
        "\n",
        "Recall that Bayes' theorem states that\n",
        "\n",
        "\\begin{equation}\n",
        "    \\text{Pr}(Y = k | X = x) = \\frac{\\pi_k f_k(x)}{\\sum_{l = 1}^K \\pi_l f_l(x)},\n",
        "\\end{equation}\n",
        "\n",
        "where $K$ is the total number of classes for $Y$; $\\pi_k$ is the overall, or *prior* probability that a randomly chosen observation comes from the $k$th class; and $f_k(x)$ is defined to be $\\text{Pr}(X = x | Y = k)$, the probability that $X = x$ for an observation $X$ that comes from the $k$th class."
      ]
    },
    {
      "cell_type": "code",
      "metadata": {
        "id": "J2NnkWHFJdBr"
      },
      "source": [
        "lda.pred = predict(lda.fit, Smarket.2005)"
      ],
      "execution_count": 109,
      "outputs": []
    },
    {
      "cell_type": "markdown",
      "metadata": {
        "id": "730xXgt2JdBs"
      },
      "source": [
        "Recall that in Section 4.5 of the book, we saw that LDA and logistic regression often have similar performance. We see that this is the case for our stock market data. In fact, it just so happens that we have an identical confusion matrix and test accuracy number compared to the logistic regression model."
      ]
    },
    {
      "cell_type": "code",
      "metadata": {
        "colab": {
          "base_uri": "https://localhost:8080/",
          "height": 85
        },
        "id": "yzKPcSd2JdBs",
        "outputId": "1e7a3029-ecfa-4d76-a34c-147ee5c31ea2"
      },
      "source": [
        "lda.class = lda.pred$class\n",
        "table(lda.class, Smarket.2005$Direction)"
      ],
      "execution_count": 110,
      "outputs": [
        {
          "output_type": "display_data",
          "data": {
            "text/plain": [
              "         \n",
              "lda.class Down  Up\n",
              "     Down   35  35\n",
              "     Up     76 106"
            ]
          },
          "metadata": {
            "tags": []
          }
        }
      ]
    },
    {
      "cell_type": "code",
      "metadata": {
        "colab": {
          "base_uri": "https://localhost:8080/",
          "height": 34
        },
        "id": "A-NbDaDeJdBt",
        "outputId": "5bf04183-804b-4a6b-c57f-e154c5a97866"
      },
      "source": [
        "mean(lda.class == Smarket.2005$Direction)"
      ],
      "execution_count": 111,
      "outputs": [
        {
          "output_type": "display_data",
          "data": {
            "text/plain": [
              "[1] 0.5595238"
            ],
            "text/latex": "0.55952380952381",
            "text/markdown": "0.55952380952381",
            "text/html": [
              "0.55952380952381"
            ]
          },
          "metadata": {
            "tags": []
          }
        }
      ]
    },
    {
      "cell_type": "markdown",
      "metadata": {
        "id": "FmAtpLpgJdBt"
      },
      "source": [
        "Notice that since there are two classes, LDA uses a posterior probability threshold of 50% in order to make the predictions that go into `class`."
      ]
    },
    {
      "cell_type": "code",
      "metadata": {
        "colab": {
          "base_uri": "https://localhost:8080/",
          "height": 252
        },
        "id": "LBPw_NeEJdBu",
        "outputId": "0b1173da-e33e-4da1-cd30-e6761167a1dc"
      },
      "source": [
        "head(lda.pred$posterior)"
      ],
      "execution_count": 112,
      "outputs": [
        {
          "output_type": "display_data",
          "data": {
            "text/plain": [
              "     Down      Up       \n",
              "999  0.4901792 0.5098208\n",
              "1000 0.4792185 0.5207815\n",
              "1001 0.4668185 0.5331815\n",
              "1002 0.4740011 0.5259989\n",
              "1003 0.4927877 0.5072123\n",
              "1004 0.4938562 0.5061438"
            ],
            "text/latex": "A matrix: 6 × 2 of type dbl\n\\begin{tabular}{r|ll}\n  & Down & Up\\\\\n\\hline\n\t999 & 0.4901792 & 0.5098208\\\\\n\t1000 & 0.4792185 & 0.5207815\\\\\n\t1001 & 0.4668185 & 0.5331815\\\\\n\t1002 & 0.4740011 & 0.5259989\\\\\n\t1003 & 0.4927877 & 0.5072123\\\\\n\t1004 & 0.4938562 & 0.5061438\\\\\n\\end{tabular}\n",
            "text/markdown": "\nA matrix: 6 × 2 of type dbl\n\n| <!--/--> | Down | Up |\n|---|---|---|\n| 999 | 0.4901792 | 0.5098208 |\n| 1000 | 0.4792185 | 0.5207815 |\n| 1001 | 0.4668185 | 0.5331815 |\n| 1002 | 0.4740011 | 0.5259989 |\n| 1003 | 0.4927877 | 0.5072123 |\n| 1004 | 0.4938562 | 0.5061438 |\n\n",
            "text/html": [
              "<table class=\"dataframe\">\n",
              "<caption>A matrix: 6 × 2 of type dbl</caption>\n",
              "<thead>\n",
              "\t<tr><th></th><th scope=col>Down</th><th scope=col>Up</th></tr>\n",
              "</thead>\n",
              "<tbody>\n",
              "\t<tr><th scope=row>999</th><td>0.4901792</td><td>0.5098208</td></tr>\n",
              "\t<tr><th scope=row>1000</th><td>0.4792185</td><td>0.5207815</td></tr>\n",
              "\t<tr><th scope=row>1001</th><td>0.4668185</td><td>0.5331815</td></tr>\n",
              "\t<tr><th scope=row>1002</th><td>0.4740011</td><td>0.5259989</td></tr>\n",
              "\t<tr><th scope=row>1003</th><td>0.4927877</td><td>0.5072123</td></tr>\n",
              "\t<tr><th scope=row>1004</th><td>0.4938562</td><td>0.5061438</td></tr>\n",
              "</tbody>\n",
              "</table>\n"
            ]
          },
          "metadata": {
            "tags": []
          }
        }
      ]
    },
    {
      "cell_type": "code",
      "metadata": {
        "colab": {
          "base_uri": "https://localhost:8080/",
          "height": 51
        },
        "id": "ErXyumV6JdBv",
        "outputId": "899dcb79-c118-448d-c48b-d92acfbdaf05"
      },
      "source": [
        "head(lda.class)"
      ],
      "execution_count": 113,
      "outputs": [
        {
          "output_type": "display_data",
          "data": {
            "text/plain": [
              "[1] Up Up Up Up Up Up\n",
              "Levels: Down Up"
            ],
            "text/latex": "\\begin{enumerate*}\n\\item Up\n\\item Up\n\\item Up\n\\item Up\n\\item Up\n\\item Up\n\\end{enumerate*}\n\n\\emph{Levels}: \\begin{enumerate*}\n\\item 'Down'\n\\item 'Up'\n\\end{enumerate*}\n",
            "text/markdown": "1. Up\n2. Up\n3. Up\n4. Up\n5. Up\n6. Up\n\n\n\n**Levels**: 1. 'Down'\n2. 'Up'\n\n\n",
            "text/html": [
              "<style>\n",
              ".list-inline {list-style: none; margin:0; padding: 0}\n",
              ".list-inline>li {display: inline-block}\n",
              ".list-inline>li:not(:last-child)::after {content: \"\\00b7\"; padding: 0 .5ex}\n",
              "</style>\n",
              "<ol class=list-inline><li>Up</li><li>Up</li><li>Up</li><li>Up</li><li>Up</li><li>Up</li></ol>\n",
              "\n",
              "<details>\n",
              "\t<summary style=display:list-item;cursor:pointer>\n",
              "\t\t<strong>Levels</strong>:\n",
              "\t</summary>\n",
              "\t<style>\n",
              "\t.list-inline {list-style: none; margin:0; padding: 0}\n",
              "\t.list-inline>li {display: inline-block}\n",
              "\t.list-inline>li:not(:last-child)::after {content: \"\\00b7\"; padding: 0 .5ex}\n",
              "\t</style>\n",
              "\t<ol class=list-inline><li>'Down'</li><li>'Up'</li></ol>\n",
              "</details>"
            ]
          },
          "metadata": {
            "tags": []
          }
        }
      ]
    },
    {
      "cell_type": "markdown",
      "metadata": {
        "id": "r883c6-rJdBv"
      },
      "source": [
        "If we wanted to use a posterior probability threshold other than 50% in order to make predictions, we can use a boolean mask with the matrix of posterior probabilities. For example, let's suppose we wish to predict a market decrease only if we are very certain that it will indeed decrease on that day -- say, if the posterior probability of a decrease is at least 90%."
      ]
    },
    {
      "cell_type": "code",
      "metadata": {
        "colab": {
          "base_uri": "https://localhost:8080/",
          "height": 34
        },
        "id": "4h0zrrz_JdBw",
        "outputId": "95c3bcdf-f296-4c23-f701-93b1bb823823"
      },
      "source": [
        "sum(lda.pred$posterior[, \"Down\"] > 0.9)"
      ],
      "execution_count": 114,
      "outputs": [
        {
          "output_type": "display_data",
          "data": {
            "text/plain": [
              "[1] 0"
            ],
            "text/latex": "0",
            "text/markdown": "0",
            "text/html": [
              "0"
            ]
          },
          "metadata": {
            "tags": []
          }
        }
      ]
    },
    {
      "cell_type": "markdown",
      "metadata": {
        "id": "-i0AUh7QJdBw"
      },
      "source": [
        "No days in 2005 meet that threshold. In fact, the greatest posterior probability of decrease in all of 2005 was 52.02%."
      ]
    },
    {
      "cell_type": "code",
      "metadata": {
        "colab": {
          "base_uri": "https://localhost:8080/",
          "height": 34
        },
        "id": "qJ6ZXy-YJdBx",
        "outputId": "4206d7b6-6d87-410a-e064-75b5863aeddd"
      },
      "source": [
        "max(lda.pred$posterior[, \"Down\"])"
      ],
      "execution_count": 115,
      "outputs": [
        {
          "output_type": "display_data",
          "data": {
            "text/plain": [
              "[1] 0.520235"
            ],
            "text/latex": "0.520234950535616",
            "text/markdown": "0.520234950535616",
            "text/html": [
              "0.520234950535616"
            ]
          },
          "metadata": {
            "tags": []
          }
        }
      ]
    },
    {
      "cell_type": "markdown",
      "metadata": {
        "id": "8EI8GHT8JdBy"
      },
      "source": [
        "Moreover, the overall greatest posterior probability for all of 2005 is only 54.22%."
      ]
    },
    {
      "cell_type": "code",
      "metadata": {
        "colab": {
          "base_uri": "https://localhost:8080/",
          "height": 34
        },
        "id": "4CLBi3-xJdBz",
        "outputId": "225c7c72-e4bc-4222-adac-e567aaa20fdd"
      },
      "source": [
        "max(lda.pred$posterior)"
      ],
      "execution_count": 116,
      "outputs": [
        {
          "output_type": "display_data",
          "data": {
            "text/plain": [
              "[1] 0.5422133"
            ],
            "text/latex": "0.542213255451898",
            "text/markdown": "0.542213255451898",
            "text/html": [
              "0.542213255451898"
            ]
          },
          "metadata": {
            "tags": []
          }
        }
      ]
    },
    {
      "cell_type": "markdown",
      "metadata": {
        "id": "vNPWUjbaJdB0"
      },
      "source": [
        "## Quadratic Discriminant Analysis"
      ]
    },
    {
      "cell_type": "markdown",
      "metadata": {
        "id": "dVr7mqMeJdB0"
      },
      "source": [
        "Next, let's fit a quadratic discriminant analysis (QDA) model to the Smarket data. QDA is also part of the `MASS` library as the `qda()` function. It uses the same sytax as that of `lda()`"
      ]
    },
    {
      "cell_type": "code",
      "metadata": {
        "colab": {
          "base_uri": "https://localhost:8080/",
          "height": 204
        },
        "id": "0bSBzAcfJdB1",
        "outputId": "c130dc3d-1a78-4412-d28c-ab8ae70a7cc8"
      },
      "source": [
        "qda.fit = qda(Direction ~ Lag1 + Lag2, data = Smarket, subset = train)\n",
        "qda.fit"
      ],
      "execution_count": 117,
      "outputs": [
        {
          "output_type": "display_data",
          "data": {
            "text/plain": [
              "Call:\n",
              "qda(Direction ~ Lag1 + Lag2, data = Smarket, subset = train)\n",
              "\n",
              "Prior probabilities of groups:\n",
              "    Down       Up \n",
              "0.491984 0.508016 \n",
              "\n",
              "Group means:\n",
              "            Lag1        Lag2\n",
              "Down  0.04279022  0.03389409\n",
              "Up   -0.03954635 -0.03132544"
            ]
          },
          "metadata": {
            "tags": []
          }
        }
      ]
    },
    {
      "cell_type": "markdown",
      "metadata": {
        "id": "T9Fn9ik6JdB2"
      },
      "source": [
        "While the output for the result of `qda()` is similar to that as `lda()` in that it includes the prior probabilities of the groups as well as the group means, it does not contain the coefficients of the linear discriminants. This is because the QDA classifier involves a quadratic, not linear, function of the predictors. Recall that in QDA the formula $\\delta_k(x)$, the posterior probability that the observation $X = x$ is a member of the $k$th class, is\n",
        "\n",
        "\\begin{align}\n",
        "    \\delta_k(x) &= -\\frac{1}{2}(x - \\mu_k)^T\\Sigma_k^{-1}(x - \\mu_k) - \\frac{1}{2}\\log|\\Sigma_k| + \\log(\\pi_k) \\\\\n",
        "    &= -\\frac{1}{2}x^T\\Sigma_K^{-1}x + x^T\\Sigma_k^{-1}\\mu_k - \\frac{1}{2}\\mu_k^T\\Sigma_k^{-1}\\mu_k - \\frac{1}{2}\\log|\\Sigma_k| + \\log(\\pi_k),\n",
        "\\end{align}\n",
        "\n",
        "where observations from the $k$th class are normally distributed with (population) mean $\\mu_k$ and (population) covariance matrix $\\Sigma_k$. This comes from the assumption in QDA that each class has its own covariance matrix, which differs from the assumption in LDA that the classes had the same covariance matrix.\n",
        "\n",
        "Even though the output for `qda()` is slightly different, the `predict()` function works in exactly the same fashion as for LDA."
      ]
    },
    {
      "cell_type": "code",
      "metadata": {
        "colab": {
          "base_uri": "https://localhost:8080/",
          "height": 85
        },
        "id": "25WXZmUdJdB2",
        "outputId": "0e3cae45-b5ce-4d43-a769-0dc3153e6fcb"
      },
      "source": [
        "qda.pred = predict(qda.fit, Smarket.2005)\n",
        "qda.class = qda.pred$class\n",
        "table(qda.class, Smarket.2005$Direction)"
      ],
      "execution_count": 118,
      "outputs": [
        {
          "output_type": "display_data",
          "data": {
            "text/plain": [
              "         \n",
              "qda.class Down  Up\n",
              "     Down   30  20\n",
              "     Up     81 121"
            ]
          },
          "metadata": {
            "tags": []
          }
        }
      ]
    },
    {
      "cell_type": "code",
      "metadata": {
        "colab": {
          "base_uri": "https://localhost:8080/",
          "height": 34
        },
        "id": "msdPjCRPJdB3",
        "outputId": "219ce64e-617d-48ad-f625-9c2827a1b1d3"
      },
      "source": [
        "mean(qda.class == Smarket.2005$Direction)"
      ],
      "execution_count": 119,
      "outputs": [
        {
          "output_type": "display_data",
          "data": {
            "text/plain": [
              "[1] 0.5992063"
            ],
            "text/latex": "0.599206349206349",
            "text/markdown": "0.599206349206349",
            "text/html": [
              "0.599206349206349"
            ]
          },
          "metadata": {
            "tags": []
          }
        }
      ]
    },
    {
      "cell_type": "markdown",
      "metadata": {
        "id": "_AJnhdhNJdB4"
      },
      "source": [
        "Here, we see that the QDA predictions are accurate almost 60% of the time for the 2005 data, which wasn't used to fit the model. This suggests that the quadratic form assumed by QDA may capture the true relationship more accurately than the linear forms assumed by LDA and logistic regression. However, this model should be evaluated on a larger test set to get a better sense of its predictive strength.\n",
        "\n",
        "As a side note, we can again use a boolean mask with the matrix of posterior probabilities to make predictions with a probability threshold that is different from 50%. Let's see what QDA says for the cautious scenario of using a 90% probability threshold to predict a decrease."
      ]
    },
    {
      "cell_type": "code",
      "metadata": {
        "colab": {
          "base_uri": "https://localhost:8080/",
          "height": 34
        },
        "id": "QOs4h5X3JdB4",
        "outputId": "f881ea0b-33ca-4e29-aad0-cf1c8d521ae5"
      },
      "source": [
        "sum(qda.pred$posterior[, \"Down\"] > 0.9)"
      ],
      "execution_count": 120,
      "outputs": [
        {
          "output_type": "display_data",
          "data": {
            "text/plain": [
              "[1] 0"
            ],
            "text/latex": "0",
            "text/markdown": "0",
            "text/html": [
              "0"
            ]
          },
          "metadata": {
            "tags": []
          }
        }
      ]
    },
    {
      "cell_type": "markdown",
      "metadata": {
        "id": "9ReUc7JXJdB5"
      },
      "source": [
        "Again no days in 2005 meet this threshold, since the maximum posterior probability of a decrease in all of 2005 was just 52.24%, and the overall maximum posterior probability in all of 2005 was 54.62%."
      ]
    },
    {
      "cell_type": "code",
      "metadata": {
        "colab": {
          "base_uri": "https://localhost:8080/",
          "height": 34
        },
        "id": "Q1widh2iJdB5",
        "outputId": "25ed7fc2-397a-4303-a69c-0670fa17ae68"
      },
      "source": [
        "max(qda.pred$posterior[, \"Down\"])"
      ],
      "execution_count": 121,
      "outputs": [
        {
          "output_type": "display_data",
          "data": {
            "text/plain": [
              "[1] 0.5224072"
            ],
            "text/latex": "0.522407186549673",
            "text/markdown": "0.522407186549673",
            "text/html": [
              "0.522407186549673"
            ]
          },
          "metadata": {
            "tags": []
          }
        }
      ]
    },
    {
      "cell_type": "code",
      "metadata": {
        "colab": {
          "base_uri": "https://localhost:8080/",
          "height": 34
        },
        "id": "sdtDljJpJdB6",
        "outputId": "5d8c6e4c-11bc-4006-c75b-5cd1423c9854"
      },
      "source": [
        "max(qda.pred$posterior)"
      ],
      "execution_count": 122,
      "outputs": [
        {
          "output_type": "display_data",
          "data": {
            "text/plain": [
              "[1] 0.5461849"
            ],
            "text/latex": "0.54618485050522",
            "text/markdown": "0.54618485050522",
            "text/html": [
              "0.54618485050522"
            ]
          },
          "metadata": {
            "tags": []
          }
        }
      ]
    },
    {
      "cell_type": "markdown",
      "metadata": {
        "id": "tkqgvWzLJdB6"
      },
      "source": [
        "## K-Nearest Neighbors"
      ]
    },
    {
      "cell_type": "markdown",
      "metadata": {
        "id": "V_5PtTe8JdB7"
      },
      "source": [
        "The last method of working with the `Smarket` data we'll use is K-nearest neighbors. To do this, we'll use the `knn()` function from the `class` library. This function works differently from the other model-fitting functions that we have encountered thus far since it forms predictions with a single command instead of the two-step approach of first fitting the model and then using it to make predictions. The function requires four inputs.\n",
        "\n",
        "1. `train.X` is the matrix containing the predictors associated with the training data.\n",
        "2. `test.X` is the matrix containing the predictors associated with the data for which we wish to make predictions.\n",
        "3. `train.Direction` is a vector containing the class labels for the training observations.\n",
        "4. `k` is the number of nearest neighbors to be used by the classifier.\n",
        "\n",
        "We'll use `cbind()`, which is short for *column bind* to bind the `Lag1` and `Lag2` variables into our `train.X` and `test.X` matrices."
      ]
    },
    {
      "cell_type": "code",
      "metadata": {
        "id": "ri1JUBzmJdB7"
      },
      "source": [
        "library(class)"
      ],
      "execution_count": 123,
      "outputs": []
    },
    {
      "cell_type": "code",
      "metadata": {
        "id": "85TcpDSAJdB8"
      },
      "source": [
        "train.X = cbind(Smarket$Lag1, Smarket$Lag2)[train, ]\n",
        "test.X = cbind(Smarket$Lag1, Smarket$Lag2)[!train, ]\n",
        "train.Direction = Smarket$Direction[train]"
      ],
      "execution_count": 124,
      "outputs": []
    },
    {
      "cell_type": "markdown",
      "metadata": {
        "id": "sFIS5nKIJdB8"
      },
      "source": [
        "After this setup step, we use the `knn()` function to predict the market's movement for the dates in 2005. Note that in order to have consistency and have reproducibility for our results, we set a random seed before applying `knn()` since `R` randomly breaks any ties if several observations are tied as nearest neighbors."
      ]
    },
    {
      "cell_type": "code",
      "metadata": {
        "colab": {
          "base_uri": "https://localhost:8080/",
          "height": 85
        },
        "id": "GH353c6HJdB8",
        "outputId": "669fd629-06ca-447b-f319-0e694c9f9f07"
      },
      "source": [
        "set.seed(1)\n",
        "knn.pred = knn(train.X, test.X, train.Direction, k = 1)\n",
        "table(knn.pred, Smarket.2005$Direction)"
      ],
      "execution_count": 125,
      "outputs": [
        {
          "output_type": "display_data",
          "data": {
            "text/plain": [
              "        \n",
              "knn.pred Down Up\n",
              "    Down   43 58\n",
              "    Up     68 83"
            ]
          },
          "metadata": {
            "tags": []
          }
        }
      ]
    },
    {
      "cell_type": "markdown",
      "metadata": {
        "id": "EU7vIaHmJdB9"
      },
      "source": [
        "Using $K = 1$, our results aren't very good, since only $(43 + 83)/252 = 50\\%$ of the observations are correctly predicted. Of course, using $K=1$ is a very flexible fit, so perhaps it was too much flexibility. Let's try again using $K = 3$."
      ]
    },
    {
      "cell_type": "code",
      "metadata": {
        "colab": {
          "base_uri": "https://localhost:8080/",
          "height": 85
        },
        "id": "Uwwv-C98JdB9",
        "outputId": "63efb4bc-4e21-47c0-a2c0-0b4920d6b548"
      },
      "source": [
        "knn.pred = knn(train.X, test.X, train.Direction, k = 3)\n",
        "table(knn.pred, Smarket.2005$Direction)"
      ],
      "execution_count": 126,
      "outputs": [
        {
          "output_type": "display_data",
          "data": {
            "text/plain": [
              "        \n",
              "knn.pred Down Up\n",
              "    Down   48 54\n",
              "    Up     63 87"
            ]
          },
          "metadata": {
            "tags": []
          }
        }
      ]
    },
    {
      "cell_type": "code",
      "metadata": {
        "colab": {
          "base_uri": "https://localhost:8080/",
          "height": 34
        },
        "id": "2NSX4lEmJdB-",
        "outputId": "95b559bb-2625-4730-aaa0-30b3e1bbe31a"
      },
      "source": [
        "mean(knn.pred == Smarket.2005$Direction)"
      ],
      "execution_count": 127,
      "outputs": [
        {
          "output_type": "display_data",
          "data": {
            "text/plain": [
              "[1] 0.5357143"
            ],
            "text/latex": "0.535714285714286",
            "text/markdown": "0.535714285714286",
            "text/html": [
              "0.535714285714286"
            ]
          },
          "metadata": {
            "tags": []
          }
        }
      ]
    },
    {
      "cell_type": "markdown",
      "metadata": {
        "id": "Bzr4hnSZJdB_"
      },
      "source": [
        "The results improved slightly to about 53.4% test accuracy, though further increasing $K$ does not provide any additional improvements. For this data, it appears that QDA provides the best results of the methods we have examined thus far."
      ]
    },
    {
      "cell_type": "markdown",
      "metadata": {
        "id": "meBcelNsJdB_"
      },
      "source": [
        "## An Application to Caravan Insurance Data"
      ]
    },
    {
      "cell_type": "markdown",
      "metadata": {
        "id": "su9fqfiwJdCA"
      },
      "source": [
        "Lastly, we'll use KNN with the `Caravan` data set from the `ISLR` library. This set includes 85 predictors that measure demographic characteristics for 5,822 individuals. The response variable is `Purchase` which indicates whether or not a given individual purchases a caravan insurance policy. Again let's export a copy of this data to a CSV file for use when I do this lab in Python, and then explore it a little bit."
      ]
    },
    {
      "cell_type": "code",
      "metadata": {
        "id": "uYlrRpbGJdCA"
      },
      "source": [
        "write.csv(Caravan, \"Caravan.csv\")"
      ],
      "execution_count": 128,
      "outputs": []
    },
    {
      "cell_type": "markdown",
      "metadata": {
        "id": "j1LOq-jIJdCA"
      },
      "source": [
        "In this set, only about 6% of people purchased caravan insurance."
      ]
    },
    {
      "cell_type": "code",
      "metadata": {
        "colab": {
          "base_uri": "https://localhost:8080/",
          "height": 34
        },
        "id": "4DfoZDiGJdCB",
        "outputId": "ce31f31c-15b6-4d9c-8b2e-37aa0a22e09a"
      },
      "source": [
        "summary(Caravan$Purchase)"
      ],
      "execution_count": 129,
      "outputs": [
        {
          "output_type": "display_data",
          "data": {
            "text/plain": [
              "  No  Yes \n",
              "5474  348 "
            ],
            "text/latex": "\\begin{description*}\n\\item[No] 5474\n\\item[Yes] 348\n\\end{description*}\n",
            "text/markdown": "No\n:   5474Yes\n:   348\n\n",
            "text/html": [
              "<style>\n",
              ".dl-inline {width: auto; margin:0; padding: 0}\n",
              ".dl-inline>dt, .dl-inline>dd {float: none; width: auto; display: inline-block}\n",
              ".dl-inline>dt::after {content: \":\\0020\"; padding-right: .5ex}\n",
              ".dl-inline>dt:not(:first-of-type) {padding-left: .5ex}\n",
              "</style><dl class=dl-inline><dt>No</dt><dd>5474</dd><dt>Yes</dt><dd>348</dd></dl>\n"
            ]
          },
          "metadata": {
            "tags": []
          }
        }
      ]
    },
    {
      "cell_type": "markdown",
      "metadata": {
        "id": "H2MOjCaeJdCC"
      },
      "source": [
        "Before proceeding, we note that since the KNN classifier predicts the class of a given test observation by identifying the observations that are nearest to it, the scale of the variables matters. Variables with a large scale will have a much larger effect on the *distance* between the observations, and hence on the KNN classifier, than variables that are on a small scale. For example, if we have a data set with the variables `salary` (measured in dollars) and `age` (measured in years), a difference of \\\\$1000 in salary is quite large compared to a difference of 50 years of age when it comes to computing distances in KNN. As a result, `salary` will dominate the KNN classification results while `age` will have almost no effect. Moreover, the importance of scale to the KNN classfier means that changing the units (such as measuring `salary` in Japanese yen, or measuring `age` in minutes) of the predictors could result in vastly different classification results compared to what we would get when using dollars and years.\n",
        "\n",
        "One way to handle this problem is to *standardize* the data so that all variables are given a mean of zero and a standard deviation of one. Doing this will put all variables on a comparable scale. While we could do this by hand, it is much more convenient to use the `scale()` function. When doing this with the `Caravan` data, we exclude column 86, the qualitative `Purchase` variable."
      ]
    },
    {
      "cell_type": "code",
      "metadata": {
        "id": "TxSS7JiiJdCC"
      },
      "source": [
        "standardized.X = scale(Caravan[,-86])"
      ],
      "execution_count": 130,
      "outputs": []
    },
    {
      "cell_type": "markdown",
      "metadata": {
        "id": "dvLmEaj9JdCD"
      },
      "source": [
        "We can check the mean and variance of first two columns of `Caravan` and compare those with that of the standardized columns to confirm that the standardized ones have mean zero and standard deviation one."
      ]
    },
    {
      "cell_type": "code",
      "metadata": {
        "colab": {
          "base_uri": "https://localhost:8080/",
          "height": 34
        },
        "id": "bVCpg4uZJdCD",
        "outputId": "9d2a540e-6f27-4f79-f496-ffb46359e9f6"
      },
      "source": [
        "mean(Caravan[, 1])"
      ],
      "execution_count": 131,
      "outputs": [
        {
          "output_type": "display_data",
          "data": {
            "text/plain": [
              "[1] 24.25335"
            ],
            "text/latex": "24.2533493644796",
            "text/markdown": "24.2533493644796",
            "text/html": [
              "24.2533493644796"
            ]
          },
          "metadata": {
            "tags": []
          }
        }
      ]
    },
    {
      "cell_type": "code",
      "metadata": {
        "colab": {
          "base_uri": "https://localhost:8080/",
          "height": 34
        },
        "id": "giiOLuVEJdCE",
        "outputId": "7751159a-baaa-4c26-d335-dd68c98af7c1"
      },
      "source": [
        "mean(standardized.X[, 1])"
      ],
      "execution_count": 132,
      "outputs": [
        {
          "output_type": "display_data",
          "data": {
            "text/plain": [
              "[1] -7.025576e-17"
            ],
            "text/latex": "-7.02557607244499e-17",
            "text/markdown": "-7.02557607244499e-17",
            "text/html": [
              "-7.02557607244499e-17"
            ]
          },
          "metadata": {
            "tags": []
          }
        }
      ]
    },
    {
      "cell_type": "code",
      "metadata": {
        "colab": {
          "base_uri": "https://localhost:8080/",
          "height": 34
        },
        "id": "tNrU2zWnJdCE",
        "outputId": "f47a7b14-3f0e-40d8-b303-789162cb9422"
      },
      "source": [
        "mean(Caravan[, 2])"
      ],
      "execution_count": 133,
      "outputs": [
        {
          "output_type": "display_data",
          "data": {
            "text/plain": [
              "[1] 1.110615"
            ],
            "text/latex": "1.11061490896599",
            "text/markdown": "1.11061490896599",
            "text/html": [
              "1.11061490896599"
            ]
          },
          "metadata": {
            "tags": []
          }
        }
      ]
    },
    {
      "cell_type": "code",
      "metadata": {
        "colab": {
          "base_uri": "https://localhost:8080/",
          "height": 34
        },
        "id": "un7P4vTqJdCF",
        "outputId": "d8989bf8-15dc-4c5e-837d-8d38e55aa1b7"
      },
      "source": [
        "mean(standardized.X[, 2])"
      ],
      "execution_count": 134,
      "outputs": [
        {
          "output_type": "display_data",
          "data": {
            "text/plain": [
              "[1] -1.470838e-16"
            ],
            "text/latex": "-1.4708382205383e-16",
            "text/markdown": "-1.4708382205383e-16",
            "text/html": [
              "-1.4708382205383e-16"
            ]
          },
          "metadata": {
            "tags": []
          }
        }
      ]
    },
    {
      "cell_type": "markdown",
      "metadata": {
        "id": "0OaMqR0aJdCG"
      },
      "source": [
        "Note that the standardized means aren't exactly equal to zero due to slight floating point precision errors."
      ]
    },
    {
      "cell_type": "code",
      "metadata": {
        "colab": {
          "base_uri": "https://localhost:8080/",
          "height": 128
        },
        "id": "Ur65V4uvJdCH",
        "outputId": "2c96b166-797d-43af-a987-af8f6e24f283"
      },
      "source": [
        "var(Caravan[, 1:2])"
      ],
      "execution_count": 135,
      "outputs": [
        {
          "output_type": "display_data",
          "data": {
            "text/plain": [
              "         MOSTYPE     MAANTHUI  \n",
              "MOSTYPE  165.0378474 -0.2018823\n",
              "MAANTHUI  -0.2018823  0.1647078"
            ],
            "text/latex": "A matrix: 2 × 2 of type dbl\n\\begin{tabular}{r|ll}\n  & MOSTYPE & MAANTHUI\\\\\n\\hline\n\tMOSTYPE & 165.0378474 & -0.2018823\\\\\n\tMAANTHUI &  -0.2018823 &  0.1647078\\\\\n\\end{tabular}\n",
            "text/markdown": "\nA matrix: 2 × 2 of type dbl\n\n| <!--/--> | MOSTYPE | MAANTHUI |\n|---|---|---|\n| MOSTYPE | 165.0378474 | -0.2018823 |\n| MAANTHUI |  -0.2018823 |  0.1647078 |\n\n",
            "text/html": [
              "<table class=\"dataframe\">\n",
              "<caption>A matrix: 2 × 2 of type dbl</caption>\n",
              "<thead>\n",
              "\t<tr><th></th><th scope=col>MOSTYPE</th><th scope=col>MAANTHUI</th></tr>\n",
              "</thead>\n",
              "<tbody>\n",
              "\t<tr><th scope=row>MOSTYPE</th><td>165.0378474</td><td>-0.2018823</td></tr>\n",
              "\t<tr><th scope=row>MAANTHUI</th><td> -0.2018823</td><td> 0.1647078</td></tr>\n",
              "</tbody>\n",
              "</table>\n"
            ]
          },
          "metadata": {
            "tags": []
          }
        }
      ]
    },
    {
      "cell_type": "code",
      "metadata": {
        "colab": {
          "base_uri": "https://localhost:8080/",
          "height": 128
        },
        "id": "xpiAGymgJdCH",
        "outputId": "810a499f-b172-42fa-e85a-c6c6abe53f0b"
      },
      "source": [
        "var(standardized.X[, 1:2])"
      ],
      "execution_count": 136,
      "outputs": [
        {
          "output_type": "display_data",
          "data": {
            "text/plain": [
              "         MOSTYPE     MAANTHUI   \n",
              "MOSTYPE   1.00000000 -0.03872126\n",
              "MAANTHUI -0.03872126  1.00000000"
            ],
            "text/latex": "A matrix: 2 × 2 of type dbl\n\\begin{tabular}{r|ll}\n  & MOSTYPE & MAANTHUI\\\\\n\\hline\n\tMOSTYPE &  1.00000000 & -0.03872126\\\\\n\tMAANTHUI & -0.03872126 &  1.00000000\\\\\n\\end{tabular}\n",
            "text/markdown": "\nA matrix: 2 × 2 of type dbl\n\n| <!--/--> | MOSTYPE | MAANTHUI |\n|---|---|---|\n| MOSTYPE |  1.00000000 | -0.03872126 |\n| MAANTHUI | -0.03872126 |  1.00000000 |\n\n",
            "text/html": [
              "<table class=\"dataframe\">\n",
              "<caption>A matrix: 2 × 2 of type dbl</caption>\n",
              "<thead>\n",
              "\t<tr><th></th><th scope=col>MOSTYPE</th><th scope=col>MAANTHUI</th></tr>\n",
              "</thead>\n",
              "<tbody>\n",
              "\t<tr><th scope=row>MOSTYPE</th><td> 1.00000000</td><td>-0.03872126</td></tr>\n",
              "\t<tr><th scope=row>MAANTHUI</th><td>-0.03872126</td><td> 1.00000000</td></tr>\n",
              "</tbody>\n",
              "</table>\n"
            ]
          },
          "metadata": {
            "tags": []
          }
        }
      ]
    },
    {
      "cell_type": "markdown",
      "metadata": {
        "id": "6y43Iu4HJdCH"
      },
      "source": [
        "Now we split the observations into a test set, containing the first 1,000 observations, and a training set, containing the remaining observations."
      ]
    },
    {
      "cell_type": "code",
      "metadata": {
        "id": "1AdF89GAJdCI"
      },
      "source": [
        "test = 1:1000\n",
        "train.X = standardized.X[-test, ]\n",
        "test.X = standardized.X[test, ]\n",
        "train.Y = Caravan$Purchase[-test]\n",
        "test.Y = Caravan$Purchase[test]"
      ],
      "execution_count": 137,
      "outputs": []
    },
    {
      "cell_type": "markdown",
      "metadata": {
        "id": "Bjgl-Op3JdCI"
      },
      "source": [
        "Once we have separated out the training and test observations, we start off by fitting a KNN model on the training data using $K = 1$ and then evaluate is performance on the test data."
      ]
    },
    {
      "cell_type": "code",
      "metadata": {
        "id": "NZ0u7hlFJdCI"
      },
      "source": [
        "set.seed(1)\n",
        "knn.pred = knn(train.X, test.X, train.Y, k = 1)"
      ],
      "execution_count": 138,
      "outputs": []
    },
    {
      "cell_type": "code",
      "metadata": {
        "colab": {
          "base_uri": "https://localhost:8080/",
          "height": 34
        },
        "id": "rNPxnR0FJdCI",
        "outputId": "b74b8a24-ee1d-418c-fdc3-31a862b19f41"
      },
      "source": [
        "mean(test.Y != knn.pred)"
      ],
      "execution_count": 139,
      "outputs": [
        {
          "output_type": "display_data",
          "data": {
            "text/plain": [
              "[1] 0.118"
            ],
            "text/latex": "0.118",
            "text/markdown": "0.118",
            "text/html": [
              "0.118"
            ]
          },
          "metadata": {
            "tags": []
          }
        }
      ]
    },
    {
      "cell_type": "markdown",
      "metadata": {
        "id": "mj1rAfDLJdCJ"
      },
      "source": [
        "The KNN error rate with $K = 1$ is just under 12%, which appears to be pretty good at a first glance. However, since only 6% of customers purchased insurance, we could get the error rate down to 6% just by always predicting `No` regardless of the values of the predictors."
      ]
    },
    {
      "cell_type": "code",
      "metadata": {
        "colab": {
          "base_uri": "https://localhost:8080/",
          "height": 34
        },
        "id": "0kzm_utMJdCJ",
        "outputId": "52495f5c-d10c-423b-d15b-e2021b67ac39"
      },
      "source": [
        "mean(test.Y != \"No\")"
      ],
      "execution_count": 140,
      "outputs": [
        {
          "output_type": "display_data",
          "data": {
            "text/plain": [
              "[1] 0.059"
            ],
            "text/latex": "0.059",
            "text/markdown": "0.059",
            "text/html": [
              "0.059"
            ]
          },
          "metadata": {
            "tags": []
          }
        }
      ]
    },
    {
      "cell_type": "markdown",
      "metadata": {
        "id": "3CbcVdh7JdCJ"
      },
      "source": [
        "While the overall error rate is rather low, depending on the situation we may be interested in other methods of measuring the quality of the model. For example, if there is some non-trivial cost to trying to sell insurance to a given individual, then the company would like to try and sell insurance only to customers who are likely to buy it. In that case, the company is more interested in the fraction of individuals that are correctly predicted to buy insurance."
      ]
    },
    {
      "cell_type": "code",
      "metadata": {
        "colab": {
          "base_uri": "https://localhost:8080/",
          "height": 85
        },
        "id": "dizj6eWtJdCJ",
        "outputId": "e2aba40d-4c62-47e3-8bc6-e749f5bd5e63"
      },
      "source": [
        "table(knn.pred, test.Y)"
      ],
      "execution_count": 141,
      "outputs": [
        {
          "output_type": "display_data",
          "data": {
            "text/plain": [
              "        test.Y\n",
              "knn.pred  No Yes\n",
              "     No  873  50\n",
              "     Yes  68   9"
            ]
          },
          "metadata": {
            "tags": []
          }
        }
      ]
    },
    {
      "cell_type": "markdown",
      "metadata": {
        "id": "qEvHctPeJdCK"
      },
      "source": [
        "Looking at the fraction of individuals that are correctly predicted to buy insurance, the KNN classifier with $K = 1$ does far better than random guessing among the customers that are predicted to buy insurance. Among the 77 customers it predicted to buy insurance, 9 (11.7%) of them actually do purchase insurance. This is double the rate one would obtain from random guessing.\n",
        "\n",
        "We can also explore other values of $K$, such as $K = 3$ and $K = 5$, to see how performance changes."
      ]
    },
    {
      "cell_type": "code",
      "metadata": {
        "colab": {
          "base_uri": "https://localhost:8080/",
          "height": 85
        },
        "id": "cqNMNXtOJdCK",
        "outputId": "745b92cc-d981-48de-b4b1-ff03ff8c47f7"
      },
      "source": [
        "knn.pred = knn(train.X, test.X, train.Y, k = 3)\n",
        "table(knn.pred, test.Y)"
      ],
      "execution_count": 142,
      "outputs": [
        {
          "output_type": "display_data",
          "data": {
            "text/plain": [
              "        test.Y\n",
              "knn.pred  No Yes\n",
              "     No  920  54\n",
              "     Yes  21   5"
            ]
          },
          "metadata": {
            "tags": []
          }
        }
      ]
    },
    {
      "cell_type": "code",
      "metadata": {
        "colab": {
          "base_uri": "https://localhost:8080/",
          "height": 85
        },
        "id": "e50oaXAeJdCK",
        "outputId": "7de63fd9-1f84-4427-d1da-7f5647a26b00"
      },
      "source": [
        "knn.pred = knn(train.X, test.X, train.Y, k = 5)\n",
        "table(knn.pred, test.Y)"
      ],
      "execution_count": 143,
      "outputs": [
        {
          "output_type": "display_data",
          "data": {
            "text/plain": [
              "        test.Y\n",
              "knn.pred  No Yes\n",
              "     No  930  55\n",
              "     Yes  11   4"
            ]
          },
          "metadata": {
            "tags": []
          }
        }
      ]
    },
    {
      "cell_type": "markdown",
      "metadata": {
        "id": "4W43XFNjJdCK"
      },
      "source": [
        "With $K = 3$, the success rate of correctly predicting customers who buy insurance increases to $5/26 = 19\\%$, and with $K = 5$ the rate is $4/15 = 26.7\\%$. That is over four times the rate that we get from random guessing! This suggests that KNN is finding some real patterns in a difficult data set.\n",
        "\n",
        "To compare, we can also fit a logistic regression model to the data."
      ]
    },
    {
      "cell_type": "code",
      "metadata": {
        "colab": {
          "base_uri": "https://localhost:8080/"
        },
        "id": "rOeosX-sJdCL",
        "outputId": "f1b9c8ea-43ef-40a6-f154-3660605cebe7"
      },
      "source": [
        "glm.fits = glm(Purchase ~ ., data = Caravan, family = binomial, subset = -test)"
      ],
      "execution_count": 144,
      "outputs": [
        {
          "output_type": "stream",
          "text": [
            "Warning message:\n",
            "“glm.fit: fitted probabilities numerically 0 or 1 occurred”\n"
          ],
          "name": "stderr"
        }
      ]
    },
    {
      "cell_type": "code",
      "metadata": {
        "colab": {
          "base_uri": "https://localhost:8080/",
          "height": 85
        },
        "id": "AE9oa4jyJdCL",
        "outputId": "ccec5658-57a5-442e-838f-0dfd128e90b5"
      },
      "source": [
        "glm.probs = predict(glm.fits, Caravan[test, ], type = \"response\")\n",
        "glm.pred = rep(\"No\", 1000)\n",
        "glm.pred[glm.probs > 0.5] = \"Yes\"\n",
        "table(glm.pred, test.Y)"
      ],
      "execution_count": 145,
      "outputs": [
        {
          "output_type": "display_data",
          "data": {
            "text/plain": [
              "        test.Y\n",
              "glm.pred  No Yes\n",
              "     No  934  59\n",
              "     Yes   7   0"
            ]
          },
          "metadata": {
            "tags": []
          }
        }
      ]
    },
    {
      "cell_type": "markdown",
      "metadata": {
        "id": "E-tfu2tHJdCL"
      },
      "source": [
        "As we can see, if we use 0.5 as the predicted probability cut-off for logistic regression, only seven of the test observations are predicted to purchase insurance. Even worse, all seven of these predictions are incorrect!"
      ]
    },
    {
      "cell_type": "code",
      "metadata": {
        "colab": {
          "base_uri": "https://localhost:8080/",
          "height": 85
        },
        "id": "gnzrknwUJdCM",
        "outputId": "31b653f6-e587-4fd8-f723-eb3f2a866507"
      },
      "source": [
        "glm.probs = predict(glm.fits, Caravan[test, ], type = \"response\")\n",
        "glm.pred = rep(\"No\", 1000)\n",
        "glm.pred[glm.probs > 0.25] = \"Yes\"\n",
        "table(glm.pred, test.Y)"
      ],
      "execution_count": 146,
      "outputs": [
        {
          "output_type": "display_data",
          "data": {
            "text/plain": [
              "        test.Y\n",
              "glm.pred  No Yes\n",
              "     No  919  48\n",
              "     Yes  22  11"
            ]
          },
          "metadata": {
            "tags": []
          }
        }
      ]
    },
    {
      "cell_type": "markdown",
      "metadata": {
        "id": "ifi7wuueJdCM"
      },
      "source": [
        "We aren't required to use a cut-off of 0.5, though. If we instead use a cut-off of 0.25, we get much better results: we predict that 33 people will purchase insurance, and we are correct for 33% of these people. This is over five times better than random guessing!"
      ]
    },
    {
      "cell_type": "markdown",
      "metadata": {
        "id": "TASZRxnyJlch"
      },
      "source": [
        "Reference: https://www.kaggle.com/suugaku/islr-lab-3-r/"
      ]
    }
  ]
}