{
 "cells": [
  {
   "cell_type": "markdown",
   "metadata": {
    "id": "S4ehfAeaZr3Z"
   },
   "source": [
    "# ISLR Chapter 10.4 to 10.6 Lab - PCA, Clustering"
   ]
  },
  {
   "cell_type": "markdown",
   "metadata": {
    "id": "1928ISOPdKVF"
   },
   "source": [
    "# 10.4 - Lab 1: Principal Components Analysis"
   ]
  },
  {
   "cell_type": "code",
   "execution_count": 1,
   "metadata": {
    "colab": {
     "base_uri": "https://localhost:8080/",
     "height": 1000
    },
    "id": "t2RZHtVadixL",
    "outputId": "291870ea-1fb9-4c91-e67b-92cb4ea0cd20"
   },
   "outputs": [
    {
     "data": {
      "text/html": [
       "<style>\n",
       ".list-inline {list-style: none; margin:0; padding: 0}\n",
       ".list-inline>li {display: inline-block}\n",
       ".list-inline>li:not(:last-child)::after {content: \"\\00b7\"; padding: 0 .5ex}\n",
       "</style>\n",
       "<ol class=list-inline><li>'Alabama'</li><li>'Alaska'</li><li>'Arizona'</li><li>'Arkansas'</li><li>'California'</li><li>'Colorado'</li><li>'Connecticut'</li><li>'Delaware'</li><li>'Florida'</li><li>'Georgia'</li><li>'Hawaii'</li><li>'Idaho'</li><li>'Illinois'</li><li>'Indiana'</li><li>'Iowa'</li><li>'Kansas'</li><li>'Kentucky'</li><li>'Louisiana'</li><li>'Maine'</li><li>'Maryland'</li><li>'Massachusetts'</li><li>'Michigan'</li><li>'Minnesota'</li><li>'Mississippi'</li><li>'Missouri'</li><li>'Montana'</li><li>'Nebraska'</li><li>'Nevada'</li><li>'New Hampshire'</li><li>'New Jersey'</li><li>'New Mexico'</li><li>'New York'</li><li>'North Carolina'</li><li>'North Dakota'</li><li>'Ohio'</li><li>'Oklahoma'</li><li>'Oregon'</li><li>'Pennsylvania'</li><li>'Rhode Island'</li><li>'South Carolina'</li><li>'South Dakota'</li><li>'Tennessee'</li><li>'Texas'</li><li>'Utah'</li><li>'Vermont'</li><li>'Virginia'</li><li>'Washington'</li><li>'West Virginia'</li><li>'Wisconsin'</li><li>'Wyoming'</li></ol>\n"
      ],
      "text/latex": [
       "\\begin{enumerate*}\n",
       "\\item 'Alabama'\n",
       "\\item 'Alaska'\n",
       "\\item 'Arizona'\n",
       "\\item 'Arkansas'\n",
       "\\item 'California'\n",
       "\\item 'Colorado'\n",
       "\\item 'Connecticut'\n",
       "\\item 'Delaware'\n",
       "\\item 'Florida'\n",
       "\\item 'Georgia'\n",
       "\\item 'Hawaii'\n",
       "\\item 'Idaho'\n",
       "\\item 'Illinois'\n",
       "\\item 'Indiana'\n",
       "\\item 'Iowa'\n",
       "\\item 'Kansas'\n",
       "\\item 'Kentucky'\n",
       "\\item 'Louisiana'\n",
       "\\item 'Maine'\n",
       "\\item 'Maryland'\n",
       "\\item 'Massachusetts'\n",
       "\\item 'Michigan'\n",
       "\\item 'Minnesota'\n",
       "\\item 'Mississippi'\n",
       "\\item 'Missouri'\n",
       "\\item 'Montana'\n",
       "\\item 'Nebraska'\n",
       "\\item 'Nevada'\n",
       "\\item 'New Hampshire'\n",
       "\\item 'New Jersey'\n",
       "\\item 'New Mexico'\n",
       "\\item 'New York'\n",
       "\\item 'North Carolina'\n",
       "\\item 'North Dakota'\n",
       "\\item 'Ohio'\n",
       "\\item 'Oklahoma'\n",
       "\\item 'Oregon'\n",
       "\\item 'Pennsylvania'\n",
       "\\item 'Rhode Island'\n",
       "\\item 'South Carolina'\n",
       "\\item 'South Dakota'\n",
       "\\item 'Tennessee'\n",
       "\\item 'Texas'\n",
       "\\item 'Utah'\n",
       "\\item 'Vermont'\n",
       "\\item 'Virginia'\n",
       "\\item 'Washington'\n",
       "\\item 'West Virginia'\n",
       "\\item 'Wisconsin'\n",
       "\\item 'Wyoming'\n",
       "\\end{enumerate*}\n"
      ],
      "text/markdown": [
       "1. 'Alabama'\n",
       "2. 'Alaska'\n",
       "3. 'Arizona'\n",
       "4. 'Arkansas'\n",
       "5. 'California'\n",
       "6. 'Colorado'\n",
       "7. 'Connecticut'\n",
       "8. 'Delaware'\n",
       "9. 'Florida'\n",
       "10. 'Georgia'\n",
       "11. 'Hawaii'\n",
       "12. 'Idaho'\n",
       "13. 'Illinois'\n",
       "14. 'Indiana'\n",
       "15. 'Iowa'\n",
       "16. 'Kansas'\n",
       "17. 'Kentucky'\n",
       "18. 'Louisiana'\n",
       "19. 'Maine'\n",
       "20. 'Maryland'\n",
       "21. 'Massachusetts'\n",
       "22. 'Michigan'\n",
       "23. 'Minnesota'\n",
       "24. 'Mississippi'\n",
       "25. 'Missouri'\n",
       "26. 'Montana'\n",
       "27. 'Nebraska'\n",
       "28. 'Nevada'\n",
       "29. 'New Hampshire'\n",
       "30. 'New Jersey'\n",
       "31. 'New Mexico'\n",
       "32. 'New York'\n",
       "33. 'North Carolina'\n",
       "34. 'North Dakota'\n",
       "35. 'Ohio'\n",
       "36. 'Oklahoma'\n",
       "37. 'Oregon'\n",
       "38. 'Pennsylvania'\n",
       "39. 'Rhode Island'\n",
       "40. 'South Carolina'\n",
       "41. 'South Dakota'\n",
       "42. 'Tennessee'\n",
       "43. 'Texas'\n",
       "44. 'Utah'\n",
       "45. 'Vermont'\n",
       "46. 'Virginia'\n",
       "47. 'Washington'\n",
       "48. 'West Virginia'\n",
       "49. 'Wisconsin'\n",
       "50. 'Wyoming'\n",
       "\n",
       "\n"
      ],
      "text/plain": [
       " [1] \"Alabama\"        \"Alaska\"         \"Arizona\"        \"Arkansas\"      \n",
       " [5] \"California\"     \"Colorado\"       \"Connecticut\"    \"Delaware\"      \n",
       " [9] \"Florida\"        \"Georgia\"        \"Hawaii\"         \"Idaho\"         \n",
       "[13] \"Illinois\"       \"Indiana\"        \"Iowa\"           \"Kansas\"        \n",
       "[17] \"Kentucky\"       \"Louisiana\"      \"Maine\"          \"Maryland\"      \n",
       "[21] \"Massachusetts\"  \"Michigan\"       \"Minnesota\"      \"Mississippi\"   \n",
       "[25] \"Missouri\"       \"Montana\"        \"Nebraska\"       \"Nevada\"        \n",
       "[29] \"New Hampshire\"  \"New Jersey\"     \"New Mexico\"     \"New York\"      \n",
       "[33] \"North Carolina\" \"North Dakota\"   \"Ohio\"           \"Oklahoma\"      \n",
       "[37] \"Oregon\"         \"Pennsylvania\"   \"Rhode Island\"   \"South Carolina\"\n",
       "[41] \"South Dakota\"   \"Tennessee\"      \"Texas\"          \"Utah\"          \n",
       "[45] \"Vermont\"        \"Virginia\"       \"Washington\"     \"West Virginia\" \n",
       "[49] \"Wisconsin\"      \"Wyoming\"       "
      ]
     },
     "metadata": {},
     "output_type": "display_data"
    },
    {
     "data": {
      "text/html": [
       "<style>\n",
       ".list-inline {list-style: none; margin:0; padding: 0}\n",
       ".list-inline>li {display: inline-block}\n",
       ".list-inline>li:not(:last-child)::after {content: \"\\00b7\"; padding: 0 .5ex}\n",
       "</style>\n",
       "<ol class=list-inline><li>'Murder'</li><li>'Assault'</li><li>'UrbanPop'</li><li>'Rape'</li></ol>\n"
      ],
      "text/latex": [
       "\\begin{enumerate*}\n",
       "\\item 'Murder'\n",
       "\\item 'Assault'\n",
       "\\item 'UrbanPop'\n",
       "\\item 'Rape'\n",
       "\\end{enumerate*}\n"
      ],
      "text/markdown": [
       "1. 'Murder'\n",
       "2. 'Assault'\n",
       "3. 'UrbanPop'\n",
       "4. 'Rape'\n",
       "\n",
       "\n"
      ],
      "text/plain": [
       "[1] \"Murder\"   \"Assault\"  \"UrbanPop\" \"Rape\"    "
      ]
     },
     "metadata": {},
     "output_type": "display_data"
    },
    {
     "data": {
      "text/html": [
       "<style>\n",
       ".dl-inline {width: auto; margin:0; padding: 0}\n",
       ".dl-inline>dt, .dl-inline>dd {float: none; width: auto; display: inline-block}\n",
       ".dl-inline>dt::after {content: \":\\0020\"; padding-right: .5ex}\n",
       ".dl-inline>dt:not(:first-of-type) {padding-left: .5ex}\n",
       "</style><dl class=dl-inline><dt>Murder</dt><dd>7.788</dd><dt>Assault</dt><dd>170.76</dd><dt>UrbanPop</dt><dd>65.54</dd><dt>Rape</dt><dd>21.232</dd></dl>\n"
      ],
      "text/latex": [
       "\\begin{description*}\n",
       "\\item[Murder] 7.788\n",
       "\\item[Assault] 170.76\n",
       "\\item[UrbanPop] 65.54\n",
       "\\item[Rape] 21.232\n",
       "\\end{description*}\n"
      ],
      "text/markdown": [
       "Murder\n",
       ":   7.788Assault\n",
       ":   170.76UrbanPop\n",
       ":   65.54Rape\n",
       ":   21.232\n",
       "\n"
      ],
      "text/plain": [
       "  Murder  Assault UrbanPop     Rape \n",
       "   7.788  170.760   65.540   21.232 "
      ]
     },
     "metadata": {},
     "output_type": "display_data"
    },
    {
     "data": {
      "text/html": [
       "<style>\n",
       ".dl-inline {width: auto; margin:0; padding: 0}\n",
       ".dl-inline>dt, .dl-inline>dd {float: none; width: auto; display: inline-block}\n",
       ".dl-inline>dt::after {content: \":\\0020\"; padding-right: .5ex}\n",
       ".dl-inline>dt:not(:first-of-type) {padding-left: .5ex}\n",
       "</style><dl class=dl-inline><dt>Murder</dt><dd>18.9704653061224</dd><dt>Assault</dt><dd>6945.16571428571</dd><dt>UrbanPop</dt><dd>209.518775510204</dd><dt>Rape</dt><dd>87.7291591836735</dd></dl>\n"
      ],
      "text/latex": [
       "\\begin{description*}\n",
       "\\item[Murder] 18.9704653061224\n",
       "\\item[Assault] 6945.16571428571\n",
       "\\item[UrbanPop] 209.518775510204\n",
       "\\item[Rape] 87.7291591836735\n",
       "\\end{description*}\n"
      ],
      "text/markdown": [
       "Murder\n",
       ":   18.9704653061224Assault\n",
       ":   6945.16571428571UrbanPop\n",
       ":   209.518775510204Rape\n",
       ":   87.7291591836735\n",
       "\n"
      ],
      "text/plain": [
       "    Murder    Assault   UrbanPop       Rape \n",
       "  18.97047 6945.16571  209.51878   87.72916 "
      ]
     },
     "metadata": {},
     "output_type": "display_data"
    },
    {
     "data": {
      "text/html": [
       "<style>\n",
       ".list-inline {list-style: none; margin:0; padding: 0}\n",
       ".list-inline>li {display: inline-block}\n",
       ".list-inline>li:not(:last-child)::after {content: \"\\00b7\"; padding: 0 .5ex}\n",
       "</style>\n",
       "<ol class=list-inline><li>'sdev'</li><li>'rotation'</li><li>'center'</li><li>'scale'</li><li>'x'</li></ol>\n"
      ],
      "text/latex": [
       "\\begin{enumerate*}\n",
       "\\item 'sdev'\n",
       "\\item 'rotation'\n",
       "\\item 'center'\n",
       "\\item 'scale'\n",
       "\\item 'x'\n",
       "\\end{enumerate*}\n"
      ],
      "text/markdown": [
       "1. 'sdev'\n",
       "2. 'rotation'\n",
       "3. 'center'\n",
       "4. 'scale'\n",
       "5. 'x'\n",
       "\n",
       "\n"
      ],
      "text/plain": [
       "[1] \"sdev\"     \"rotation\" \"center\"   \"scale\"    \"x\"       "
      ]
     },
     "metadata": {},
     "output_type": "display_data"
    },
    {
     "data": {
      "text/html": [
       "<style>\n",
       ".dl-inline {width: auto; margin:0; padding: 0}\n",
       ".dl-inline>dt, .dl-inline>dd {float: none; width: auto; display: inline-block}\n",
       ".dl-inline>dt::after {content: \":\\0020\"; padding-right: .5ex}\n",
       ".dl-inline>dt:not(:first-of-type) {padding-left: .5ex}\n",
       "</style><dl class=dl-inline><dt>Murder</dt><dd>7.788</dd><dt>Assault</dt><dd>170.76</dd><dt>UrbanPop</dt><dd>65.54</dd><dt>Rape</dt><dd>21.232</dd></dl>\n"
      ],
      "text/latex": [
       "\\begin{description*}\n",
       "\\item[Murder] 7.788\n",
       "\\item[Assault] 170.76\n",
       "\\item[UrbanPop] 65.54\n",
       "\\item[Rape] 21.232\n",
       "\\end{description*}\n"
      ],
      "text/markdown": [
       "Murder\n",
       ":   7.788Assault\n",
       ":   170.76UrbanPop\n",
       ":   65.54Rape\n",
       ":   21.232\n",
       "\n"
      ],
      "text/plain": [
       "  Murder  Assault UrbanPop     Rape \n",
       "   7.788  170.760   65.540   21.232 "
      ]
     },
     "metadata": {},
     "output_type": "display_data"
    },
    {
     "data": {
      "text/html": [
       "<style>\n",
       ".dl-inline {width: auto; margin:0; padding: 0}\n",
       ".dl-inline>dt, .dl-inline>dd {float: none; width: auto; display: inline-block}\n",
       ".dl-inline>dt::after {content: \":\\0020\"; padding-right: .5ex}\n",
       ".dl-inline>dt:not(:first-of-type) {padding-left: .5ex}\n",
       "</style><dl class=dl-inline><dt>Murder</dt><dd>4.35550976420929</dd><dt>Assault</dt><dd>83.3376608400171</dd><dt>UrbanPop</dt><dd>14.4747634008368</dd><dt>Rape</dt><dd>9.36638453105965</dd></dl>\n"
      ],
      "text/latex": [
       "\\begin{description*}\n",
       "\\item[Murder] 4.35550976420929\n",
       "\\item[Assault] 83.3376608400171\n",
       "\\item[UrbanPop] 14.4747634008368\n",
       "\\item[Rape] 9.36638453105965\n",
       "\\end{description*}\n"
      ],
      "text/markdown": [
       "Murder\n",
       ":   4.35550976420929Assault\n",
       ":   83.3376608400171UrbanPop\n",
       ":   14.4747634008368Rape\n",
       ":   9.36638453105965\n",
       "\n"
      ],
      "text/plain": [
       "   Murder   Assault  UrbanPop      Rape \n",
       " 4.355510 83.337661 14.474763  9.366385 "
      ]
     },
     "metadata": {},
     "output_type": "display_data"
    },
    {
     "data": {
      "text/html": [
       "<table class=\"dataframe\">\n",
       "<caption>A matrix: 4 × 4 of type dbl</caption>\n",
       "<thead>\n",
       "\t<tr><th></th><th scope=col>PC1</th><th scope=col>PC2</th><th scope=col>PC3</th><th scope=col>PC4</th></tr>\n",
       "</thead>\n",
       "<tbody>\n",
       "\t<tr><th scope=row>Murder</th><td>-0.5358995</td><td> 0.4181809</td><td>-0.3412327</td><td> 0.64922780</td></tr>\n",
       "\t<tr><th scope=row>Assault</th><td>-0.5831836</td><td> 0.1879856</td><td>-0.2681484</td><td>-0.74340748</td></tr>\n",
       "\t<tr><th scope=row>UrbanPop</th><td>-0.2781909</td><td>-0.8728062</td><td>-0.3780158</td><td> 0.13387773</td></tr>\n",
       "\t<tr><th scope=row>Rape</th><td>-0.5434321</td><td>-0.1673186</td><td> 0.8177779</td><td> 0.08902432</td></tr>\n",
       "</tbody>\n",
       "</table>\n"
      ],
      "text/latex": [
       "A matrix: 4 × 4 of type dbl\n",
       "\\begin{tabular}{r|llll}\n",
       "  & PC1 & PC2 & PC3 & PC4\\\\\n",
       "\\hline\n",
       "\tMurder & -0.5358995 &  0.4181809 & -0.3412327 &  0.64922780\\\\\n",
       "\tAssault & -0.5831836 &  0.1879856 & -0.2681484 & -0.74340748\\\\\n",
       "\tUrbanPop & -0.2781909 & -0.8728062 & -0.3780158 &  0.13387773\\\\\n",
       "\tRape & -0.5434321 & -0.1673186 &  0.8177779 &  0.08902432\\\\\n",
       "\\end{tabular}\n"
      ],
      "text/markdown": [
       "\n",
       "A matrix: 4 × 4 of type dbl\n",
       "\n",
       "| <!--/--> | PC1 | PC2 | PC3 | PC4 |\n",
       "|---|---|---|---|---|\n",
       "| Murder | -0.5358995 |  0.4181809 | -0.3412327 |  0.64922780 |\n",
       "| Assault | -0.5831836 |  0.1879856 | -0.2681484 | -0.74340748 |\n",
       "| UrbanPop | -0.2781909 | -0.8728062 | -0.3780158 |  0.13387773 |\n",
       "| Rape | -0.5434321 | -0.1673186 |  0.8177779 |  0.08902432 |\n",
       "\n"
      ],
      "text/plain": [
       "         PC1        PC2        PC3        PC4        \n",
       "Murder   -0.5358995  0.4181809 -0.3412327  0.64922780\n",
       "Assault  -0.5831836  0.1879856 -0.2681484 -0.74340748\n",
       "UrbanPop -0.2781909 -0.8728062 -0.3780158  0.13387773\n",
       "Rape     -0.5434321 -0.1673186  0.8177779  0.08902432"
      ]
     },
     "metadata": {},
     "output_type": "display_data"
    },
    {
     "data": {
      "text/html": [
       "<style>\n",
       ".list-inline {list-style: none; margin:0; padding: 0}\n",
       ".list-inline>li {display: inline-block}\n",
       ".list-inline>li:not(:last-child)::after {content: \"\\00b7\"; padding: 0 .5ex}\n",
       "</style>\n",
       "<ol class=list-inline><li>50</li><li>4</li></ol>\n"
      ],
      "text/latex": [
       "\\begin{enumerate*}\n",
       "\\item 50\n",
       "\\item 4\n",
       "\\end{enumerate*}\n"
      ],
      "text/markdown": [
       "1. 50\n",
       "2. 4\n",
       "\n",
       "\n"
      ],
      "text/plain": [
       "[1] 50  4"
      ]
     },
     "metadata": {},
     "output_type": "display_data"
    },
    {
     "data": {
      "image/png": "[encoded data removed]",
      "text/plain": [
       "plot without title"
      ]
     },
     "metadata": {
      "image/png": {
       "height": 420,
       "width": 420
      }
     },
     "output_type": "display_data"
    },
    {
     "data": {
      "text/html": [
       "<style>\n",
       ".list-inline {list-style: none; margin:0; padding: 0}\n",
       ".list-inline>li {display: inline-block}\n",
       ".list-inline>li:not(:last-child)::after {content: \"\\00b7\"; padding: 0 .5ex}\n",
       "</style>\n",
       "<ol class=list-inline><li>1.57487827439123</li><li>0.994869414817764</li><li>0.597129115502527</li><li>0.41644938195396</li></ol>\n"
      ],
      "text/latex": [
       "\\begin{enumerate*}\n",
       "\\item 1.57487827439123\n",
       "\\item 0.994869414817764\n",
       "\\item 0.597129115502527\n",
       "\\item 0.41644938195396\n",
       "\\end{enumerate*}\n"
      ],
      "text/markdown": [
       "1. 1.57487827439123\n",
       "2. 0.994869414817764\n",
       "3. 0.597129115502527\n",
       "4. 0.41644938195396\n",
       "\n",
       "\n"
      ],
      "text/plain": [
       "[1] 1.5748783 0.9948694 0.5971291 0.4164494"
      ]
     },
     "metadata": {},
     "output_type": "display_data"
    },
    {
     "data": {
      "text/html": [
       "<style>\n",
       ".list-inline {list-style: none; margin:0; padding: 0}\n",
       ".list-inline>li {display: inline-block}\n",
       ".list-inline>li:not(:last-child)::after {content: \"\\00b7\"; padding: 0 .5ex}\n",
       "</style>\n",
       "<ol class=list-inline><li>2.48024157914949</li><li>0.98976515253984</li><li>0.35656318058083</li><li>0.173430087729835</li></ol>\n"
      ],
      "text/latex": [
       "\\begin{enumerate*}\n",
       "\\item 2.48024157914949\n",
       "\\item 0.98976515253984\n",
       "\\item 0.35656318058083\n",
       "\\item 0.173430087729835\n",
       "\\end{enumerate*}\n"
      ],
      "text/markdown": [
       "1. 2.48024157914949\n",
       "2. 0.98976515253984\n",
       "3. 0.35656318058083\n",
       "4. 0.173430087729835\n",
       "\n",
       "\n"
      ],
      "text/plain": [
       "[1] 2.4802416 0.9897652 0.3565632 0.1734301"
      ]
     },
     "metadata": {},
     "output_type": "display_data"
    },
    {
     "data": {
      "text/html": [
       "<style>\n",
       ".list-inline {list-style: none; margin:0; padding: 0}\n",
       ".list-inline>li {display: inline-block}\n",
       ".list-inline>li:not(:last-child)::after {content: \"\\00b7\"; padding: 0 .5ex}\n",
       "</style>\n",
       "<ol class=list-inline><li>0.620060394787374</li><li>0.24744128813496</li><li>0.0891407951452075</li><li>0.0433575219324588</li></ol>\n"
      ],
      "text/latex": [
       "\\begin{enumerate*}\n",
       "\\item 0.620060394787374\n",
       "\\item 0.24744128813496\n",
       "\\item 0.0891407951452075\n",
       "\\item 0.0433575219324588\n",
       "\\end{enumerate*}\n"
      ],
      "text/markdown": [
       "1. 0.620060394787374\n",
       "2. 0.24744128813496\n",
       "3. 0.0891407951452075\n",
       "4. 0.0433575219324588\n",
       "\n",
       "\n"
      ],
      "text/plain": [
       "[1] 0.62006039 0.24744129 0.08914080 0.04335752"
      ]
     },
     "metadata": {},
     "output_type": "display_data"
    },
    {
     "data": {
      "image/png": "[encoded data removed]",
      "text/plain": [
       "plot without title"
      ]
     },
     "metadata": {
      "image/png": {
       "height": 420,
       "width": 420
      }
     },
     "output_type": "display_data"
    },
    {
     "data": {
      "image/png": "[encoded data removed]",
      "text/plain": [
       "plot without title"
      ]
     },
     "metadata": {
      "image/png": {
       "height": 420,
       "width": 420
      }
     },
     "output_type": "display_data"
    },
    {
     "data": {
      "text/html": [
       "<style>\n",
       ".list-inline {list-style: none; margin:0; padding: 0}\n",
       ".list-inline>li {display: inline-block}\n",
       ".list-inline>li:not(:last-child)::after {content: \"\\00b7\"; padding: 0 .5ex}\n",
       "</style>\n",
       "<ol class=list-inline><li>1</li><li>3</li><li>11</li><li>8</li></ol>\n"
      ],
      "text/latex": [
       "\\begin{enumerate*}\n",
       "\\item 1\n",
       "\\item 3\n",
       "\\item 11\n",
       "\\item 8\n",
       "\\end{enumerate*}\n"
      ],
      "text/markdown": [
       "1. 1\n",
       "2. 3\n",
       "3. 11\n",
       "4. 8\n",
       "\n",
       "\n"
      ],
      "text/plain": [
       "[1]  1  3 11  8"
      ]
     },
     "metadata": {},
     "output_type": "display_data"
    },
    {
     "data": {
      "image/png": "[encoded data removed]",
      "text/plain": [
       "plot without title"
      ]
     },
     "metadata": {
      "image/png": {
       "height": 420,
       "width": 420
      }
     },
     "output_type": "display_data"
    }
   ],
   "source": [
    "states=row.names(USArrests)\n",
    "states\n",
    "names(USArrests)\n",
    "apply(USArrests, 2, mean)\n",
    "apply(USArrests, 2, var)\n",
    "pr.out=prcomp(USArrests, scale=TRUE)\n",
    "names(pr.out)\n",
    "pr.out$center\n",
    "pr.out$scale\n",
    "pr.out$rotation\n",
    "dim(pr.out$x)\n",
    "biplot(pr.out, scale=0)\n",
    "pr.out$rotation=-pr.out$rotation\n",
    "pr.out$x=-pr.out$x\n",
    "biplot(pr.out, scale=0)\n",
    "pr.out$sdev\n",
    "pr.var=pr.out$sdev^2\n",
    "pr.var\n",
    "pve=pr.var/sum(pr.var)\n",
    "pve\n",
    "plot(pve, xlab=\"Principal Component\", ylab=\"Proportion of Variance Explained\", ylim=c(0,1),type='b')\n",
    "plot(cumsum(pve), xlab=\"Principal Component\", ylab=\"Cumulative Proportion of Variance Explained\", ylim=c(0,1),type='b')\n",
    "a=c(1,2,8,-3)\n",
    "cumsum(a)"
   ]
  },
  {
   "cell_type": "markdown",
   "metadata": {
    "id": "toKoCPghZxC4"
   },
   "source": [
    "This lab on K-Means and Hierarchical Clustering in R is an adaptation of p. 404-407, 410-413 of \"Introduction to\n",
    "Statistical Learning with Applications in R\" by Gareth James, Daniela Witten, Trevor Hastie and Robert\n",
    "Tibshirani.\n",
    "\n",
    "\n",
    "# 10.5.1 K-Means Clustering\n",
    "The function `kmeans()` performs K-means clustering in R. We begin with\n",
    "a simple simulated example in which there truly are two clusters in the\n",
    "data: the first 25 observations have a mean shift relative to the next 25\n",
    "observations."
   ]
  },
  {
   "cell_type": "code",
   "execution_count": 2,
   "metadata": {
    "id": "i37ZBcQ6Zr3k"
   },
   "outputs": [],
   "source": [
    "set.seed(2)\n",
    "x = matrix(rnorm(50*2), ncol = 2)\n",
    "\n",
    "x[1:25,1] = x[1:25,1]+3\n",
    "x[1:25,2] = x[1:25,2]-4\n",
    "\n",
    "x = as.data.frame(x)"
   ]
  },
  {
   "cell_type": "markdown",
   "metadata": {
    "id": "kwmME7QIZr3m"
   },
   "source": [
    "We now perform K-means clustering with `K = 2`:"
   ]
  },
  {
   "cell_type": "code",
   "execution_count": 3,
   "metadata": {
    "id": "MiQsyKyyZr3n"
   },
   "outputs": [],
   "source": [
    "km_out = kmeans(x, 2, nstart = 20)"
   ]
  },
  {
   "cell_type": "markdown",
   "metadata": {
    "id": "XUq57pbpZr3n"
   },
   "source": [
    "The cluster assignments of the 50 observations are contained in\n",
    "`km_out$cluster`:"
   ]
  },
  {
   "cell_type": "code",
   "execution_count": 4,
   "metadata": {
    "colab": {
     "base_uri": "https://localhost:8080/",
     "height": 34
    },
    "id": "gsR5HfBhZr3n",
    "outputId": "1c91b911-ff35-40a6-c021-800e086b2ad1"
   },
   "outputs": [
    {
     "data": {
      "text/html": [
       "<style>\n",
       ".list-inline {list-style: none; margin:0; padding: 0}\n",
       ".list-inline>li {display: inline-block}\n",
       ".list-inline>li:not(:last-child)::after {content: \"\\00b7\"; padding: 0 .5ex}\n",
       "</style>\n",
       "<ol class=list-inline><li>1</li><li>1</li><li>1</li><li>1</li><li>1</li><li>1</li><li>1</li><li>1</li><li>1</li><li>1</li><li>1</li><li>1</li><li>1</li><li>1</li><li>1</li><li>1</li><li>1</li><li>1</li><li>1</li><li>1</li><li>1</li><li>1</li><li>1</li><li>1</li><li>1</li><li>2</li><li>2</li><li>2</li><li>2</li><li>2</li><li>2</li><li>2</li><li>2</li><li>2</li><li>2</li><li>2</li><li>2</li><li>2</li><li>2</li><li>2</li><li>2</li><li>2</li><li>2</li><li>2</li><li>2</li><li>2</li><li>2</li><li>2</li><li>2</li><li>2</li></ol>\n"
      ],
      "text/latex": [
       "\\begin{enumerate*}\n",
       "\\item 1\n",
       "\\item 1\n",
       "\\item 1\n",
       "\\item 1\n",
       "\\item 1\n",
       "\\item 1\n",
       "\\item 1\n",
       "\\item 1\n",
       "\\item 1\n",
       "\\item 1\n",
       "\\item 1\n",
       "\\item 1\n",
       "\\item 1\n",
       "\\item 1\n",
       "\\item 1\n",
       "\\item 1\n",
       "\\item 1\n",
       "\\item 1\n",
       "\\item 1\n",
       "\\item 1\n",
       "\\item 1\n",
       "\\item 1\n",
       "\\item 1\n",
       "\\item 1\n",
       "\\item 1\n",
       "\\item 2\n",
       "\\item 2\n",
       "\\item 2\n",
       "\\item 2\n",
       "\\item 2\n",
       "\\item 2\n",
       "\\item 2\n",
       "\\item 2\n",
       "\\item 2\n",
       "\\item 2\n",
       "\\item 2\n",
       "\\item 2\n",
       "\\item 2\n",
       "\\item 2\n",
       "\\item 2\n",
       "\\item 2\n",
       "\\item 2\n",
       "\\item 2\n",
       "\\item 2\n",
       "\\item 2\n",
       "\\item 2\n",
       "\\item 2\n",
       "\\item 2\n",
       "\\item 2\n",
       "\\item 2\n",
       "\\end{enumerate*}\n"
      ],
      "text/markdown": [
       "1. 1\n",
       "2. 1\n",
       "3. 1\n",
       "4. 1\n",
       "5. 1\n",
       "6. 1\n",
       "7. 1\n",
       "8. 1\n",
       "9. 1\n",
       "10. 1\n",
       "11. 1\n",
       "12. 1\n",
       "13. 1\n",
       "14. 1\n",
       "15. 1\n",
       "16. 1\n",
       "17. 1\n",
       "18. 1\n",
       "19. 1\n",
       "20. 1\n",
       "21. 1\n",
       "22. 1\n",
       "23. 1\n",
       "24. 1\n",
       "25. 1\n",
       "26. 2\n",
       "27. 2\n",
       "28. 2\n",
       "29. 2\n",
       "30. 2\n",
       "31. 2\n",
       "32. 2\n",
       "33. 2\n",
       "34. 2\n",
       "35. 2\n",
       "36. 2\n",
       "37. 2\n",
       "38. 2\n",
       "39. 2\n",
       "40. 2\n",
       "41. 2\n",
       "42. 2\n",
       "43. 2\n",
       "44. 2\n",
       "45. 2\n",
       "46. 2\n",
       "47. 2\n",
       "48. 2\n",
       "49. 2\n",
       "50. 2\n",
       "\n",
       "\n"
      ],
      "text/plain": [
       " [1] 1 1 1 1 1 1 1 1 1 1 1 1 1 1 1 1 1 1 1 1 1 1 1 1 1 2 2 2 2 2 2 2 2 2 2 2 2 2\n",
       "[39] 2 2 2 2 2 2 2 2 2 2 2 2"
      ]
     },
     "metadata": {},
     "output_type": "display_data"
    }
   ],
   "source": [
    "km_out$cluster"
   ]
  },
  {
   "cell_type": "markdown",
   "metadata": {
    "id": "sjYV8Y_zZr3o"
   },
   "source": [
    "The K-means clustering perfectly separated the observations into two clusters\n",
    "even though we did not supply any group information to `kmeans()`. We\n",
    "can plot the data, with each observation colored according to its cluster\n",
    "assignment:"
   ]
  },
  {
   "cell_type": "code",
   "execution_count": 5,
   "metadata": {
    "colab": {
     "base_uri": "https://localhost:8080/",
     "height": 828
    },
    "id": "fv_0QssgZr3o",
    "outputId": "9fce67c1-46ad-470c-f829-7a44d42114c5"
   },
   "outputs": [
    {
     "name": "stdout",
     "output_type": "stream",
     "text": [
      "package 'ggplot2' successfully unpacked and MD5 sums checked\n",
      "\n",
      "The downloaded binary packages are in\n",
      "\tC:\\Users\\willi\\AppData\\Local\\Temp\\RtmpmYDfrB\\downloaded_packages\n",
      "\n",
      "  There is a binary version available but the source version is later:\n",
      "      binary source needs_compilation\n",
      "dplyr  1.0.5  1.0.6              TRUE\n",
      "\n",
      "  Binaries will be installed\n",
      "package 'dplyr' successfully unpacked and MD5 sums checked\n",
      "\n",
      "The downloaded binary packages are in\n",
      "\tC:\\Users\\willi\\AppData\\Local\\Temp\\RtmpmYDfrB\\downloaded_packages\n",
      "package 'broom' successfully unpacked and MD5 sums checked\n",
      "\n",
      "The downloaded binary packages are in\n",
      "\tC:\\Users\\willi\\AppData\\Local\\Temp\\RtmpmYDfrB\\downloaded_packages\n"
     ]
    },
    {
     "name": "stderr",
     "output_type": "stream",
     "text": [
      "Warning message:\n",
      "\"package 'ggplot2' was built under R version 3.6.3\"\n",
      "Warning message:\n",
      "\"package 'dplyr' was built under R version 3.6.3\"\n",
      "\n",
      "Attaching package: 'dplyr'\n",
      "\n",
      "\n",
      "The following objects are masked from 'package:stats':\n",
      "\n",
      "    filter, lag\n",
      "\n",
      "\n",
      "The following objects are masked from 'package:base':\n",
      "\n",
      "    intersect, setdiff, setequal, union\n",
      "\n",
      "\n",
      "Warning message:\n",
      "\"package 'broom' was built under R version 3.6.3\"\n"
     ]
    },
    {
     "data": {
      "image/png": "[encoded data removed]",
      "text/plain": [
       "plot without title"
      ]
     },
     "metadata": {
      "image/png": {
       "height": 420,
       "width": 420
      }
     },
     "output_type": "display_data"
    }
   ],
   "source": [
    "install.packages(\"ggplot2\", repos='http://cran.us.r-project.org')\n",
    "install.packages(\"dplyr\", repos='http://cran.us.r-project.org')\n",
    "install.packages(\"broom\", repos='http://cran.us.r-project.org')\n",
    "library(ggplot2)\n",
    "library(dplyr)\n",
    "library(broom)\n",
    "\n",
    "assignments <- augment(km_out, x)\n",
    "\n",
    "ggplot(data = assignments) +\n",
    "    geom_point(aes(x = V1, y = V2, color = .cluster)) +\n",
    "    labs(color = \"Cluster Assignment\",\n",
    "         title = \"K-Means Clustering Results with K = 2\")"
   ]
  },
  {
   "cell_type": "markdown",
   "metadata": {
    "id": "603dk62vZr3p"
   },
   "source": [
    "Here the observations can be easily plotted because they are two-dimensional.\n",
    "If there were more than two variables then we could instead perform PCA\n",
    "and plot the first two principal components score vectors.\n",
    "\n",
    "In this example, we knew that there really were two clusters because\n",
    "we generated the data. However, for real data, in general we do not know\n",
    "the true number of clusters. We could instead have performed K-means\n",
    "clustering on this example with `K  =  3`. If we do this, K-means clustering will split up the two \"real\" clusters, since it has no information about them:"
   ]
  },
  {
   "cell_type": "code",
   "execution_count": 6,
   "metadata": {
    "colab": {
     "base_uri": "https://localhost:8080/",
     "height": 437
    },
    "id": "9gZmopofZr3q",
    "outputId": "13b7f018-b0d5-49b1-acc4-18e0f701508b"
   },
   "outputs": [
    {
     "data": {
      "image/png": "[encoded data removed]",
      "text/plain": [
       "plot without title"
      ]
     },
     "metadata": {
      "image/png": {
       "height": 420,
       "width": 420
      }
     },
     "output_type": "display_data"
    }
   ],
   "source": [
    "km_out_3clust = kmeans(x, 3, nstart = 20)\n",
    "\n",
    "assignments_3clust <- augment(km_out_3clust, x)\n",
    "\n",
    "ggplot(data = assignments_3clust) +\n",
    "    geom_point(aes(x = V1, y = V2, color = .cluster)) +\n",
    "    labs(color = \"Cluster Assignment\",\n",
    "         title = \"K-Means Clustering Results with K = 3\")"
   ]
  },
  {
   "cell_type": "markdown",
   "metadata": {
    "id": "LQfAW-MtZr3r"
   },
   "source": [
    "To run the `kmeans()` function in R with multiple initial cluster assignments,\n",
    "we use the `nstart` argument. If a value of `nstart` greater than one\n",
    "is used, then K-means clustering will be performed using multiple random\n",
    "assignments, and the `kmeans()` function will\n",
    "report only the best results. Here we compare using `nstart = 1`:"
   ]
  },
  {
   "cell_type": "code",
   "execution_count": 7,
   "metadata": {
    "colab": {
     "base_uri": "https://localhost:8080/",
     "height": 34
    },
    "id": "_tOWgEs7Zr3s",
    "outputId": "d6a70ade-118e-4d79-b032-740ac1f665f3"
   },
   "outputs": [
    {
     "data": {
      "text/html": [
       "97.9792674793981"
      ],
      "text/latex": [
       "97.9792674793981"
      ],
      "text/markdown": [
       "97.9792674793981"
      ],
      "text/plain": [
       "[1] 97.97927"
      ]
     },
     "metadata": {},
     "output_type": "display_data"
    }
   ],
   "source": [
    "set.seed(3)\n",
    "km_out_single_run = kmeans(x, 3, nstart = 1)\n",
    "km_out_single_run$tot.withinss"
   ]
  },
  {
   "cell_type": "markdown",
   "metadata": {
    "id": "Hls48loBZr3s"
   },
   "source": [
    "to `nstart = 20`:"
   ]
  },
  {
   "cell_type": "code",
   "execution_count": 8,
   "metadata": {
    "colab": {
     "base_uri": "https://localhost:8080/",
     "height": 34
    },
    "id": "9uifKi_YZr3t",
    "outputId": "7f813297-e84e-4985-effd-d6dc90909ab7"
   },
   "outputs": [
    {
     "data": {
      "text/html": [
       "97.9792674793981"
      ],
      "text/latex": [
       "97.9792674793981"
      ],
      "text/markdown": [
       "97.9792674793981"
      ],
      "text/plain": [
       "[1] 97.97927"
      ]
     },
     "metadata": {},
     "output_type": "display_data"
    }
   ],
   "source": [
    "km_out_20_runs = kmeans(x, 3, nstart = 20)\n",
    "km_out_20_runs$tot.withinss"
   ]
  },
  {
   "cell_type": "markdown",
   "metadata": {
    "id": "pcml71PjZr3t"
   },
   "source": [
    "Note that `km_out$tot.withinss` is the total within-cluster sum of squares,\n",
    "which we seek to minimize by performing K-means clustering. The individual within-cluster sum-of-squares are contained in the\n",
    "vector `km_out$withinss`.\n",
    "\n",
    "It is generally recommended to always run K-means clustering with a large\n",
    "value of `nstart`, such as 20 or 50 to avoid getting stuck in an undesirable local\n",
    "optimum.\n",
    "\n",
    "When performing K-means clustering, in addition to using multiple initial\n",
    "cluster assignments, it is also important to set a random seed using the\n",
    "`set.seed()` function. This way, the initial cluster assignments can\n",
    "be replicated, and the K-means output will be fully reproducible.\n",
    "\n",
    "# 10.5.2 Hierarchical Clustering\n",
    "The `hclust()` function implements hierarchical clustering in R. In the following example we use the data from the previous section to plot the hierarchical\n",
    "clustering dendrogram using complete, single, and average linkage clustering,\n",
    "with Euclidean distance as the dissimilarity measure. We begin by\n",
    "clustering observations using complete linkage. The `dist()` function is used\n",
    "to compute the 50 $\\times$ 50 inter-observation Euclidean distance matrix:"
   ]
  },
  {
   "cell_type": "code",
   "execution_count": 9,
   "metadata": {
    "colab": {
     "base_uri": "https://localhost:8080/",
     "height": 925
    },
    "id": "1zpE6vo4d-kF",
    "outputId": "6bcf807e-cb2f-45f4-9ba3-4e5b6002c837"
   },
   "outputs": [
    {
     "data": {
      "text/html": [
       "<style>\n",
       ".list-inline {list-style: none; margin:0; padding: 0}\n",
       ".list-inline>li {display: inline-block}\n",
       ".list-inline>li:not(:last-child)::after {content: \"\\00b7\"; padding: 0 .5ex}\n",
       "</style>\n",
       "<ol class=list-inline><li>1</li><li>1</li><li>1</li><li>1</li><li>1</li><li>1</li><li>1</li><li>1</li><li>1</li><li>1</li><li>1</li><li>1</li><li>1</li><li>1</li><li>1</li><li>1</li><li>1</li><li>1</li><li>1</li><li>1</li><li>1</li><li>1</li><li>1</li><li>1</li><li>1</li><li>2</li><li>2</li><li>2</li><li>2</li><li>2</li><li>2</li><li>2</li><li>2</li><li>2</li><li>2</li><li>2</li><li>2</li><li>2</li><li>2</li><li>2</li><li>2</li><li>2</li><li>2</li><li>2</li><li>2</li><li>2</li><li>2</li><li>2</li><li>2</li><li>2</li></ol>\n"
      ],
      "text/latex": [
       "\\begin{enumerate*}\n",
       "\\item 1\n",
       "\\item 1\n",
       "\\item 1\n",
       "\\item 1\n",
       "\\item 1\n",
       "\\item 1\n",
       "\\item 1\n",
       "\\item 1\n",
       "\\item 1\n",
       "\\item 1\n",
       "\\item 1\n",
       "\\item 1\n",
       "\\item 1\n",
       "\\item 1\n",
       "\\item 1\n",
       "\\item 1\n",
       "\\item 1\n",
       "\\item 1\n",
       "\\item 1\n",
       "\\item 1\n",
       "\\item 1\n",
       "\\item 1\n",
       "\\item 1\n",
       "\\item 1\n",
       "\\item 1\n",
       "\\item 2\n",
       "\\item 2\n",
       "\\item 2\n",
       "\\item 2\n",
       "\\item 2\n",
       "\\item 2\n",
       "\\item 2\n",
       "\\item 2\n",
       "\\item 2\n",
       "\\item 2\n",
       "\\item 2\n",
       "\\item 2\n",
       "\\item 2\n",
       "\\item 2\n",
       "\\item 2\n",
       "\\item 2\n",
       "\\item 2\n",
       "\\item 2\n",
       "\\item 2\n",
       "\\item 2\n",
       "\\item 2\n",
       "\\item 2\n",
       "\\item 2\n",
       "\\item 2\n",
       "\\item 2\n",
       "\\end{enumerate*}\n"
      ],
      "text/markdown": [
       "1. 1\n",
       "2. 1\n",
       "3. 1\n",
       "4. 1\n",
       "5. 1\n",
       "6. 1\n",
       "7. 1\n",
       "8. 1\n",
       "9. 1\n",
       "10. 1\n",
       "11. 1\n",
       "12. 1\n",
       "13. 1\n",
       "14. 1\n",
       "15. 1\n",
       "16. 1\n",
       "17. 1\n",
       "18. 1\n",
       "19. 1\n",
       "20. 1\n",
       "21. 1\n",
       "22. 1\n",
       "23. 1\n",
       "24. 1\n",
       "25. 1\n",
       "26. 2\n",
       "27. 2\n",
       "28. 2\n",
       "29. 2\n",
       "30. 2\n",
       "31. 2\n",
       "32. 2\n",
       "33. 2\n",
       "34. 2\n",
       "35. 2\n",
       "36. 2\n",
       "37. 2\n",
       "38. 2\n",
       "39. 2\n",
       "40. 2\n",
       "41. 2\n",
       "42. 2\n",
       "43. 2\n",
       "44. 2\n",
       "45. 2\n",
       "46. 2\n",
       "47. 2\n",
       "48. 2\n",
       "49. 2\n",
       "50. 2\n",
       "\n",
       "\n"
      ],
      "text/plain": [
       " [1] 1 1 1 1 1 1 1 1 1 1 1 1 1 1 1 1 1 1 1 1 1 1 1 1 1 2 2 2 2 2 2 2 2 2 2 2 2 2\n",
       "[39] 2 2 2 2 2 2 2 2 2 2 2 2"
      ]
     },
     "metadata": {},
     "output_type": "display_data"
    },
    {
     "data": {
      "text/html": [
       "<style>\n",
       ".list-inline {list-style: none; margin:0; padding: 0}\n",
       ".list-inline>li {display: inline-block}\n",
       ".list-inline>li:not(:last-child)::after {content: \"\\00b7\"; padding: 0 .5ex}\n",
       "</style>\n",
       "<ol class=list-inline><li>1</li><li>1</li><li>1</li><li>1</li><li>1</li><li>1</li><li>1</li><li>1</li><li>1</li><li>1</li><li>1</li><li>1</li><li>1</li><li>1</li><li>1</li><li>1</li><li>1</li><li>1</li><li>1</li><li>1</li><li>1</li><li>1</li><li>1</li><li>1</li><li>1</li><li>2</li><li>2</li><li>2</li><li>2</li><li>2</li><li>2</li><li>2</li><li>1</li><li>2</li><li>2</li><li>2</li><li>2</li><li>2</li><li>2</li><li>2</li><li>2</li><li>2</li><li>2</li><li>1</li><li>2</li><li>1</li><li>2</li><li>2</li><li>2</li><li>2</li></ol>\n"
      ],
      "text/latex": [
       "\\begin{enumerate*}\n",
       "\\item 1\n",
       "\\item 1\n",
       "\\item 1\n",
       "\\item 1\n",
       "\\item 1\n",
       "\\item 1\n",
       "\\item 1\n",
       "\\item 1\n",
       "\\item 1\n",
       "\\item 1\n",
       "\\item 1\n",
       "\\item 1\n",
       "\\item 1\n",
       "\\item 1\n",
       "\\item 1\n",
       "\\item 1\n",
       "\\item 1\n",
       "\\item 1\n",
       "\\item 1\n",
       "\\item 1\n",
       "\\item 1\n",
       "\\item 1\n",
       "\\item 1\n",
       "\\item 1\n",
       "\\item 1\n",
       "\\item 2\n",
       "\\item 2\n",
       "\\item 2\n",
       "\\item 2\n",
       "\\item 2\n",
       "\\item 2\n",
       "\\item 2\n",
       "\\item 1\n",
       "\\item 2\n",
       "\\item 2\n",
       "\\item 2\n",
       "\\item 2\n",
       "\\item 2\n",
       "\\item 2\n",
       "\\item 2\n",
       "\\item 2\n",
       "\\item 2\n",
       "\\item 2\n",
       "\\item 1\n",
       "\\item 2\n",
       "\\item 1\n",
       "\\item 2\n",
       "\\item 2\n",
       "\\item 2\n",
       "\\item 2\n",
       "\\end{enumerate*}\n"
      ],
      "text/markdown": [
       "1. 1\n",
       "2. 1\n",
       "3. 1\n",
       "4. 1\n",
       "5. 1\n",
       "6. 1\n",
       "7. 1\n",
       "8. 1\n",
       "9. 1\n",
       "10. 1\n",
       "11. 1\n",
       "12. 1\n",
       "13. 1\n",
       "14. 1\n",
       "15. 1\n",
       "16. 1\n",
       "17. 1\n",
       "18. 1\n",
       "19. 1\n",
       "20. 1\n",
       "21. 1\n",
       "22. 1\n",
       "23. 1\n",
       "24. 1\n",
       "25. 1\n",
       "26. 2\n",
       "27. 2\n",
       "28. 2\n",
       "29. 2\n",
       "30. 2\n",
       "31. 2\n",
       "32. 2\n",
       "33. 1\n",
       "34. 2\n",
       "35. 2\n",
       "36. 2\n",
       "37. 2\n",
       "38. 2\n",
       "39. 2\n",
       "40. 2\n",
       "41. 2\n",
       "42. 2\n",
       "43. 2\n",
       "44. 1\n",
       "45. 2\n",
       "46. 1\n",
       "47. 2\n",
       "48. 2\n",
       "49. 2\n",
       "50. 2\n",
       "\n",
       "\n"
      ],
      "text/plain": [
       " [1] 1 1 1 1 1 1 1 1 1 1 1 1 1 1 1 1 1 1 1 1 1 1 1 1 1 2 2 2 2 2 2 2 1 2 2 2 2 2\n",
       "[39] 2 2 2 2 2 1 2 1 2 2 2 2"
      ]
     },
     "metadata": {},
     "output_type": "display_data"
    },
    {
     "data": {
      "text/html": [
       "<style>\n",
       ".list-inline {list-style: none; margin:0; padding: 0}\n",
       ".list-inline>li {display: inline-block}\n",
       ".list-inline>li:not(:last-child)::after {content: \"\\00b7\"; padding: 0 .5ex}\n",
       "</style>\n",
       "<ol class=list-inline><li>1</li><li>1</li><li>1</li><li>1</li><li>1</li><li>1</li><li>1</li><li>1</li><li>1</li><li>1</li><li>1</li><li>1</li><li>1</li><li>1</li><li>1</li><li>2</li><li>1</li><li>1</li><li>1</li><li>1</li><li>1</li><li>1</li><li>1</li><li>1</li><li>1</li><li>1</li><li>1</li><li>1</li><li>1</li><li>1</li><li>1</li><li>1</li><li>1</li><li>1</li><li>1</li><li>1</li><li>1</li><li>1</li><li>1</li><li>1</li><li>1</li><li>1</li><li>1</li><li>1</li><li>1</li><li>1</li><li>1</li><li>1</li><li>1</li><li>1</li></ol>\n"
      ],
      "text/latex": [
       "\\begin{enumerate*}\n",
       "\\item 1\n",
       "\\item 1\n",
       "\\item 1\n",
       "\\item 1\n",
       "\\item 1\n",
       "\\item 1\n",
       "\\item 1\n",
       "\\item 1\n",
       "\\item 1\n",
       "\\item 1\n",
       "\\item 1\n",
       "\\item 1\n",
       "\\item 1\n",
       "\\item 1\n",
       "\\item 1\n",
       "\\item 2\n",
       "\\item 1\n",
       "\\item 1\n",
       "\\item 1\n",
       "\\item 1\n",
       "\\item 1\n",
       "\\item 1\n",
       "\\item 1\n",
       "\\item 1\n",
       "\\item 1\n",
       "\\item 1\n",
       "\\item 1\n",
       "\\item 1\n",
       "\\item 1\n",
       "\\item 1\n",
       "\\item 1\n",
       "\\item 1\n",
       "\\item 1\n",
       "\\item 1\n",
       "\\item 1\n",
       "\\item 1\n",
       "\\item 1\n",
       "\\item 1\n",
       "\\item 1\n",
       "\\item 1\n",
       "\\item 1\n",
       "\\item 1\n",
       "\\item 1\n",
       "\\item 1\n",
       "\\item 1\n",
       "\\item 1\n",
       "\\item 1\n",
       "\\item 1\n",
       "\\item 1\n",
       "\\item 1\n",
       "\\end{enumerate*}\n"
      ],
      "text/markdown": [
       "1. 1\n",
       "2. 1\n",
       "3. 1\n",
       "4. 1\n",
       "5. 1\n",
       "6. 1\n",
       "7. 1\n",
       "8. 1\n",
       "9. 1\n",
       "10. 1\n",
       "11. 1\n",
       "12. 1\n",
       "13. 1\n",
       "14. 1\n",
       "15. 1\n",
       "16. 2\n",
       "17. 1\n",
       "18. 1\n",
       "19. 1\n",
       "20. 1\n",
       "21. 1\n",
       "22. 1\n",
       "23. 1\n",
       "24. 1\n",
       "25. 1\n",
       "26. 1\n",
       "27. 1\n",
       "28. 1\n",
       "29. 1\n",
       "30. 1\n",
       "31. 1\n",
       "32. 1\n",
       "33. 1\n",
       "34. 1\n",
       "35. 1\n",
       "36. 1\n",
       "37. 1\n",
       "38. 1\n",
       "39. 1\n",
       "40. 1\n",
       "41. 1\n",
       "42. 1\n",
       "43. 1\n",
       "44. 1\n",
       "45. 1\n",
       "46. 1\n",
       "47. 1\n",
       "48. 1\n",
       "49. 1\n",
       "50. 1\n",
       "\n",
       "\n"
      ],
      "text/plain": [
       " [1] 1 1 1 1 1 1 1 1 1 1 1 1 1 1 1 2 1 1 1 1 1 1 1 1 1 1 1 1 1 1 1 1 1 1 1 1 1 1\n",
       "[39] 1 1 1 1 1 1 1 1 1 1 1 1"
      ]
     },
     "metadata": {},
     "output_type": "display_data"
    },
    {
     "data": {
      "text/html": [
       "<style>\n",
       ".list-inline {list-style: none; margin:0; padding: 0}\n",
       ".list-inline>li {display: inline-block}\n",
       ".list-inline>li:not(:last-child)::after {content: \"\\00b7\"; padding: 0 .5ex}\n",
       "</style>\n",
       "<ol class=list-inline><li>1</li><li>1</li><li>1</li><li>1</li><li>1</li><li>1</li><li>1</li><li>1</li><li>1</li><li>1</li><li>1</li><li>1</li><li>1</li><li>1</li><li>1</li><li>2</li><li>1</li><li>1</li><li>1</li><li>1</li><li>1</li><li>1</li><li>1</li><li>1</li><li>1</li><li>3</li><li>3</li><li>3</li><li>3</li><li>3</li><li>3</li><li>3</li><li>3</li><li>3</li><li>3</li><li>3</li><li>3</li><li>3</li><li>3</li><li>3</li><li>3</li><li>4</li><li>3</li><li>3</li><li>3</li><li>3</li><li>3</li><li>3</li><li>3</li><li>3</li></ol>\n"
      ],
      "text/latex": [
       "\\begin{enumerate*}\n",
       "\\item 1\n",
       "\\item 1\n",
       "\\item 1\n",
       "\\item 1\n",
       "\\item 1\n",
       "\\item 1\n",
       "\\item 1\n",
       "\\item 1\n",
       "\\item 1\n",
       "\\item 1\n",
       "\\item 1\n",
       "\\item 1\n",
       "\\item 1\n",
       "\\item 1\n",
       "\\item 1\n",
       "\\item 2\n",
       "\\item 1\n",
       "\\item 1\n",
       "\\item 1\n",
       "\\item 1\n",
       "\\item 1\n",
       "\\item 1\n",
       "\\item 1\n",
       "\\item 1\n",
       "\\item 1\n",
       "\\item 3\n",
       "\\item 3\n",
       "\\item 3\n",
       "\\item 3\n",
       "\\item 3\n",
       "\\item 3\n",
       "\\item 3\n",
       "\\item 3\n",
       "\\item 3\n",
       "\\item 3\n",
       "\\item 3\n",
       "\\item 3\n",
       "\\item 3\n",
       "\\item 3\n",
       "\\item 3\n",
       "\\item 3\n",
       "\\item 4\n",
       "\\item 3\n",
       "\\item 3\n",
       "\\item 3\n",
       "\\item 3\n",
       "\\item 3\n",
       "\\item 3\n",
       "\\item 3\n",
       "\\item 3\n",
       "\\end{enumerate*}\n"
      ],
      "text/markdown": [
       "1. 1\n",
       "2. 1\n",
       "3. 1\n",
       "4. 1\n",
       "5. 1\n",
       "6. 1\n",
       "7. 1\n",
       "8. 1\n",
       "9. 1\n",
       "10. 1\n",
       "11. 1\n",
       "12. 1\n",
       "13. 1\n",
       "14. 1\n",
       "15. 1\n",
       "16. 2\n",
       "17. 1\n",
       "18. 1\n",
       "19. 1\n",
       "20. 1\n",
       "21. 1\n",
       "22. 1\n",
       "23. 1\n",
       "24. 1\n",
       "25. 1\n",
       "26. 3\n",
       "27. 3\n",
       "28. 3\n",
       "29. 3\n",
       "30. 3\n",
       "31. 3\n",
       "32. 3\n",
       "33. 3\n",
       "34. 3\n",
       "35. 3\n",
       "36. 3\n",
       "37. 3\n",
       "38. 3\n",
       "39. 3\n",
       "40. 3\n",
       "41. 3\n",
       "42. 4\n",
       "43. 3\n",
       "44. 3\n",
       "45. 3\n",
       "46. 3\n",
       "47. 3\n",
       "48. 3\n",
       "49. 3\n",
       "50. 3\n",
       "\n",
       "\n"
      ],
      "text/plain": [
       " [1] 1 1 1 1 1 1 1 1 1 1 1 1 1 1 1 2 1 1 1 1 1 1 1 1 1 3 3 3 3 3 3 3 3 3 3 3 3 3\n",
       "[39] 3 3 3 4 3 3 3 3 3 3 3 3"
      ]
     },
     "metadata": {},
     "output_type": "display_data"
    },
    {
     "data": {
      "image/png": "[encoded data removed]",
      "text/plain": [
       "Plot with title \"Single Linkage\""
      ]
     },
     "metadata": {
      "image/png": {
       "height": 420,
       "width": 420
      }
     },
     "output_type": "display_data"
    },
    {
     "data": {
      "image/png": "[encoded data removed]",
      "text/plain": [
       "Plot with title \"Complete Linkage with Correlation-Based Distance\""
      ]
     },
     "metadata": {
      "image/png": {
       "height": 420,
       "width": 420
      }
     },
     "output_type": "display_data"
    }
   ],
   "source": [
    "hc.complete=hclust(dist(x), method=\"complete\")\n",
    "hc.average=hclust(dist(x), method=\"average\")\n",
    "hc.single=hclust(dist(x), method=\"single\")\n",
    "par(mfrow=c(1,3))\n",
    "plot(hc.complete,main=\"Complete Linkage\", xlab=\"\", sub=\"\", cex=.9)\n",
    "plot(hc.average, main=\"Average Linkage\", xlab=\"\", sub=\"\", cex=.9)\n",
    "plot(hc.single, main=\"Single Linkage\", xlab=\"\", sub=\"\", cex=.9)\n",
    "cutree(hc.complete, 2)\n",
    "cutree(hc.average, 2)\n",
    "cutree(hc.single, 2)\n",
    "cutree(hc.single, 4)\n",
    "xsc=scale(x)\n",
    "plot(hclust(dist(xsc), method=\"complete\"), main=\"Hierarchical Clustering with Scaled Features\")\n",
    "x=matrix(rnorm(30*3), ncol=3)\n",
    "dd=as.dist(1-cor(t(x)))\n",
    "plot(hclust(dd, method=\"complete\"), main=\"Complete Linkage with Correlation-Based Distance\", xlab=\"\", sub=\"\")"
   ]
  },
  {
   "cell_type": "code",
   "execution_count": 10,
   "metadata": {
    "id": "RfoHb0mFZr3w"
   },
   "outputs": [],
   "source": [
    "hc_complete = hclust(dist(x), method = \"complete\")"
   ]
  },
  {
   "cell_type": "markdown",
   "metadata": {
    "id": "uuentl3WZr3y"
   },
   "source": [
    "We could just as easily perform hierarchical clustering with average or\n",
    "single linkage instead:"
   ]
  },
  {
   "cell_type": "code",
   "execution_count": 11,
   "metadata": {
    "id": "DQ_XvcYHZr31"
   },
   "outputs": [],
   "source": [
    "hc_average = hclust(dist(x), method = \"average\")\n",
    "hc_single = hclust(dist(x), method = \"single\")"
   ]
  },
  {
   "cell_type": "markdown",
   "metadata": {
    "id": "p2JTerFAZr33"
   },
   "source": [
    "We can now plot the dendrograms obtained using the usual `plot()` function.\n",
    "The numbers at the bottom of the plot identify each observation:"
   ]
  },
  {
   "cell_type": "code",
   "execution_count": 12,
   "metadata": {
    "colab": {
     "base_uri": "https://localhost:8080/",
     "height": 129
    },
    "id": "ze7IzCU9Zr34",
    "outputId": "808e42b1-d5df-4832-9161-060fad85cfce"
   },
   "outputs": [
    {
     "ename": "ERROR",
     "evalue": "Error in library(gridExtra): there is no package called 'gridExtra'\n",
     "output_type": "error",
     "traceback": [
      "Error in library(gridExtra): there is no package called 'gridExtra'\nTraceback:\n",
      "1. library(gridExtra)"
     ]
    }
   ],
   "source": [
    "library(gridExtra) # Fix the bug\n",
    "library(ggdendro)\n",
    "install.packages(\"gridExtra\", repos='http://cran.us.r-project.org')\n",
    "install.packages(\"ggdendro\", repos='http://cran.us.r-project.org')\n",
    "\n",
    "plot_complete = ggdendrogram(hc_complete, rotate = FALSE, size = 2) + labs(title = \"Complete Linkage\") \n",
    "plot_average = ggdendrogram(hc_average, rotate = FALSE, size = 2) + labs(title = \"Average Linkage\")\n",
    "plot_single = ggdendrogram(hc_single, rotate = FALSE, size = 2) + labs(title = \"Single Linkage\")\n",
    "\n",
    "grid.arrange(plot_complete, plot_average, plot_single)"
   ]
  },
  {
   "cell_type": "markdown",
   "metadata": {
    "id": "sT9o0UOlZr36"
   },
   "source": [
    "To determine the cluster labels for each observation associated with a\n",
    "given cut of the dendrogram, we can use the `cutree()` function:"
   ]
  },
  {
   "cell_type": "code",
   "execution_count": 13,
   "metadata": {
    "id": "vuc_X_ApZr36"
   },
   "outputs": [
    {
     "data": {
      "text/html": [
       "<style>\n",
       ".list-inline {list-style: none; margin:0; padding: 0}\n",
       ".list-inline>li {display: inline-block}\n",
       ".list-inline>li:not(:last-child)::after {content: \"\\00b7\"; padding: 0 .5ex}\n",
       "</style>\n",
       "<ol class=list-inline><li>1</li><li>2</li><li>1</li><li>2</li><li>1</li><li>2</li><li>1</li><li>1</li><li>1</li><li>1</li><li>1</li><li>1</li><li>1</li><li>1</li><li>1</li><li>1</li><li>1</li><li>1</li><li>1</li><li>1</li><li>1</li><li>1</li><li>1</li><li>1</li><li>1</li><li>1</li><li>1</li><li>1</li><li>1</li><li>1</li></ol>\n"
      ],
      "text/latex": [
       "\\begin{enumerate*}\n",
       "\\item 1\n",
       "\\item 2\n",
       "\\item 1\n",
       "\\item 2\n",
       "\\item 1\n",
       "\\item 2\n",
       "\\item 1\n",
       "\\item 1\n",
       "\\item 1\n",
       "\\item 1\n",
       "\\item 1\n",
       "\\item 1\n",
       "\\item 1\n",
       "\\item 1\n",
       "\\item 1\n",
       "\\item 1\n",
       "\\item 1\n",
       "\\item 1\n",
       "\\item 1\n",
       "\\item 1\n",
       "\\item 1\n",
       "\\item 1\n",
       "\\item 1\n",
       "\\item 1\n",
       "\\item 1\n",
       "\\item 1\n",
       "\\item 1\n",
       "\\item 1\n",
       "\\item 1\n",
       "\\item 1\n",
       "\\end{enumerate*}\n"
      ],
      "text/markdown": [
       "1. 1\n",
       "2. 2\n",
       "3. 1\n",
       "4. 2\n",
       "5. 1\n",
       "6. 2\n",
       "7. 1\n",
       "8. 1\n",
       "9. 1\n",
       "10. 1\n",
       "11. 1\n",
       "12. 1\n",
       "13. 1\n",
       "14. 1\n",
       "15. 1\n",
       "16. 1\n",
       "17. 1\n",
       "18. 1\n",
       "19. 1\n",
       "20. 1\n",
       "21. 1\n",
       "22. 1\n",
       "23. 1\n",
       "24. 1\n",
       "25. 1\n",
       "26. 1\n",
       "27. 1\n",
       "28. 1\n",
       "29. 1\n",
       "30. 1\n",
       "\n",
       "\n"
      ],
      "text/plain": [
       " [1] 1 2 1 2 1 2 1 1 1 1 1 1 1 1 1 1 1 1 1 1 1 1 1 1 1 1 1 1 1 1"
      ]
     },
     "metadata": {},
     "output_type": "display_data"
    },
    {
     "data": {
      "text/html": [
       "<style>\n",
       ".list-inline {list-style: none; margin:0; padding: 0}\n",
       ".list-inline>li {display: inline-block}\n",
       ".list-inline>li:not(:last-child)::after {content: \"\\00b7\"; padding: 0 .5ex}\n",
       "</style>\n",
       "<ol class=list-inline><li>1</li><li>2</li><li>1</li><li>2</li><li>2</li><li>2</li><li>1</li><li>2</li><li>1</li><li>1</li><li>1</li><li>1</li><li>2</li><li>1</li><li>2</li><li>1</li><li>1</li><li>1</li><li>1</li><li>1</li><li>2</li><li>1</li><li>1</li><li>1</li><li>1</li><li>1</li><li>1</li><li>1</li><li>1</li><li>1</li></ol>\n"
      ],
      "text/latex": [
       "\\begin{enumerate*}\n",
       "\\item 1\n",
       "\\item 2\n",
       "\\item 1\n",
       "\\item 2\n",
       "\\item 2\n",
       "\\item 2\n",
       "\\item 1\n",
       "\\item 2\n",
       "\\item 1\n",
       "\\item 1\n",
       "\\item 1\n",
       "\\item 1\n",
       "\\item 2\n",
       "\\item 1\n",
       "\\item 2\n",
       "\\item 1\n",
       "\\item 1\n",
       "\\item 1\n",
       "\\item 1\n",
       "\\item 1\n",
       "\\item 2\n",
       "\\item 1\n",
       "\\item 1\n",
       "\\item 1\n",
       "\\item 1\n",
       "\\item 1\n",
       "\\item 1\n",
       "\\item 1\n",
       "\\item 1\n",
       "\\item 1\n",
       "\\end{enumerate*}\n"
      ],
      "text/markdown": [
       "1. 1\n",
       "2. 2\n",
       "3. 1\n",
       "4. 2\n",
       "5. 2\n",
       "6. 2\n",
       "7. 1\n",
       "8. 2\n",
       "9. 1\n",
       "10. 1\n",
       "11. 1\n",
       "12. 1\n",
       "13. 2\n",
       "14. 1\n",
       "15. 2\n",
       "16. 1\n",
       "17. 1\n",
       "18. 1\n",
       "19. 1\n",
       "20. 1\n",
       "21. 2\n",
       "22. 1\n",
       "23. 1\n",
       "24. 1\n",
       "25. 1\n",
       "26. 1\n",
       "27. 1\n",
       "28. 1\n",
       "29. 1\n",
       "30. 1\n",
       "\n",
       "\n"
      ],
      "text/plain": [
       " [1] 1 2 1 2 2 2 1 2 1 1 1 1 2 1 2 1 1 1 1 1 2 1 1 1 1 1 1 1 1 1"
      ]
     },
     "metadata": {},
     "output_type": "display_data"
    },
    {
     "data": {
      "text/html": [
       "<style>\n",
       ".list-inline {list-style: none; margin:0; padding: 0}\n",
       ".list-inline>li {display: inline-block}\n",
       ".list-inline>li:not(:last-child)::after {content: \"\\00b7\"; padding: 0 .5ex}\n",
       "</style>\n",
       "<ol class=list-inline><li>1</li><li>1</li><li>1</li><li>1</li><li>1</li><li>1</li><li>1</li><li>1</li><li>2</li><li>1</li><li>1</li><li>1</li><li>1</li><li>1</li><li>1</li><li>1</li><li>1</li><li>1</li><li>1</li><li>1</li><li>1</li><li>1</li><li>1</li><li>1</li><li>1</li><li>1</li><li>1</li><li>1</li><li>1</li><li>1</li></ol>\n"
      ],
      "text/latex": [
       "\\begin{enumerate*}\n",
       "\\item 1\n",
       "\\item 1\n",
       "\\item 1\n",
       "\\item 1\n",
       "\\item 1\n",
       "\\item 1\n",
       "\\item 1\n",
       "\\item 1\n",
       "\\item 2\n",
       "\\item 1\n",
       "\\item 1\n",
       "\\item 1\n",
       "\\item 1\n",
       "\\item 1\n",
       "\\item 1\n",
       "\\item 1\n",
       "\\item 1\n",
       "\\item 1\n",
       "\\item 1\n",
       "\\item 1\n",
       "\\item 1\n",
       "\\item 1\n",
       "\\item 1\n",
       "\\item 1\n",
       "\\item 1\n",
       "\\item 1\n",
       "\\item 1\n",
       "\\item 1\n",
       "\\item 1\n",
       "\\item 1\n",
       "\\end{enumerate*}\n"
      ],
      "text/markdown": [
       "1. 1\n",
       "2. 1\n",
       "3. 1\n",
       "4. 1\n",
       "5. 1\n",
       "6. 1\n",
       "7. 1\n",
       "8. 1\n",
       "9. 2\n",
       "10. 1\n",
       "11. 1\n",
       "12. 1\n",
       "13. 1\n",
       "14. 1\n",
       "15. 1\n",
       "16. 1\n",
       "17. 1\n",
       "18. 1\n",
       "19. 1\n",
       "20. 1\n",
       "21. 1\n",
       "22. 1\n",
       "23. 1\n",
       "24. 1\n",
       "25. 1\n",
       "26. 1\n",
       "27. 1\n",
       "28. 1\n",
       "29. 1\n",
       "30. 1\n",
       "\n",
       "\n"
      ],
      "text/plain": [
       " [1] 1 1 1 1 1 1 1 1 2 1 1 1 1 1 1 1 1 1 1 1 1 1 1 1 1 1 1 1 1 1"
      ]
     },
     "metadata": {},
     "output_type": "display_data"
    }
   ],
   "source": [
    "cutree(hc_complete, 2)\n",
    "cutree(hc_average, 2)\n",
    "cutree(hc_single, 2)"
   ]
  },
  {
   "cell_type": "markdown",
   "metadata": {
    "id": "DWB-su_DZr37"
   },
   "source": [
    "For this data, complete and average linkage generally separate the observations\n",
    "into their correct groups. However, single linkage identifies one point\n",
    "as belonging to its own cluster. A more sensible answer is obtained when\n",
    "four clusters are selected, although there are still two singletons:"
   ]
  },
  {
   "cell_type": "code",
   "execution_count": 14,
   "metadata": {
    "id": "CRYeIYhfZr39"
   },
   "outputs": [
    {
     "data": {
      "text/html": [
       "<style>\n",
       ".list-inline {list-style: none; margin:0; padding: 0}\n",
       ".list-inline>li {display: inline-block}\n",
       ".list-inline>li:not(:last-child)::after {content: \"\\00b7\"; padding: 0 .5ex}\n",
       "</style>\n",
       "<ol class=list-inline><li>1</li><li>2</li><li>2</li><li>3</li><li>2</li><li>2</li><li>2</li><li>2</li><li>4</li><li>2</li><li>2</li><li>2</li><li>2</li><li>2</li><li>2</li><li>2</li><li>2</li><li>2</li><li>2</li><li>2</li><li>2</li><li>2</li><li>2</li><li>2</li><li>2</li><li>2</li><li>2</li><li>2</li><li>2</li><li>2</li></ol>\n"
      ],
      "text/latex": [
       "\\begin{enumerate*}\n",
       "\\item 1\n",
       "\\item 2\n",
       "\\item 2\n",
       "\\item 3\n",
       "\\item 2\n",
       "\\item 2\n",
       "\\item 2\n",
       "\\item 2\n",
       "\\item 4\n",
       "\\item 2\n",
       "\\item 2\n",
       "\\item 2\n",
       "\\item 2\n",
       "\\item 2\n",
       "\\item 2\n",
       "\\item 2\n",
       "\\item 2\n",
       "\\item 2\n",
       "\\item 2\n",
       "\\item 2\n",
       "\\item 2\n",
       "\\item 2\n",
       "\\item 2\n",
       "\\item 2\n",
       "\\item 2\n",
       "\\item 2\n",
       "\\item 2\n",
       "\\item 2\n",
       "\\item 2\n",
       "\\item 2\n",
       "\\end{enumerate*}\n"
      ],
      "text/markdown": [
       "1. 1\n",
       "2. 2\n",
       "3. 2\n",
       "4. 3\n",
       "5. 2\n",
       "6. 2\n",
       "7. 2\n",
       "8. 2\n",
       "9. 4\n",
       "10. 2\n",
       "11. 2\n",
       "12. 2\n",
       "13. 2\n",
       "14. 2\n",
       "15. 2\n",
       "16. 2\n",
       "17. 2\n",
       "18. 2\n",
       "19. 2\n",
       "20. 2\n",
       "21. 2\n",
       "22. 2\n",
       "23. 2\n",
       "24. 2\n",
       "25. 2\n",
       "26. 2\n",
       "27. 2\n",
       "28. 2\n",
       "29. 2\n",
       "30. 2\n",
       "\n",
       "\n"
      ],
      "text/plain": [
       " [1] 1 2 2 3 2 2 2 2 4 2 2 2 2 2 2 2 2 2 2 2 2 2 2 2 2 2 2 2 2 2"
      ]
     },
     "metadata": {},
     "output_type": "display_data"
    }
   ],
   "source": [
    "cutree(hc_single, 4)"
   ]
  },
  {
   "cell_type": "markdown",
   "metadata": {
    "id": "oqEYPe0cZr4A"
   },
   "source": [
    "To scale the variables before performing hierarchical clustering of the\n",
    "observations, we can use the `scale()` function:"
   ]
  },
  {
   "cell_type": "code",
   "execution_count": 15,
   "metadata": {
    "id": "rUydV5gbZr4I"
   },
   "outputs": [
    {
     "ename": "ERROR",
     "evalue": "Error in ggdendrogram(hclust(dist(xsc), method = \"complete\"), rotate = FALSE, : could not find function \"ggdendrogram\"\n",
     "output_type": "error",
     "traceback": [
      "Error in ggdendrogram(hclust(dist(xsc), method = \"complete\"), rotate = FALSE, : could not find function \"ggdendrogram\"\nTraceback:\n"
     ]
    }
   ],
   "source": [
    "xsc = scale(x)\n",
    "\n",
    "ggdendrogram(hclust(dist(xsc), method = \"complete\"), \n",
    "             rotate = FALSE, \n",
    "             size = 2) + \n",
    "labs(title = \"Complete Linkage with Scaled Features\")"
   ]
  },
  {
   "cell_type": "markdown",
   "metadata": {
    "id": "p4ENGBHOZr4K"
   },
   "source": [
    "Correlation-based distance can be computed using the `as.dist()` function, which converts an arbitrary square symmetric matrix into a form that\n",
    "the `hclust()` function recognizes as a distance matrix. However, this only\n",
    "makes sense for data with **at least three features** since the absolute correlation\n",
    "between any two observations with measurements on two features is\n",
    "always 1. Let's generate and cluster a three-dimensional data set:"
   ]
  },
  {
   "cell_type": "code",
   "execution_count": 16,
   "metadata": {
    "id": "CRgRcgabZr4k"
   },
   "outputs": [
    {
     "ename": "ERROR",
     "evalue": "Error in ggdendrogram(hclust(x_with_correlation_based_distance, method = \"complete\"), : could not find function \"ggdendrogram\"\n",
     "output_type": "error",
     "traceback": [
      "Error in ggdendrogram(hclust(x_with_correlation_based_distance, method = \"complete\"), : could not find function \"ggdendrogram\"\nTraceback:\n"
     ]
    }
   ],
   "source": [
    "x = matrix(rnorm(30*3), ncol = 3)\n",
    "x_with_correlation_based_distance = as.dist(1 - cor(t(x)))\n",
    "\n",
    "ggdendrogram(hclust(x_with_correlation_based_distance, method = \"complete\"), \n",
    "             rotate = FALSE, \n",
    "             size = 2) + \n",
    "labs(title = \"Complete Linkage with Correlation-Based Distance\")"
   ]
  },
  {
   "cell_type": "markdown",
   "metadata": {
    "id": "_66Fcd9WZr4m"
   },
   "source": [
    "# 10.6: NCI60 Data Example\n",
    "\n",
    "Unsupervised techniques are often used in the analysis of genomic data. In this portion of the lab, we'll see how hierarchical and K-means clustering compare on the `NCI60` cancer cell line microarray data, which\n",
    "consists of 6,830 gene expression measurements on 64 cancer cell lines:"
   ]
  },
  {
   "cell_type": "code",
   "execution_count": 17,
   "metadata": {
    "colab": {
     "base_uri": "https://localhost:8080/"
    },
    "id": "vAe_lADrZr4r",
    "outputId": "d9832e09-9861-42f7-e63f-0219abf26ef0"
   },
   "outputs": [
    {
     "name": "stdout",
     "output_type": "stream",
     "text": [
      "package 'ISLR' successfully unpacked and MD5 sums checked\n",
      "\n",
      "The downloaded binary packages are in\n",
      "\tC:\\Users\\willi\\AppData\\Local\\Temp\\RtmpmYDfrB\\downloaded_packages\n"
     ]
    },
    {
     "name": "stderr",
     "output_type": "stream",
     "text": [
      "Warning message:\n",
      "\"package 'ISLR' was built under R version 3.6.3\"\n"
     ]
    }
   ],
   "source": [
    "# The NCI60 data\n",
    "install.packages(\"ISLR\", repos='http://cran.us.r-project.org')\n",
    "library(ISLR)\n",
    "nci_labels = NCI60$labs\n",
    "nci_data = NCI60$data"
   ]
  },
  {
   "cell_type": "markdown",
   "metadata": {
    "id": "4OZ_EetjZr4v"
   },
   "source": [
    "Each cell line is labeled with a cancer type. We'll ignore the\n",
    "cancer types in performing clustering, as these are unsupervised\n",
    "techniques. After performing clustering, we'll use this column to see the extent to which these cancer types agree with the results of these\n",
    "unsupervised techniques.\n",
    "\n",
    "The data has 64 rows and 6,830 columns."
   ]
  },
  {
   "cell_type": "code",
   "execution_count": 18,
   "metadata": {
    "colab": {
     "base_uri": "https://localhost:8080/",
     "height": 34
    },
    "id": "O9-pQkHGZr4w",
    "outputId": "53687089-df5a-4029-f455-41377fa00c60"
   },
   "outputs": [
    {
     "data": {
      "text/html": [
       "<style>\n",
       ".list-inline {list-style: none; margin:0; padding: 0}\n",
       ".list-inline>li {display: inline-block}\n",
       ".list-inline>li:not(:last-child)::after {content: \"\\00b7\"; padding: 0 .5ex}\n",
       "</style>\n",
       "<ol class=list-inline><li>64</li><li>6830</li></ol>\n"
      ],
      "text/latex": [
       "\\begin{enumerate*}\n",
       "\\item 64\n",
       "\\item 6830\n",
       "\\end{enumerate*}\n"
      ],
      "text/markdown": [
       "1. 64\n",
       "2. 6830\n",
       "\n",
       "\n"
      ],
      "text/plain": [
       "[1]   64 6830"
      ]
     },
     "metadata": {},
     "output_type": "display_data"
    }
   ],
   "source": [
    "dim(nci_data)"
   ]
  },
  {
   "cell_type": "markdown",
   "metadata": {
    "id": "pbMKlc78Zr4x"
   },
   "source": [
    "Let's take a look at the cancer types for the cell lines:"
   ]
  },
  {
   "cell_type": "code",
   "execution_count": 19,
   "metadata": {
    "colab": {
     "base_uri": "https://localhost:8080/",
     "height": 136
    },
    "id": "5M-iG72SZr4z",
    "outputId": "a82c6ea8-cc34-490e-d0d4-0963feb79fe9"
   },
   "outputs": [
    {
     "data": {
      "text/plain": [
       "nci_labels\n",
       "     BREAST         CNS       COLON K562A-repro K562B-repro    LEUKEMIA \n",
       "          7           5           7           1           1           6 \n",
       "MCF7A-repro MCF7D-repro    MELANOMA       NSCLC     OVARIAN    PROSTATE \n",
       "          1           1           8           9           6           2 \n",
       "      RENAL     UNKNOWN \n",
       "          9           1 "
      ]
     },
     "metadata": {},
     "output_type": "display_data"
    }
   ],
   "source": [
    "table(nci_labels)"
   ]
  },
  {
   "cell_type": "markdown",
   "metadata": {
    "id": "qIRHM9HkZr42"
   },
   "source": [
    "# 10.6.2 Clustering the Observations of the NCI60 Data\n",
    "We now proceed to hierarchically cluster the cell lines in the `NCI60` data,\n",
    "with the goal of finding out whether or not the observations cluster into\n",
    "distinct types of cancer. To begin, we standardize the variables to have\n",
    "mean zero and standard deviation one. This step is\n",
    "optional, and need only be performed if we want each gene to be on the\n",
    "same scale:"
   ]
  },
  {
   "cell_type": "code",
   "execution_count": 20,
   "metadata": {
    "colab": {
     "base_uri": "https://localhost:8080/",
     "height": 1000
    },
    "id": "t-121GlIepRf",
    "outputId": "71520e05-09b1-4cb2-e263-a91e9b700af3"
   },
   "outputs": [
    {
     "data": {
      "text/html": [
       "<style>\n",
       ".list-inline {list-style: none; margin:0; padding: 0}\n",
       ".list-inline>li {display: inline-block}\n",
       ".list-inline>li:not(:last-child)::after {content: \"\\00b7\"; padding: 0 .5ex}\n",
       "</style>\n",
       "<ol class=list-inline><li>64</li><li>6830</li></ol>\n"
      ],
      "text/latex": [
       "\\begin{enumerate*}\n",
       "\\item 64\n",
       "\\item 6830\n",
       "\\end{enumerate*}\n"
      ],
      "text/markdown": [
       "1. 64\n",
       "2. 6830\n",
       "\n",
       "\n"
      ],
      "text/plain": [
       "[1]   64 6830"
      ]
     },
     "metadata": {},
     "output_type": "display_data"
    },
    {
     "data": {
      "text/html": [
       "<style>\n",
       ".list-inline {list-style: none; margin:0; padding: 0}\n",
       ".list-inline>li {display: inline-block}\n",
       ".list-inline>li:not(:last-child)::after {content: \"\\00b7\"; padding: 0 .5ex}\n",
       "</style>\n",
       "<ol class=list-inline><li>'CNS'</li><li>'CNS'</li><li>'CNS'</li><li>'RENAL'</li></ol>\n"
      ],
      "text/latex": [
       "\\begin{enumerate*}\n",
       "\\item 'CNS'\n",
       "\\item 'CNS'\n",
       "\\item 'CNS'\n",
       "\\item 'RENAL'\n",
       "\\end{enumerate*}\n"
      ],
      "text/markdown": [
       "1. 'CNS'\n",
       "2. 'CNS'\n",
       "3. 'CNS'\n",
       "4. 'RENAL'\n",
       "\n",
       "\n"
      ],
      "text/plain": [
       "[1] \"CNS\"   \"CNS\"   \"CNS\"   \"RENAL\""
      ]
     },
     "metadata": {},
     "output_type": "display_data"
    },
    {
     "data": {
      "text/plain": [
       "nci.labs\n",
       "     BREAST         CNS       COLON K562A-repro K562B-repro    LEUKEMIA \n",
       "          7           5           7           1           1           6 \n",
       "MCF7A-repro MCF7D-repro    MELANOMA       NSCLC     OVARIAN    PROSTATE \n",
       "          1           1           8           9           6           2 \n",
       "      RENAL     UNKNOWN \n",
       "          9           1 "
      ]
     },
     "metadata": {},
     "output_type": "display_data"
    },
    {
     "data": {
      "text/plain": [
       "Importance of components:\n",
       "                           PC1      PC2      PC3      PC4      PC5      PC6\n",
       "Standard deviation     27.8535 21.48136 19.82046 17.03256 15.97181 15.72108\n",
       "Proportion of Variance  0.1136  0.06756  0.05752  0.04248  0.03735  0.03619\n",
       "Cumulative Proportion   0.1136  0.18115  0.23867  0.28115  0.31850  0.35468\n",
       "                            PC7      PC8      PC9     PC10     PC11     PC12\n",
       "Standard deviation     14.47145 13.54427 13.14400 12.73860 12.68672 12.15769\n",
       "Proportion of Variance  0.03066  0.02686  0.02529  0.02376  0.02357  0.02164\n",
       "Cumulative Proportion   0.38534  0.41220  0.43750  0.46126  0.48482  0.50646\n",
       "                           PC13     PC14     PC15     PC16     PC17     PC18\n",
       "Standard deviation     11.83019 11.62554 11.43779 11.00051 10.65666 10.48880\n",
       "Proportion of Variance  0.02049  0.01979  0.01915  0.01772  0.01663  0.01611\n",
       "Cumulative Proportion   0.52695  0.54674  0.56590  0.58361  0.60024  0.61635\n",
       "                           PC19    PC20     PC21    PC22    PC23    PC24\n",
       "Standard deviation     10.43518 10.3219 10.14608 10.0544 9.90265 9.64766\n",
       "Proportion of Variance  0.01594  0.0156  0.01507  0.0148 0.01436 0.01363\n",
       "Cumulative Proportion   0.63229  0.6479  0.66296  0.6778 0.69212 0.70575\n",
       "                          PC25    PC26    PC27   PC28    PC29    PC30    PC31\n",
       "Standard deviation     9.50764 9.33253 9.27320 9.0900 8.98117 8.75003 8.59962\n",
       "Proportion of Variance 0.01324 0.01275 0.01259 0.0121 0.01181 0.01121 0.01083\n",
       "Cumulative Proportion  0.71899 0.73174 0.74433 0.7564 0.76824 0.77945 0.79027\n",
       "                          PC32    PC33    PC34    PC35    PC36    PC37    PC38\n",
       "Standard deviation     8.44738 8.37305 8.21579 8.15731 7.97465 7.90446 7.82127\n",
       "Proportion of Variance 0.01045 0.01026 0.00988 0.00974 0.00931 0.00915 0.00896\n",
       "Cumulative Proportion  0.80072 0.81099 0.82087 0.83061 0.83992 0.84907 0.85803\n",
       "                          PC39    PC40    PC41   PC42    PC43   PC44    PC45\n",
       "Standard deviation     7.72156 7.58603 7.45619 7.3444 7.10449 7.0131 6.95839\n",
       "Proportion of Variance 0.00873 0.00843 0.00814 0.0079 0.00739 0.0072 0.00709\n",
       "Cumulative Proportion  0.86676 0.87518 0.88332 0.8912 0.89861 0.9058 0.91290\n",
       "                         PC46    PC47    PC48    PC49    PC50    PC51    PC52\n",
       "Standard deviation     6.8663 6.80744 6.64763 6.61607 6.40793 6.21984 6.20326\n",
       "Proportion of Variance 0.0069 0.00678 0.00647 0.00641 0.00601 0.00566 0.00563\n",
       "Cumulative Proportion  0.9198 0.92659 0.93306 0.93947 0.94548 0.95114 0.95678\n",
       "                          PC53    PC54    PC55    PC56    PC57   PC58    PC59\n",
       "Standard deviation     6.06706 5.91805 5.91233 5.73539 5.47261 5.2921 5.02117\n",
       "Proportion of Variance 0.00539 0.00513 0.00512 0.00482 0.00438 0.0041 0.00369\n",
       "Cumulative Proportion  0.96216 0.96729 0.97241 0.97723 0.98161 0.9857 0.98940\n",
       "                          PC60    PC61    PC62    PC63      PC64\n",
       "Standard deviation     4.68398 4.17567 4.08212 4.04124 1.237e-14\n",
       "Proportion of Variance 0.00321 0.00255 0.00244 0.00239 0.000e+00\n",
       "Cumulative Proportion  0.99262 0.99517 0.99761 1.00000 1.000e+00"
      ]
     },
     "metadata": {},
     "output_type": "display_data"
    },
    {
     "data": {
      "image/png": "[encoded data removed]",
      "text/plain": [
       "plot without title"
      ]
     },
     "metadata": {
      "image/png": {
       "height": 420,
       "width": 420
      }
     },
     "output_type": "display_data"
    },
    {
     "data": {
      "image/png": "[encoded data removed]",
      "text/plain": [
       "Plot with title \"pr.out\""
      ]
     },
     "metadata": {
      "image/png": {
       "height": 420,
       "width": 420
      }
     },
     "output_type": "display_data"
    },
    {
     "data": {
      "image/png": "[encoded data removed]",
      "text/plain": [
       "plot without title"
      ]
     },
     "metadata": {
      "image/png": {
       "height": 420,
       "width": 420
      }
     },
     "output_type": "display_data"
    },
    {
     "data": {
      "text/plain": [
       "           nci.labs\n",
       "hc.clusters BREAST CNS COLON K562A-repro K562B-repro LEUKEMIA MCF7A-repro\n",
       "          1      2   3     2           0           0        0           0\n",
       "          2      3   2     0           0           0        0           0\n",
       "          3      0   0     0           1           1        6           0\n",
       "          4      2   0     5           0           0        0           1\n",
       "           nci.labs\n",
       "hc.clusters MCF7D-repro MELANOMA NSCLC OVARIAN PROSTATE RENAL UNKNOWN\n",
       "          1           0        8     8       6        2     8       1\n",
       "          2           0        0     1       0        0     1       0\n",
       "          3           0        0     0       0        0     0       0\n",
       "          4           1        0     0       0        0     0       0"
      ]
     },
     "metadata": {},
     "output_type": "display_data"
    },
    {
     "data": {
      "image/png": "[encoded data removed]",
      "text/plain": [
       "Plot with title \"Single Linkage\""
      ]
     },
     "metadata": {
      "image/png": {
       "height": 420,
       "width": 420
      }
     },
     "output_type": "display_data"
    },
    {
     "data": {
      "text/plain": [
       "\n",
       "Call:\n",
       "hclust(d = dist(sd.data))\n",
       "\n",
       "Cluster method   : complete \n",
       "Distance         : euclidean \n",
       "Number of objects: 64 \n"
      ]
     },
     "metadata": {},
     "output_type": "display_data"
    },
    {
     "data": {
      "text/plain": [
       "           hc.clusters\n",
       "km.clusters  1  2  3  4\n",
       "          1 11  0  0  9\n",
       "          2 20  7  0  0\n",
       "          3  9  0  0  0\n",
       "          4  0  0  8  0"
      ]
     },
     "metadata": {},
     "output_type": "display_data"
    },
    {
     "data": {
      "image/png": "[encoded data removed]",
      "text/plain": [
       "Plot with title \"Cluster Dendrogram\""
      ]
     },
     "metadata": {
      "image/png": {
       "height": 420,
       "width": 420
      }
     },
     "output_type": "display_data"
    },
    {
     "data": {
      "text/plain": [
       "   nci.labs\n",
       "    BREAST CNS COLON K562A-repro K562B-repro LEUKEMIA MCF7A-repro MCF7D-repro\n",
       "  1      0   2     7           0           0        2           0           0\n",
       "  2      5   3     0           0           0        0           0           0\n",
       "  3      0   0     0           1           1        4           0           0\n",
       "  4      2   0     0           0           0        0           1           1\n",
       "   nci.labs\n",
       "    MELANOMA NSCLC OVARIAN PROSTATE RENAL UNKNOWN\n",
       "  1        1     8       5        2     7       0\n",
       "  2        7     1       1        0     2       1\n",
       "  3        0     0       0        0     0       0\n",
       "  4        0     0       0        0     0       0"
      ]
     },
     "metadata": {},
     "output_type": "display_data"
    },
    {
     "data": {
      "image/png": "[encoded data removed]",
      "text/plain": [
       "Plot with title \"Hier. Clust. on First Five Score Vectors\""
      ]
     },
     "metadata": {
      "image/png": {
       "height": 420,
       "width": 420
      }
     },
     "output_type": "display_data"
    }
   ],
   "source": [
    "# The NCI60 data\n",
    "\n",
    "library(ISLR)\n",
    "nci.labs=NCI60$labs\n",
    "nci.data=NCI60$data\n",
    "dim(nci.data)\n",
    "nci.labs[1:4]\n",
    "table(nci.labs)\n",
    "\n",
    "# PCA on the NCI60 Data\n",
    "\n",
    "pr.out=prcomp(nci.data, scale=TRUE)\n",
    "Cols=function(vec){\n",
    "    cols=rainbow(length(unique(vec)))\n",
    "    return(cols[as.numeric(as.factor(vec))])\n",
    "  }\n",
    "par(mfrow=c(1,2))\n",
    "plot(pr.out$x[,1:2], col=Cols(nci.labs), pch=19,xlab=\"Z1\",ylab=\"Z2\")\n",
    "plot(pr.out$x[,c(1,3)], col=Cols(nci.labs), pch=19,xlab=\"Z1\",ylab=\"Z3\")\n",
    "summary(pr.out)\n",
    "plot(pr.out)\n",
    "pve=100*pr.out$sdev^2/sum(pr.out$sdev^2)\n",
    "par(mfrow=c(1,2))\n",
    "plot(pve,  type=\"o\", ylab=\"PVE\", xlab=\"Principal Component\", col=\"blue\")\n",
    "plot(cumsum(pve), type=\"o\", ylab=\"Cumulative PVE\", xlab=\"Principal Component\", col=\"brown3\")\n",
    "\n",
    "# Clustering the Observations of the NCI60 Data\n",
    "\n",
    "sd.data=scale(nci.data)\n",
    "par(mfrow=c(1,3))\n",
    "data.dist=dist(sd.data)\n",
    "plot(hclust(data.dist), labels=nci.labs, main=\"Complete Linkage\", xlab=\"\", sub=\"\",ylab=\"\")\n",
    "plot(hclust(data.dist, method=\"average\"), labels=nci.labs, main=\"Average Linkage\", xlab=\"\", sub=\"\",ylab=\"\")\n",
    "plot(hclust(data.dist, method=\"single\"), labels=nci.labs,  main=\"Single Linkage\", xlab=\"\", sub=\"\",ylab=\"\")\n",
    "hc.out=hclust(dist(sd.data))\n",
    "hc.clusters=cutree(hc.out,4)\n",
    "table(hc.clusters,nci.labs)\n",
    "par(mfrow=c(1,1))\n",
    "plot(hc.out, labels=nci.labs)\n",
    "abline(h=139, col=\"red\")\n",
    "hc.out\n",
    "set.seed(2)\n",
    "km.out=kmeans(sd.data, 4, nstart=20)\n",
    "km.clusters=km.out$cluster\n",
    "table(km.clusters,hc.clusters)\n",
    "hc.out=hclust(dist(pr.out$x[,1:5]))\n",
    "plot(hc.out, labels=nci.labs, main=\"Hier. Clust. on First Five Score Vectors\")\n",
    "table(cutree(hc.out,4), nci.labs)"
   ]
  },
  {
   "cell_type": "code",
   "execution_count": 21,
   "metadata": {
    "id": "6c85p7TxZr43"
   },
   "outputs": [],
   "source": [
    "scaled_nci_data = scale(nci_data)"
   ]
  },
  {
   "cell_type": "markdown",
   "metadata": {
    "id": "xZP6eSSHZr44"
   },
   "source": [
    "We now perform hierarchical clustering of the observations using complete,\n",
    "single, and average linkage. We'll use standard Euclidean distance as the dissimilarity\n",
    "measure:"
   ]
  },
  {
   "cell_type": "code",
   "execution_count": 28,
   "metadata": {
    "colab": {
     "base_uri": "https://localhost:8080/",
     "height": 95
    },
    "id": "jgh1uU8sZr48",
    "outputId": "8e20f3d6-7f04-49df-99b0-1062cd18ca44"
   },
   "outputs": [
    {
     "ename": "ERROR",
     "evalue": "Error in ggdendrogram(nci_hc_complete, rotate = FALSE, size = 2): could not find function \"ggdendrogram\"\n",
     "output_type": "error",
     "traceback": [
      "Error in ggdendrogram(nci_hc_complete, rotate = FALSE, size = 2): could not find function \"ggdendrogram\"\nTraceback:\n"
     ]
    }
   ],
   "source": [
    "nci_hc_complete = hclust(dist(scaled_nci_data), method = \"complete\")\n",
    "nci_hc_average = hclust(dist(scaled_nci_data), method = \"average\")\n",
    "nci_hc_single = hclust(dist(scaled_nci_data), method = \"single\")\n",
    "\n",
    "# Fix the bug\n",
    "plot_complete_nci = ggdendrogram(nci_hc_complete, rotate = FALSE, size = 2) + labs(title = \"NCI: Complete Linkage\") \n",
    "plot_average_nci = ggdendrogram(nci_hc_average, rotate = FALSE, size = 2) + labs(title = \"NCI: Average Linkage\")\n",
    "plot_single_nci = ggdendrogram(nci_hc_single, rotate = FALSE, size = 2) + labs(title = \"NCI: Single Linkage\")\n",
    "\n",
    "grid.arrange(plot_complete_nci, plot_average_nci, plot_single_nci)"
   ]
  },
  {
   "cell_type": "markdown",
   "metadata": {
    "id": "bX7mBdHcZr4-"
   },
   "source": [
    "We see that the choice of linkage\n",
    "certainly does affect the results obtained. Typically, single linkage will tend\n",
    "to yield trailing clusters: very large clusters onto which individual observations\n",
    "attach one-by-one. On the other hand, complete and average linkage\n",
    "tend to yield more balanced, attractive clusters. For this reason, complete\n",
    "and average linkage are generally preferred to single linkage. Clearly cell\n",
    "lines within a single cancer type do tend to cluster together, although the\n",
    "clustering is not perfect. \n",
    "\n",
    "Let's use our complete linkage hierarchical clustering\n",
    "for the analysis. We can cut the dendrogram at the height that will yield a particular\n",
    "number of clusters, say 4:"
   ]
  },
  {
   "cell_type": "code",
   "execution_count": 23,
   "metadata": {
    "id": "Xxk4LpTHZr4_"
   },
   "outputs": [
    {
     "data": {
      "text/plain": [
       "             hc_clusters\n",
       "nci_labels    1 2 3 4\n",
       "  BREAST      2 3 0 2\n",
       "  CNS         3 2 0 0\n",
       "  COLON       2 0 0 5\n",
       "  K562A-repro 0 0 1 0\n",
       "  K562B-repro 0 0 1 0\n",
       "  LEUKEMIA    0 0 6 0\n",
       "  MCF7A-repro 0 0 0 1\n",
       "  MCF7D-repro 0 0 0 1\n",
       "  MELANOMA    8 0 0 0\n",
       "  NSCLC       8 1 0 0\n",
       "  OVARIAN     6 0 0 0\n",
       "  PROSTATE    2 0 0 0\n",
       "  RENAL       8 1 0 0\n",
       "  UNKNOWN     1 0 0 0"
      ]
     },
     "metadata": {},
     "output_type": "display_data"
    }
   ],
   "source": [
    "hc_clusters = cutree(nci_hc_complete, 4)\n",
    "table(nci_labels, hc_clusters)"
   ]
  },
  {
   "cell_type": "markdown",
   "metadata": {
    "id": "o6gbTB41Zr5B"
   },
   "source": [
    "There are some clear patterns. All the leukemia cell lines fall in cluster 3,\n",
    "while the breast cancer cell lines are spread out over three different clusters.\n",
    "We can plot the cut on the dendrogram that produces these four clusters by adding a `geom_hline()`, which draws a horizontal line on top of our plot:"
   ]
  },
  {
   "cell_type": "code",
   "execution_count": 24,
   "metadata": {
    "id": "Gyf45336Zr5B"
   },
   "outputs": [
    {
     "ename": "ERROR",
     "evalue": "Error in ggdendrogram(nci_hc_complete, rotate = FALSE, size = 2): could not find function \"ggdendrogram\"\n",
     "output_type": "error",
     "traceback": [
      "Error in ggdendrogram(nci_hc_complete, rotate = FALSE, size = 2): could not find function \"ggdendrogram\"\nTraceback:\n"
     ]
    }
   ],
   "source": [
    "ggdendrogram(nci_hc_complete, rotate = FALSE, size = 2) + \n",
    "    labs(title = \"NCI: Complete Linkage\") +\n",
    "    geom_hline(yintercept = 139, color = \"red\")"
   ]
  },
  {
   "cell_type": "markdown",
   "metadata": {
    "id": "i6w6RaXNZr5C"
   },
   "source": [
    "Printing the output of `hclust` gives a useful brief summary of the object:"
   ]
  },
  {
   "cell_type": "code",
   "execution_count": 25,
   "metadata": {
    "id": "v_LGZh0cZr5C"
   },
   "outputs": [
    {
     "data": {
      "text/plain": [
       "\n",
       "Call:\n",
       "hclust(d = dist(scaled_nci_data), method = \"complete\")\n",
       "\n",
       "Cluster method   : complete \n",
       "Distance         : euclidean \n",
       "Number of objects: 64 \n"
      ]
     },
     "metadata": {},
     "output_type": "display_data"
    }
   ],
   "source": [
    "nci_hc_complete"
   ]
  },
  {
   "cell_type": "markdown",
   "metadata": {
    "id": "tvJhO-crZr5D"
   },
   "source": [
    "We claimed earlier that K-means clustering and hierarchical\n",
    "clustering with the dendrogram cut to obtain the same number\n",
    "of clusters can yield **very** different results. How do these `NCI60` hierarchical\n",
    "clustering results compare to what we get if we perform K-means clustering\n",
    "with `K = 4`?"
   ]
  },
  {
   "cell_type": "code",
   "execution_count": 26,
   "metadata": {
    "id": "3mz1VM3jZr5D"
   },
   "outputs": [],
   "source": [
    "set.seed(2)\n",
    "km_out = kmeans(scaled_nci_data, 4, nstart = 20)\n",
    "km_clusters = km_out$cluster"
   ]
  },
  {
   "cell_type": "markdown",
   "metadata": {
    "id": "pG7VbxOKZr5E"
   },
   "source": [
    "We can use a confusion matrix to compare the differences in how the two methods assigned observations to clusters:"
   ]
  },
  {
   "cell_type": "code",
   "execution_count": 27,
   "metadata": {
    "id": "B4-esGr-Zr5E"
   },
   "outputs": [
    {
     "data": {
      "text/plain": [
       "           hc_clusters\n",
       "km_clusters  1  2  3  4\n",
       "          1 11  0  0  9\n",
       "          2 20  7  0  0\n",
       "          3  9  0  0  0\n",
       "          4  0  0  8  0"
      ]
     },
     "metadata": {},
     "output_type": "display_data"
    }
   ],
   "source": [
    "table(km_clusters, hc_clusters)"
   ]
  },
  {
   "cell_type": "markdown",
   "metadata": {
    "id": "hGG55yRXZr5F"
   },
   "source": [
    "We see that the four clusters obtained using hierarchical clustering and Kmeans\n",
    "clustering are somewhat different. Cluster 2 in K-means clustering is\n",
    "identical to cluster 3 in hierarchical clustering. However, the other clusters\n",
    "differ: for instance, cluster 4 in K-means clustering contains a portion of\n",
    "the observations assigned to cluster 1 by hierarchical clustering, as well as\n",
    "all of the observations assigned to cluster 2 by hierarchical clustering."
   ]
  },
  {
   "cell_type": "markdown",
   "metadata": {
    "id": "iMrFcJDNagsC"
   },
   "source": [
    "Reference: http://www.science.smith.edu/~jcrouser/SDS293/labs/\n",
    "\n",
    "It was re-implemented in Fall 2016 in `tidyverse` format by Amelia McNamara and R. Jordan Crouser at Smith College."
   ]
  },
  {
   "cell_type": "code",
   "execution_count": null,
   "metadata": {},
   "outputs": [],
   "source": []
  }
 ],
 "metadata": {
  "anaconda-cloud": {},
  "colab": {
   "collapsed_sections": [],
   "name": "ISLR_Ch10_Lab_R",
   "provenance": []
  },
  "kernelspec": {
   "display_name": "R",
   "language": "R",
   "name": "ir"
  },
  "language_info": {
   "codemirror_mode": "r",
   "file_extension": ".r",
   "mimetype": "text/x-r-source",
   "name": "R",
   "pygments_lexer": "r",
   "version": "3.6.1"
  }
 },
 "nbformat": 4,
 "nbformat_minor": 1
}
