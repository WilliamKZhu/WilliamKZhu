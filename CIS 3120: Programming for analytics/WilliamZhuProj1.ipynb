{
 "cells": [
  {
   "cell_type": "code",
   "execution_count": 17,
   "metadata": {},
   "outputs": [],
   "source": [
    "import pandas as pd\n",
    "import requests\n",
    "from bs4 import BeautifulSoup"
   ]
  },
  {
   "cell_type": "code",
   "execution_count": 18,
   "metadata": {},
   "outputs": [],
   "source": [
    "#mens volleyball\n",
    "brooklynvb_m = \"http://www.brooklyncollegeathletics.com/sports/mens-volleyball/roster/2019\"\n",
    "baruchvb_m = \"http://athletics.baruch.cuny.edu/sports/mens-volleyball/roster\"\n",
    "yorkvb_m =  \"http://yorkathletics.com/sports/mens-volleyball/roster\"\n",
    "#women vball\n",
    "brookylnvb_w = \"https://www.brooklyncollegeathletics.com/sports/womens-volleyball/roster/2019\"\n",
    "baruchvb_w = \"https://athletics.baruch.cuny.edu/sports/womens-volleyball/roster\"\n",
    "johnjayvb_w = \"https://johnjayathletics.com/sports/womens-volleyball/roster\"\n",
    "#men swimming\n",
    "brooklyns_m=\"https://www.brooklyncollegeathletics.com/sports/mens-swimming-and-diving/roster\"\n",
    "baruchs_m = \"https://athletics.baruch.cuny.edu/sports/mens-swimming-and-diving/roster\"\n",
    "yorks_m = \"https://yorkathletics.com/sports/mens-swimming-and-diving/roster\"\n",
    "#women swim\n",
    "brooklyns_w = \"https://www.brooklyncollegeathletics.com/sports/womens-swimming-and-diving/roster\"\n",
    "baruchs_w = \"https://athletics.baruch.cuny.edu/sports/womens-swimming-and-diving/roster\"\n",
    "qcs_w = \"https://queensknights.com/sports/womens-swimming-and-diving/roster\""
   ]
  },
  {
   "cell_type": "code",
   "execution_count": 53,
   "metadata": {},
   "outputs": [],
   "source": [
    "#function for height\n",
    "def height (url):\n",
    "    page= requests.get(url , verify=True)\n",
    "    soup = BeautifulSoup(page.content,'html.parser')\n",
    "    height = soup.findAll('span', class_ = \"sidearm-roster-player-height\")\n",
    "    roster_height=[]\n",
    "    for x in height:\n",
    "        roster_height.append(x.get_text())\n",
    "        #splitting standard imperial height into two categories. (ft)\n",
    "        ft= [(num.split(\"'\")[0])for num in roster_height]\n",
    "         #splitting standard imperial height into two categories. (inches)\n",
    "        inch1= [(num.split(\"'\")[1])for num in roster_height]\n",
    "        #replacing '\"' characters\n",
    "        inch = [char.replace('\"', \" \")for char in inch1]\n",
    "        #creating a loop to convert imperial system into metric (cm)\n",
    "        for num in range (0, len(ft)):\n",
    "            ft[num]= float(ft[num])* 30.48\n",
    "            inch[num]= float(inch[num])*2.54\n",
    "    #adding ft converted into cm, and in converted into cm for a total height\n",
    "    totalcm=  [ft + inch for ft, inch in zip (ft,inch)]\n",
    "    #there are dulplicate heights for every player. dividing roster_height by half to fix this issue\n",
    "    totalcm= totalcm[:len(totalcm)//2]\n",
    "    #returning the heights (cm) of players\n",
    "    return totalcm"
   ]
  },
  {
   "cell_type": "code",
   "execution_count": 49,
   "metadata": {},
   "outputs": [],
   "source": [
    "#creating a function for names\n",
    "def name (url):\n",
    "    page= requests.get (url, verify = True)\n",
    "    soup= BeautifulSoup(page.content,'html.parser')\n",
    "    name= soup.findAll('div', class_=\"sidearm-roster-player-name\")\n",
    "    roster_name=[]\n",
    "  \n",
    "    for x in name:\n",
    "        #removing extra characters from scrapped names.\n",
    "        #for some reason there are instances where heights have no names. \n",
    "        roster_name = [item.replace(\"\\n\", \"\") for item in roster_name]\n",
    "        roster_name = [item.replace(\"\\r\", \"\") for item in roster_name]\n",
    "        roster_name = [item.replace(\"\\t\", \"\") for item in roster_name]\n",
    "        roster_name = [item.replace(\" \", \"\") for item in roster_name]\n",
    "        #appending names into roster_name while stripping \\n.\n",
    "        roster_name.append(x.get_text().rstrip(\"\\n\"))\n",
    "    return roster_name\n"
   ]
  },
  {
   "cell_type": "code",
   "execution_count": 36,
   "metadata": {
    "scrolled": true
   },
   "outputs": [],
   "source": [
    "def dataframe (name,height):\n",
    "    #creating a dataframe\n",
    "    df= pd.DataFrame()\n",
    "    #plugging in the name and height function into dataframe df\n",
    "    df[\"Name\"]= name\n",
    "    df[\"Height\"]= height\n",
    "    #return dataframe with name and height \n",
    "    return df"
   ]
  },
  {
   "cell_type": "code",
   "execution_count": 37,
   "metadata": {
    "scrolled": true
   },
   "outputs": [],
   "source": [
    "#combining three dataframes into main\n",
    "def main(url1,url2,url3):\n",
    "    url1=dataframe(name(url1),height(url1))\n",
    "    url2=dataframe(name(url2),height(url2))\n",
    "    url3=dataframe(name(url3),height(url3))\n",
    "    #dataframe containing 3 teams\n",
    "    category=pd.concat([url1,url2,url3])\n",
    "    #sorting by decending order, sorted by height\n",
    "    category.sort_values(by =\"Height\",ascending= False, inplace= True)\n",
    "    #returns the tallest, shortest, the mean height, and total roster in each category\n",
    "    return category.head(), category.tail(), category.mean(), category"
   ]
  },
  {
   "cell_type": "code",
   "execution_count": 54,
   "metadata": {
    "scrolled": true
   },
   "outputs": [
    {
     "data": {
      "text/plain": [
       "(                    Name  Height\n",
       " 12     14LeonPetrovitsky  195.58\n",
       " 9          11ArtemZinkin  195.58\n",
       " 4            6AkilVaughn  195.58\n",
       " 11     13CarlosRodriguez  193.04\n",
       " 11  14GuillermoHernandez  193.04,\n",
       "                 Name  Height\n",
       " 2       4ShawnNemoto  170.18\n",
       " 1     3JuanRodriguez  167.64\n",
       " 0         2JohnVitor  167.64\n",
       " 0      2SnigdhoHasan  165.10\n",
       " 6  8JaydenDeokinanan  162.56,\n",
       " Height    182.88\n",
       " dtype: float64,\n",
       "                                                  Name  Height\n",
       " 12                                  14LeonPetrovitsky  195.58\n",
       " 9                                       11ArtemZinkin  195.58\n",
       " 4                                         6AkilVaughn  195.58\n",
       " 11                                  13CarlosRodriguez  193.04\n",
       " 11                               14GuillermoHernandez  193.04\n",
       " 10                                   12MichaelHiggins  193.04\n",
       " 1                                     2AndrewTsororos  193.04\n",
       " 7                                     9MambeKoureissi  193.04\n",
       " 9                                       12OlawaleKila  193.04\n",
       " 5                                     6DavidSirchenko  190.50\n",
       " 15                                     17MeniMusheyev  190.50\n",
       " 14                                        16EvanTakos  190.50\n",
       " 6                                     14GabrielPjatak  190.50\n",
       " 4                                    5CEdwardGrinberg  187.96\n",
       " 5                                        13OmarRezika  187.96\n",
       " 4                                     9SayujZachariah  187.96\n",
       " 16  \\n\\n\\r\\n                                      ...  187.96\n",
       " 10                                13DavidHeyliger,Jr.  185.42\n",
       " 13                                        15DefengHan  185.42\n",
       " 12                                 15FatmirGlavatovic  182.88\n",
       " 6                                   7CStalloneShankar  182.88\n",
       " 2                                       3CStevenLopez  182.88\n",
       " 8   \\n\\n\\r\\n                                      ...  182.88\n",
       " 2                                       4AndresVargas  182.88\n",
       " 7                                        16RyanChabel  180.34\n",
       " 5                                         7JustinSaji  177.80\n",
       " 7                                 9RabsangAndrugtsang  177.80\n",
       " 3                                        4SonamDorjee  177.80\n",
       " 3                                      7JasperDiangco  177.80\n",
       " 1                                    3MichaelValentin  175.26\n",
       " 8                                         10HanbinLee  175.26\n",
       " 0                                          1QiQinZeng  175.26\n",
       " 8                                10AnthonyNazario,Jr.  175.26\n",
       " 13  \\n\\n\\r\\n                                      ...  172.72\n",
       " 3                                        5ErickOrtega  172.72\n",
       " 2                                        4ShawnNemoto  170.18\n",
       " 1                                      3JuanRodriguez  167.64\n",
       " 0                                          2JohnVitor  167.64\n",
       " 0                                       2SnigdhoHasan  165.10\n",
       " 6                                   8JaydenDeokinanan  162.56)"
      ]
     },
     "execution_count": 54,
     "metadata": {},
     "output_type": "execute_result"
    }
   ],
   "source": [
    "#calling the main function which returns all men volleyball players\n",
    "main(brooklynvb_m,baruchvb_m , yorkvb_m)"
   ]
  },
  {
   "cell_type": "code",
   "execution_count": 39,
   "metadata": {
    "scrolled": true
   },
   "outputs": [
    {
     "data": {
      "text/plain": [
       "(                  Name  Height\n",
       " 7       15AutumnReeves  187.96\n",
       " 8      16SophiaWheelan  182.88\n",
       " 3      4ClaudiaDaporta  182.88\n",
       " 4  12CMirialisAlmanzar  182.88\n",
       " 5      7/7MadisonCronk  180.34,\n",
       "                          Name  Height\n",
       " 1         2JasminVidalVentura  157.48\n",
       " 6                  8LaurieLee  157.48\n",
       " 11                  13CadyXia  154.94\n",
       " 9   12SavannaKoutsakis-Keener  154.94\n",
       " 5                  6YoungGiGo  152.40,\n",
       " Height    168.442105\n",
       " dtype: float64,\n",
       "                                                  Name  Height\n",
       " 7                                      15AutumnReeves  187.96\n",
       " 8                                     16SophiaWheelan  182.88\n",
       " 3                                     4ClaudiaDaporta  182.88\n",
       " 4                                 12CMirialisAlmanzar  182.88\n",
       " 5                                     7/7MadisonCronk  180.34\n",
       " 4                                      5CAnitaSengara  180.34\n",
       " 11               14              MeganOrtiz-Mengedoht  177.80\n",
       " 0                                           1YijiaCai  177.80\n",
       " 1                                     2NiovisMonsanto  177.80\n",
       " 9                        17              KarenSumlang  172.72\n",
       " 7                                      9NoheliaCedeno  172.72\n",
       " 13  \\n\\n\\r\\n                                      ...  170.18\n",
       " 1                                       2/2AshleyFung  170.18\n",
       " 10  \\n\\n\\r\\n                                      ...  170.18\n",
       " 5                                   13JamarieSilverio  170.18\n",
       " 8                                     10AlejandraChen  170.18\n",
       " 9                                       10SanaaHadjeb  170.18\n",
       " 3                           11/20HaleyPotvin-Sanjurjo  167.64\n",
       " 2                                       3CStellaChung  167.64\n",
       " 12                             16              AdaCao  167.64\n",
       " 6                                     14FreyshaRivera  167.64\n",
       " 7                                     8AnesaFeratovic  167.64\n",
       " 2                                          3RainZhang  167.64\n",
       " 0                                      1InesaShimcani  165.10\n",
       " 8                                         9ClaudiaMoi  165.10\n",
       " 4                                           6EzriShor  165.10\n",
       " 10                                         11CindyCui  162.56\n",
       " 12  \\n\\n\\r\\n                                      ...  162.56\n",
       " 10                                    13AlanisGuinada  162.56\n",
       " 6                                           7WaiChang  162.56\n",
       " 3                                  4YanaShaposhnikova  160.02\n",
       " 0                                      1StephanyChhay  157.48\n",
       " 2                                    3SonamNematullah  157.48\n",
       " 1                                 2JasminVidalVentura  157.48\n",
       " 6                                          8LaurieLee  157.48\n",
       " 11                                          13CadyXia  154.94\n",
       " 9                           12SavannaKoutsakis-Keener  154.94\n",
       " 5                                          6YoungGiGo  152.40)"
      ]
     },
     "execution_count": 39,
     "metadata": {},
     "output_type": "execute_result"
    }
   ],
   "source": [
    "#calling the main function which returns all woman volleyball players\n",
    "main(brookylnvb_w,baruchvb_w,  johnjayvb_w)"
   ]
  },
  {
   "cell_type": "code",
   "execution_count": null,
   "metadata": {
    "scrolled": true
   },
   "outputs": [],
   "source": [
    "#calling the main function which returns all men swim team\n",
    "main(brooklyns_m, baruchs_m,   yorks_m)"
   ]
  },
  {
   "cell_type": "code",
   "execution_count": null,
   "metadata": {
    "scrolled": true
   },
   "outputs": [],
   "source": [
    "#calling the main function which returns all woman swim team\n",
    "main(brooklyns_w, baruchs_w,   qcs_w)"
   ]
  },
  {
   "cell_type": "code",
   "execution_count": 55,
   "metadata": {},
   "outputs": [
    {
     "name": "stdout",
     "output_type": "stream",
     "text": [
      "172.1625\n",
      "175.66\n"
     ]
    }
   ],
   "source": [
    "#finding avg height of swimmer and volleyball players.\n",
    "swim_avg=(164.719+179.606)\n",
    "print(swim_avg/2)\n",
    "volleyball_avg=182.88+168.44\n",
    "print(volleyball_avg/2)\n",
    "#on average, volleyball players are taller. this follows the same trend as homework#1"
   ]
  },
  {
   "cell_type": "code",
   "execution_count": 16,
   "metadata": {},
   "outputs": [
    {
     "name": "stdout",
     "output_type": "stream",
     "text": [
      "175.66\n"
     ]
    }
   ],
   "source": []
  },
  {
   "cell_type": "code",
   "execution_count": null,
   "metadata": {},
   "outputs": [],
   "source": []
  }
 ],
 "metadata": {
  "kernelspec": {
   "display_name": "Python 3",
   "language": "python",
   "name": "python3"
  },
  "language_info": {
   "codemirror_mode": {
    "name": "ipython",
    "version": 3
   },
   "file_extension": ".py",
   "mimetype": "text/x-python",
   "name": "python",
   "nbconvert_exporter": "python",
   "pygments_lexer": "ipython3",
   "version": "3.8.5"
  }
 },
 "nbformat": 4,
 "nbformat_minor": 4
}
